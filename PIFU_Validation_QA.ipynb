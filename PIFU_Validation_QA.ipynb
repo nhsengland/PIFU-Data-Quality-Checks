{
 "cells": [
  {
   "cell_type": "code",
   "execution_count": 0,
   "metadata": {
    "application/vnd.databricks.v1+cell": {
     "cellMetadata": {
      "byteLimit": 2048000,
      "rowLimit": 10000
     },
     "inputWidgets": {},
     "nuid": "2f84302a-48af-4709-a9d4-4dbb4fc701cd",
     "showTitle": false,
     "tableResultSettingsMap": {},
     "title": ""
    }
   },
   "outputs": [],
   "source": [
    "#Import the tools\n",
    "#from env import env, not used for this notebook\n",
    "from src import utils, excel\n",
    "\n",
    "import openpyxl\n",
    "import pandas as pd\n",
    "\n",
    "from pyspark.sql import functions as F\n",
    "from datetime import datetime\n",
    "from openpyxl.styles import NamedStyle\n"
   ]
  },
  {
   "cell_type": "code",
   "execution_count": 0,
   "metadata": {
    "application/vnd.databricks.v1+cell": {
     "cellMetadata": {
      "byteLimit": 2048000,
      "rowLimit": 10000
     },
     "inputWidgets": {},
     "nuid": "47baae17-11df-4bb2-aa30-57b800602a50",
     "showTitle": false,
     "tableResultSettingsMap": {
      "0": {
       "dataGridStateBlob": "{\"version\":1,\"tableState\":{\"columnPinning\":{\"left\":[\"#row_number#\"],\"right\":[]},\"columnSizing\":{},\"columnVisibility\":{}},\"settings\":{\"columns\":{}},\"syncTimestamp\":1752593216774}",
       "filterBlob": null,
       "queryPlanFiltersBlob": null,
       "tableResultIndex": 0
      }
     },
     "title": ""
    }
   },
   "outputs": [],
   "source": [
    "# Load PIFU data\n",
    "from pyspark.sql import functions as F\n",
    "\n",
    "# Load data\n",
    "df_pifu_qa = spark.read.format('delta').load(\n",
    "    'abfss://analytics-projects@udalstdataanalysisprod.dfs.core.windows.net/ElectiveRecovery/Projects/PIFU_Validation'\n",
    ")\n",
    "\n",
    "\n",
    "df_pifu_qa.display()"
   ]
  },
  {
   "cell_type": "code",
   "execution_count": 0,
   "metadata": {
    "application/vnd.databricks.v1+cell": {
     "cellMetadata": {
      "byteLimit": 2048000,
      "rowLimit": 10000
     },
     "inputWidgets": {},
     "nuid": "31ff8504-b393-481d-b4ec-818795d28685",
     "showTitle": false,
     "tableResultSettingsMap": {},
     "title": ""
    }
   },
   "outputs": [],
   "source": [
    "from pyspark.sql import functions as F\n",
    "\n",
    "# Creating the monthly & Org sheet data frame\n",
    "df_moved_discharged = (\n",
    "    df_pifu_qa\n",
    "    .where(F.col(\"EROC_DerMetric\").isin(\"PIFUSRTMV01\", \"PIFUSRTDC01\"))\n",
    "    .where(F.col(\"EROC_DerMonth\") > '2023-03-01')\n",
    "    .where(F.col(\"EROC_Latest_Flag\") == 1)  # confirmed correct\n",
    "    .groupby(\n",
    "        \"EROC_DerMonth\",\n",
    "        \"EROC_DerProviderCode\",\n",
    "        \"EROC_DerTFC\",\n",
    "        \"RegionName\",\n",
    "        \"EROC_DerMetric\"\n",
    "    )\n",
    "    .agg(F.sum(\"EROC_Value\").alias(\"Value\"))\n",
    "    .orderBy(\n",
    "        \"EROC_DerMonth\",\n",
    "        \"EROC_DerProviderCode\"\n",
    "    )\n",
    ")\n",
    "\n",
    "df_moved_discharged.display()\n"
   ]
  },
  {
   "cell_type": "code",
   "execution_count": 0,
   "metadata": {
    "application/vnd.databricks.v1+cell": {
     "cellMetadata": {
      "byteLimit": 2048000,
      "rowLimit": 10000
     },
     "inputWidgets": {},
     "nuid": "0235b10e-a220-4a56-bd67-43b41ffc8ef2",
     "showTitle": false,
     "tableResultSettingsMap": {
      "0": {
       "dataGridStateBlob": "{\"version\":1,\"tableState\":{\"columnPinning\":{\"left\":[\"#row_number#\"],\"right\":[]},\"columnSizing\":{},\"columnVisibility\":{}},\"settings\":{\"columns\":{}},\"syncTimestamp\":1752592489301}",
       "filterBlob": null,
       "queryPlanFiltersBlob": null,
       "tableResultIndex": 0
      }
     },
     "title": ""
    }
   },
   "outputs": [],
   "source": [
    "spark.conf.set(\"spark.sql.legacy.timeParserPolicy\", \"LEGACY\")#create the pivoted data frame\n",
    "\n",
    "df_pivoted = (\n",
    "    df_moved_discharged\n",
    "    .groupBy(\"EROC_DerMonth\", \"RegionName\", \"EROC_DerProviderCode\")\n",
    "    .pivot(\"EROC_DerMetric\")  # creates columns for each metric\n",
    "    .agg(F.first(\"Value\"))    # or F.sum if there are multiple rows\n",
    "    .na.fill(0)  # replace nulls with 0\n",
    "    .orderBy(\"EROC_DerMonth\", \"RegionName\", \"EROC_DerProviderCode\")\n",
    ")\n",
    "\n",
    "df_pivoted.display()\n"
   ]
  },
  {
   "cell_type": "code",
   "execution_count": 0,
   "metadata": {
    "application/vnd.databricks.v1+cell": {
     "cellMetadata": {
      "byteLimit": 2048000,
      "rowLimit": 10000
     },
     "inputWidgets": {},
     "nuid": "80725953-6122-486e-9698-e558ead0bf54",
     "showTitle": false,
     "tableResultSettingsMap": {},
     "title": ""
    }
   },
   "outputs": [],
   "source": [
    "dbutils.widgets.removeAll()"
   ]
  },
  {
   "cell_type": "code",
   "execution_count": 0,
   "metadata": {
    "application/vnd.databricks.v1+cell": {
     "cellMetadata": {
      "byteLimit": 2048000,
      "rowLimit": 10000
     },
     "inputWidgets": {},
     "nuid": "f7a630dd-732a-4a7e-9d07-29dfd39e2894",
     "showTitle": false,
     "tableResultSettingsMap": {},
     "title": ""
    }
   },
   "outputs": [],
   "source": [
    "# Creating the chart \n",
    "from pyspark.sql.functions import to_date, col\n",
    "from datetime import datetime\n",
    "import plotly.express as px\n",
    "\n",
    "# Step 0: Optional cleanup (reset widgets for proper order — safe in dashboards)\n",
    "dbutils.widgets.removeAll()\n",
    "\n",
    "# Step 1: Convert date string to proper date type\n",
    "df_moved_discharged = df_moved_discharged.withColumn(\n",
    "    \"EROC_DerMonth\", to_date(col(\"EROC_DerMonth\"), \"yyyy-MM-dd\")\n",
    ")\n",
    "\n",
    "# Step 2: Register the DataFrame as a temp SQL view\n",
    "df_moved_discharged.createOrReplaceTempView(\"moved_discharged\")\n",
    "\n",
    "# Step 3: Get base DataFrame with valid rows\n",
    "df_line_chart = spark.sql(\"\"\"\n",
    "    SELECT\n",
    "        EROC_DerMonth,\n",
    "        EROC_DerProviderCode,\n",
    "        EROC_DerMetric,\n",
    "        Value\n",
    "    FROM\n",
    "        moved_discharged\n",
    "    WHERE\n",
    "        EROC_DerMonth IS NOT NULL\n",
    "        AND EROC_DerProviderCode IS NOT NULL\n",
    "        AND EROC_DerMetric IS NOT NULL\n",
    "\"\"\")\n",
    "\n",
    "# Step 4: Fetch distinct values and date range\n",
    "valid_providers = sorted(set(str(p[0]) for p in df_line_chart.select(\"EROC_DerProviderCode\").distinct().collect()))\n",
    "valid_metrics = sorted(set(str(m[0]) for m in df_line_chart.select(\"EROC_DerMetric\").distinct().collect()))\n",
    "min_date, max_date = df_line_chart.selectExpr(\"min(EROC_DerMonth)\", \"max(EROC_DerMonth)\").first()\n"
   ]
  },
  {
   "cell_type": "code",
   "execution_count": 0,
   "metadata": {
    "application/vnd.databricks.v1+cell": {
     "cellMetadata": {
      "byteLimit": 2048000,
      "rowLimit": 10000
     },
     "inputWidgets": {},
     "nuid": "920324b5-984f-4003-9743-25a28fd0b4b8",
     "showTitle": false,
     "tableResultSettingsMap": {},
     "title": ""
    }
   },
   "outputs": [],
   "source": [
    "#Step 5 # 1. Provider dropdown\n",
    "valid_providers = sorted(set(str(p[0]) for p in df_line_chart.select(\"EROC_DerProviderCode\").distinct().collect()))\n",
    "dbutils.widgets.dropdown(\"1_Provider\", \"All\", [\"All\"] + valid_providers)\n",
    "\n",
    "# 2. Metric dropdown\n",
    "valid_metrics = sorted(set(str(m[0]) for m in df_line_chart.select(\"EROC_DerMetric\").distinct().collect()))\n",
    "dbutils.widgets.dropdown(\"2_Metric\", \"All\", [\"All\"] + valid_metrics)\n",
    "\n",
    "# 3. Start date text box\n",
    "min_date = df_line_chart.selectExpr(\"min(EROC_DerMonth)\").first()[0]\n",
    "dbutils.widgets.text(\"3_StartDate\", min_date.strftime(\"%Y-%m-%d\") if min_date else \"\")\n",
    "\n",
    "# 4. End date text box\n",
    "max_date = df_line_chart.selectExpr(\"max(EROC_DerMonth)\").first()[0]\n",
    "dbutils.widgets.text(\"4_EndDate\", max_date.strftime(\"%Y-%m-%d\") if max_date else \"\")\n",
    "\n",
    "# 5. Region dropdown\n",
    "#if \"RegionName\" in df_line_chart.columns:\n",
    "   # valid_regions = sorted(set(str(r[0]) for r in df_line_chart.select(\"RegionName\").distinct().collect() if r[0] is not None))\n",
    "    #dbutils.widgets.dropdown(\"5_Region\", \"All\", [\"All\"] + valid_regions)"
   ]
  },
  {
   "cell_type": "code",
   "execution_count": 0,
   "metadata": {
    "application/vnd.databricks.v1+cell": {
     "cellMetadata": {
      "byteLimit": 2048000,
      "rowLimit": 10000
     },
     "inputWidgets": {},
     "nuid": "0a06d1e4-c902-42bb-9b30-af6c9b0ecb60",
     "showTitle": false,
     "tableResultSettingsMap": {},
     "title": ""
    }
   },
   "outputs": [
    {
     "output_type": "display_data",
     "data": {
      "text/plain": [
       "Databricks visualization. Run in Databricks to view."
      ]
     },
     "metadata": {
      "application/vnd.databricks.v1.subcommand+json": {
       "baseErrorDetails": null,
       "bindings": {},
       "collapsed": false,
       "command": "%python\n__backend_agg_display_orig = display\n__backend_agg_dfs = []\ndef __backend_agg_display_new(df):\n    __backend_agg_df_modules = [\"pandas.core.frame\", \"databricks.koalas.frame\", \"pyspark.sql.dataframe\", \"pyspark.pandas.frame\", \"pyspark.sql.connect.dataframe\"]\n    if (type(df).__module__ in __backend_agg_df_modules and type(df).__name__ == 'DataFrame') or isinstance(df, list):\n        __backend_agg_dfs.append(df)\n\ndisplay = __backend_agg_display_new\n\ndef __backend_agg_user_code_fn():\n    import base64\n    exec(base64.standard_b64decode(\"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\").decode())\n\ntry:\n    # run user code\n    __backend_agg_user_code_fn()\n\n    #reset display function\n    display = __backend_agg_display_orig\n\n    if len(__backend_agg_dfs) > 0:\n        # create a temp view\n        if type(__backend_agg_dfs[0]).__module__ == \"databricks.koalas.frame\":\n            # koalas dataframe\n            __backend_agg_dfs[0].to_spark().createOrReplaceTempView(\"DatabricksView4b74419\")\n        elif type(__backend_agg_dfs[0]).__module__ == \"pandas.core.frame\" or isinstance(__backend_agg_dfs[0], list):\n            # pandas dataframe\n            spark.createDataFrame(__backend_agg_dfs[0]).createOrReplaceTempView(\"DatabricksView4b74419\")\n        else:\n            __backend_agg_dfs[0].createOrReplaceTempView(\"DatabricksView4b74419\")\n        #run backend agg\n        display(spark.sql(\"\"\"WITH q AS (select * from DatabricksView4b74419) SELECT SUM(`PIFUSRTDC01`) `column_ae265ae2229`,SUM(`PIFUSRTMV01`) `column_ae265ae2230`,`EROC_DerMonth` FROM q GROUP BY `EROC_DerMonth`\"\"\"))\n    else:\n        displayHTML(\"dataframe no longer exists. If you're using dataframe.display(), use display(dataframe) instead.\")\n\n\nfinally:\n    spark.sql(\"drop view if exists DatabricksView4b74419\")\n    display = __backend_agg_display_orig\n    del __backend_agg_display_new\n    del __backend_agg_display_orig\n    del __backend_agg_dfs\n    del __backend_agg_user_code_fn\n\n",
       "commandTitle": "Moved & Discharged",
       "commandType": "auto",
       "commandVersion": 0,
       "commentThread": [],
       "commentsVisible": false,
       "contentSha256Hex": null,
       "customPlotOptions": {
        "redashChart": [
         {
          "key": "type",
          "value": "CHART"
         },
         {
          "key": "options",
          "value": {
           "alignYAxesAtZero": true,
           "coefficient": 1,
           "columnConfigurationMap": {
            "x": {
             "column": "EROC_DerMonth",
             "id": "column_ae265ae2231"
            },
            "y": [
             {
              "column": "PIFUSRTDC01",
              "id": "column_ae265ae2229",
              "transform": "SUM"
             },
             {
              "column": "PIFUSRTMV01",
              "id": "column_ae265ae2230",
              "transform": "SUM"
             }
            ]
           },
           "dateTimeFormat": "DD/MM/YYYY HH:mm",
           "direction": {
            "type": "counterclockwise"
           },
           "error_y": {
            "type": "data",
            "visible": true
           },
           "globalSeriesType": "line",
           "legend": {
            "traceorder": "normal"
           },
           "missingValuesAsZero": true,
           "numberFormat": "0,0.[00000]",
           "percentFormat": "0[.]00%",
           "series": {
            "error_y": {
             "type": "data",
             "visible": true
            },
            "stacking": null
           },
           "seriesOptions": {
            "column_ae265ae2229": {
             "name": "PIFUSRTDC01",
             "yAxis": 0
            },
            "column_ae265ae2230": {
             "name": "PIFUSRTMV01",
             "yAxis": 0
            }
           },
           "showDataLabels": false,
           "sizemode": "diameter",
           "sortX": true,
           "sortY": true,
           "swappedAxes": false,
           "textFormat": "",
           "useAggregationsUi": true,
           "valuesOptions": {},
           "version": 2,
           "xAxis": {
            "labels": {
             "enabled": true
            },
            "type": "-"
           },
           "yAxis": [
            {
             "type": "-"
            },
            {
             "opposite": true,
             "type": "-"
            }
           ]
          }
         }
        ]
       },
       "datasetPreviewNameToCmdIdMap": {},
       "diffDeletes": [],
       "diffInserts": [],
       "displayType": "redashChart",
       "error": null,
       "errorDetails": null,
       "errorSummary": null,
       "errorTraceType": null,
       "finishTime": 1753109169073,
       "globalVars": {},
       "guid": "",
       "height": "auto",
       "hideCommandCode": false,
       "hideCommandResult": false,
       "iPythonMetadata": null,
       "inputWidgets": {},
       "isLockedInExamMode": false,
       "latestUser": "a user",
       "latestUserId": null,
       "listResultMetadata": [
        [
         "table",
         27
        ]
       ],
       "metadata": {
        "byteLimit": 2048000,
        "rowLimit": 10000
       },
       "nuid": "039fbd35-670d-4a28-9013-3bc046d1c0f8",
       "origId": 0,
       "parentHierarchy": [],
       "pivotAggregation": null,
       "pivotColumns": null,
       "position": 9.0,
       "resultDbfsErrorMessage": null,
       "resultDbfsStatus": "INLINED_IN_TREE",
       "results": null,
       "showCommandTitle": false,
       "startTime": 1753109166682,
       "state": "input",
       "streamStates": {},
       "subcommandOptions": {
        "queryPlan": {
         "groups": [
          {
           "column": "EROC_DerMonth",
           "type": "column"
          }
         ],
         "selects": [
          {
           "alias": "column_ae265ae2229",
           "args": [
            {
             "column": "PIFUSRTDC01",
             "type": "column"
            }
           ],
           "function": "SUM",
           "type": "function"
          },
          {
           "alias": "column_ae265ae2230",
           "args": [
            {
             "column": "PIFUSRTMV01",
             "type": "column"
            }
           ],
           "function": "SUM",
           "type": "function"
          },
          {
           "column": "EROC_DerMonth",
           "type": "column"
          }
         ]
        }
       },
       "submitTime": 1753109142934,
       "subtype": "tableResultSubCmd.visualization",
       "tableResultIndex": 0,
       "tableResultSettingsMap": {},
       "useConsistentColors": false,
       "version": "CommandV1",
       "width": "auto",
       "workflows": null,
       "xColumns": null,
       "yColumns": null
      }
     },
     "output_type": "display_data"
    }
   ],
   "source": [
    "# Step 6: Get widget values\n",
    "selected_provider = dbutils.widgets.get(\"1_Provider\")\n",
    "selected_metric = dbutils.widgets.get(\"2_Metric\")\n",
    "start_date_str = dbutils.widgets.get(\"3_StartDate\")\n",
    "end_date_str = dbutils.widgets.get(\"4_EndDate\")\n",
    "#end_date_str = dbutils.widgets.get(\"5_Region\")\n",
    "\n",
    "# Step 7: Validate and parse dates\n",
    "def safe_parse(date_str, fallback):\n",
    "    try:\n",
    "        return datetime.strptime(date_str, \"%Y-%m-%d\").date()\n",
    "    except:\n",
    "        return fallback\n",
    "\n",
    "start_date = safe_parse(start_date_str, min_date)\n",
    "end_date = safe_parse(end_date_str, max_date)\n",
    "\n",
    "# Step 8: Apply filtering\n",
    "df_filtered = df_line_chart.filter((col(\"EROC_DerMonth\") >= start_date) & (col(\"EROC_DerMonth\") <= end_date))\n",
    "\n",
    "if selected_provider != \"All\" and selected_provider in valid_providers:\n",
    "    df_filtered = df_filtered.filter(col(\"EROC_DerProviderCode\") == selected_provider)\n",
    "if selected_metric != \"All\" and selected_metric in valid_metrics:\n",
    "    df_filtered = df_filtered.filter(col(\"EROC_DerMetric\") == selected_metric)\n",
    "\n",
    "# Check if df_filtered is empty\n",
    "if df_filtered.count() == 0:\n",
    "    raise ValueError(\"No data available for the selected filters. Please adjust your filter criteria.\")\n",
    "\n",
    "# Step 9: Pivot and display\n",
    "df_pivot = df_filtered.groupBy(\"EROC_DerMonth\").pivot(\"EROC_DerMetric\").sum(\"Value\").orderBy(\"EROC_DerMonth\")\n",
    "display(df_pivot)\n",
    "\n",
    "# Step 10: Optional Plotly line chart for selected metric\n",
    "if selected_metric != \"All\":\n",
    "    pdf = df_filtered.select(\"EROC_DerMonth\", \"Value\").orderBy(\"EROC_DerMonth\").toPandas()\n",
    "    fig1 = px.line(\n",
    "        pdf,\n",
    "        x=\"EROC_DerMonth\",\n",
    "        y=\"Value\",\n",
    "        title=f\"{selected_metric} Trend for {selected_provider}\" if selected_provider != \"All\" else f\"{selected_metric} Trend (All Providers)\"\n",
    "    )\n",
    "   "
   ]
  },
  {
   "cell_type": "code",
   "execution_count": 0,
   "metadata": {
    "application/vnd.databricks.v1+cell": {
     "cellMetadata": {
      "byteLimit": 2048000,
      "rowLimit": 10000
     },
     "inputWidgets": {},
     "nuid": "d99d3761-4057-4c70-b980-b4fdd49a24c8",
     "showTitle": false,
     "tableResultSettingsMap": {},
     "title": ""
    }
   },
   "outputs": [
    {
     "output_type": "display_data",
     "data": {
      "text/plain": [
       "Databricks visualization. Run in Databricks to view."
      ]
     },
     "metadata": {
      "application/vnd.databricks.v1.subcommand+json": {
       "baseErrorDetails": null,
       "bindings": {},
       "collapsed": false,
       "command": "%python\n__backend_agg_display_orig = display\n__backend_agg_dfs = []\ndef __backend_agg_display_new(df):\n    __backend_agg_df_modules = [\"pandas.core.frame\", \"databricks.koalas.frame\", \"pyspark.sql.dataframe\", \"pyspark.pandas.frame\", \"pyspark.sql.connect.dataframe\"]\n    if (type(df).__module__ in __backend_agg_df_modules and type(df).__name__ == 'DataFrame') or isinstance(df, list):\n        __backend_agg_dfs.append(df)\n\ndisplay = __backend_agg_display_new\n\ndef __backend_agg_user_code_fn():\n    import base64\n    exec(base64.standard_b64decode(\"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\").decode())\n\ntry:\n    # run user code\n    __backend_agg_user_code_fn()\n\n    #reset display function\n    display = __backend_agg_display_orig\n\n    if len(__backend_agg_dfs) > 0:\n        # create a temp view\n        if type(__backend_agg_dfs[0]).__module__ == \"databricks.koalas.frame\":\n            # koalas dataframe\n            __backend_agg_dfs[0].to_spark().createOrReplaceTempView(\"DatabricksView4fdf295\")\n        elif type(__backend_agg_dfs[0]).__module__ == \"pandas.core.frame\" or isinstance(__backend_agg_dfs[0], list):\n            # pandas dataframe\n            spark.createDataFrame(__backend_agg_dfs[0]).createOrReplaceTempView(\"DatabricksView4fdf295\")\n        else:\n            __backend_agg_dfs[0].createOrReplaceTempView(\"DatabricksView4fdf295\")\n        #run backend agg\n        display(spark.sql(\"\"\"WITH q AS (select * from DatabricksView4fdf295) SELECT `EROC_DerMonth`,SUM(`Value`) `column_a162daa193` FROM q GROUP BY `EROC_DerMonth`\"\"\"))\n    else:\n        displayHTML(\"dataframe no longer exists. If you're using dataframe.display(), use display(dataframe) instead.\")\n\n\nfinally:\n    spark.sql(\"drop view if exists DatabricksView4fdf295\")\n    display = __backend_agg_display_orig\n    del __backend_agg_display_new\n    del __backend_agg_display_orig\n    del __backend_agg_dfs\n    del __backend_agg_user_code_fn\n\n",
       "commandTitle": "PIFUTOTAL01",
       "commandType": "auto",
       "commandVersion": 0,
       "commentThread": [],
       "commentsVisible": false,
       "contentSha256Hex": null,
       "customPlotOptions": {
        "redashChart": [
         {
          "key": "type",
          "value": "CHART"
         },
         {
          "key": "options",
          "value": {
           "alignYAxesAtZero": true,
           "coefficient": 1,
           "columnConfigurationMap": {
            "x": {
             "column": "EROC_DerMonth",
             "id": "column_a162daa191"
            },
            "y": [
             {
              "column": "Value",
              "id": "column_a162daa193",
              "transform": "SUM"
             }
            ]
           },
           "dateTimeFormat": "DD/MM/YYYY HH:mm",
           "direction": {
            "type": "counterclockwise"
           },
           "error_y": {
            "type": "data",
            "visible": true
           },
           "globalSeriesType": "line",
           "isAggregationOn": true,
           "legend": {
            "traceorder": "normal"
           },
           "missingValuesAsZero": true,
           "numberFormat": "0,0.[00000]",
           "percentFormat": "0[.]00%",
           "series": {
            "error_y": {
             "type": "data",
             "visible": true
            },
            "stacking": null
           },
           "seriesOptions": {
            "column_a162daa193": {
             "type": "line",
             "yAxis": 0
            }
           },
           "showDataLabels": false,
           "sizemode": "diameter",
           "sortX": true,
           "sortY": true,
           "swappedAxes": false,
           "textFormat": "",
           "useAggregationsUi": true,
           "valuesOptions": {},
           "version": 2,
           "xAxis": {
            "labels": {
             "enabled": true
            },
            "type": "-"
           },
           "yAxis": [
            {
             "type": "-"
            },
            {
             "opposite": true,
             "type": "-"
            }
           ]
          }
         }
        ]
       },
       "datasetPreviewNameToCmdIdMap": {},
       "diffDeletes": [],
       "diffInserts": [],
       "displayType": "redashChart",
       "error": null,
       "errorDetails": null,
       "errorSummary": null,
       "errorTraceType": null,
       "finishTime": 1753109170675,
       "globalVars": {},
       "guid": "",
       "height": "auto",
       "hideCommandCode": false,
       "hideCommandResult": false,
       "iPythonMetadata": null,
       "inputWidgets": {},
       "isLockedInExamMode": false,
       "latestUser": "a user",
       "latestUserId": null,
       "listResultMetadata": [
        [
         "table",
         27
        ]
       ],
       "metadata": {
        "byteLimit": 2048000,
        "rowLimit": 10000
       },
       "nuid": "1432e9e1-3fc3-49c4-af7d-076a816c70c4",
       "origId": 0,
       "parentHierarchy": [],
       "pivotAggregation": null,
       "pivotColumns": null,
       "position": 11.0,
       "resultDbfsErrorMessage": null,
       "resultDbfsStatus": "INLINED_IN_TREE",
       "results": null,
       "showCommandTitle": false,
       "startTime": 1753109169093,
       "state": "input",
       "streamStates": {},
       "subcommandOptions": {
        "queryPlan": {
         "groups": [
          {
           "column": "EROC_DerMonth",
           "type": "column"
          }
         ],
         "selects": [
          {
           "column": "EROC_DerMonth",
           "type": "column"
          },
          {
           "alias": "column_a162daa193",
           "args": [
            {
             "column": "Value",
             "type": "column"
            }
           ],
           "function": "SUM",
           "type": "function"
          }
         ]
        }
       },
       "submitTime": 1753109143058,
       "subtype": "tableResultSubCmd.visualization",
       "tableResultIndex": 0,
       "tableResultSettingsMap": {},
       "useConsistentColors": false,
       "version": "CommandV1",
       "width": "auto",
       "workflows": null,
       "xColumns": null,
       "yColumns": null
      }
     },
     "output_type": "display_data"
    }
   ],
   "source": [
    "from pyspark.sql import functions as F\n",
    "\n",
    "# Get filter values from widgets (reuse logic from previous cells)\n",
    "selected_provider = dbutils.widgets.get(\"1_Provider\")\n",
    "selected_metric = dbutils.widgets.get(\"2_Metric\")\n",
    "start_date_str = dbutils.widgets.get(\"3_StartDate\")\n",
    "end_date_str = dbutils.widgets.get(\"4_EndDate\")\n",
    "#try:    selected_region = dbutils.widgets.get(\"5_Region\")\n",
    "#except:\n",
    "    #selected_region = \"All\"\n",
    "\n",
    "\n",
    "def safe_parse(date_str, fallback):\n",
    "    try:\n",
    "        return datetime.strptime(date_str, \"%Y-%m-%d\").date()\n",
    "    except:\n",
    "        return fallback\n",
    "\n",
    "# Use min/max dates from df_pifu_qa for fallback\n",
    "min_date = df_pifu_qa.selectExpr(\"min(EROC_DerMonth)\").first()[0]\n",
    "max_date = df_pifu_qa.selectExpr(\"max(EROC_DerMonth)\").first()[0]\n",
    "start_date = safe_parse(start_date_str, min_date)\n",
    "end_date = safe_parse(end_date_str, max_date)\n",
    "\n",
    "# Apply filters\n",
    "df_PIFUTOTAL01 = (\n",
    "    df_pifu_qa\n",
    "    .where(F.col(\"EROC_DerMetric\") == \"PIFUTOTAL01\")\n",
    "    .where(F.col(\"EROC_Latest_Flag\") == 1)\n",
    "    .where(F.col(\"EROC_DerMonth\") >= start_date)\n",
    "    .where(F.col(\"EROC_DerMonth\") <= end_date)\n",
    ")\n",
    "\n",
    "if selected_provider != \"All\":\n",
    "    df_PIFUTOTAL01 = df_PIFUTOTAL01.where(F.col(\"EROC_DerProviderCode\") == selected_provider)\n",
    "#if selected_region != \"All\":\n",
    "    #df_PIFUTOTAL01 = df_PIFUTOTAL01.where(F.col(\"RegionName\") == selected_region)\n",
    "\n",
    "df_PIFUTOTAL01 = (\n",
    "    df_PIFUTOTAL01\n",
    "    .groupby(\n",
    "        \"EROC_DerMonth\",\n",
    "        \"EROC_DerProviderCode\",\n",
    "        #\"RegionName\",\n",
    "        \"EROC_DerMetric\"\n",
    "    )\n",
    "    .agg(F.sum(\"EROC_Value\").alias(\"Value\"))\n",
    "    .orderBy(\n",
    "        \"EROC_DerMonth\",\n",
    "        #\"RegionName\",\n",
    "        \"EROC_DerProviderCode\"\n",
    "    )\n",
    ")\n",
    "\n",
    "display(df_PIFUTOTAL01)"
   ]
  },
  {
   "cell_type": "code",
   "execution_count": 0,
   "metadata": {
    "application/vnd.databricks.v1+cell": {
     "cellMetadata": {
      "byteLimit": 2048000,
      "rowLimit": 10000
     },
     "inputWidgets": {},
     "nuid": "1300cae9-b0ac-43e2-b272-b586d0e12084",
     "showTitle": false,
     "tableResultSettingsMap": {
      "0": {
       "dataGridStateBlob": "{\"version\":1,\"tableState\":{\"columnPinning\":{\"left\":[\"#row_number#\"],\"right\":[]},\"columnSizing\":{},\"columnVisibility\":{}},\"settings\":{\"columns\":{}},\"syncTimestamp\":1752681780564}",
       "filterBlob": null,
       "queryPlanFiltersBlob": null,
       "tableResultIndex": 0
      }
     },
     "title": ""
    }
   },
   "outputs": [],
   "source": [
    "from pyspark.sql import functions as F\n",
    "\n",
    "# Get end_date_str from widget and parse it\n",
    "end_date_str = dbutils.widgets.get(\"4_EndDate\")\n",
    "def safe_parse(date_str, fallback):\n",
    "    try:\n",
    "        return datetime.strptime(date_str, \"%Y-%m-%d\").date()\n",
    "    except:\n",
    "        return fallback\n",
    "\n",
    "min_date = df_pifu_qa.selectExpr(\"min(EROC_DerMonth)\").first()[0]\n",
    "max_date = df_pifu_qa.selectExpr(\"max(EROC_DerMonth)\").first()[0]\n",
    "end_date = safe_parse(end_date_str, max_date)\n",
    "\n",
    "# Check Submission_type values for debugging\n",
    "# display(df_pifu_qa.select(\"Submission_type\").distinct())\n",
    "\n",
    "# Creating the monthly blank or null returns data frame for the selected end date only\n",
    "df_blank_null = (\n",
    "    df_pifu_qa\n",
    "    .where(F.col(\"EROC_DerMetric\").isin(\n",
    "        \"PIFUSRTMV01\", \"PIFUSRTDC01\", \"PIFUTOTAL01\", \"PIFUCOMP001\", \"PIFUBOOK001\", \"PIFUDNA0001\"\n",
    "    ))\n",
    "    .where(F.col(\"EROC_DerMonth\") == end_date)\n",
    "    .where(F.col(\"EROC_Latest_Flag\") == 1)\n",
    "    # Fix: Use correct syntax for filtering Submission_type\n",
    "    .where(~F.col(\"Submission_type\").rlike(\"^01\\| Complete return:|^02\\| Partial return:\"))\n",
    "    .groupBy(\n",
    "        \"EROC_DerMonth\",\n",
    "        \"EROC_DerProviderCode\",\n",
    "        \"Submission_type\",  \n",
    "        \"RegionName\",\n",
    "        #\"EROC_DerMetric\"\n",
    "    )\n",
    "    .agg(F.sum(\"EROC_Value\").alias(\"Value\"))\n",
    "    .orderBy(\n",
    "        \"EROC_DerMonth\",\n",
    "        \"RegionName\",\n",
    "        \"EROC_DerProviderCode\"\n",
    "    )\n",
    ")\n",
    "\n",
    "display(df_blank_null)"
   ]
  },
  {
   "cell_type": "code",
   "execution_count": 0,
   "metadata": {
    "application/vnd.databricks.v1+cell": {
     "cellMetadata": {
      "byteLimit": 2048000,
      "rowLimit": 10000
     },
     "inputWidgets": {},
     "nuid": "34b6c2d8-33fa-45a4-9a5c-8c7f305dfdc7",
     "showTitle": false,
     "tableResultSettingsMap": {},
     "title": ""
    }
   },
   "outputs": [],
   "source": [
    "from pyspark.sql import functions as F\n",
    "from datetime import datetime\n",
    "\n",
    "selected_provider = dbutils.widgets.get(\"1_Provider\")\n",
    "selected_metric = dbutils.widgets.get(\"2_Metric\")\n",
    "start_date_str = dbutils.widgets.get(\"3_StartDate\")\n",
    "end_date_str = dbutils.widgets.get(\"4_EndDate\")\n",
    "\n",
    "def safe_parse(date_str, fallback):\n",
    "    try:\n",
    "        return datetime.strptime(date_str, \"%Y-%m-%d\").date()\n",
    "    except:\n",
    "        return fallback\n",
    "\n",
    "min_date = df_pifu_qa.selectExpr(\"min(EROC_DerMonth)\").first()[0]\n",
    "max_date = df_pifu_qa.selectExpr(\"max(EROC_DerMonth)\").first()[0]\n",
    "start_date = safe_parse(start_date_str, min_date)\n",
    "end_date = safe_parse(end_date_str, max_date)\n",
    "\n",
    "def get_filtered_df(latest_flag):\n",
    "    df = (\n",
    "        df_pifu_qa\n",
    "        .filter(F.col(\"EROC_Latest_Flag\") == latest_flag)\n",
    "        .filter((F.col(\"EROC_DerMonth\") >= F.lit(start_date)) & (F.col(\"EROC_DerMonth\") <= F.lit(end_date)))\n",
    "    )\n",
    "\n",
    "    if selected_provider != \"All\":\n",
    "        df = df.filter(F.col(\"EROC_DerProviderCode\") == selected_provider)\n",
    "\n",
    "    if selected_metric != \"All\":\n",
    "        df = df.filter(F.col(\"EROC_DerMetric\") == selected_metric)\n",
    "\n",
    "    df_grouped = (\n",
    "        df.groupBy(\"EROC_DerMonth\", \"EROC_DerMetric\")\n",
    "          .agg(F.sum(\"EROC_Value\").alias(\"Value\"))\n",
    "          .orderBy(\"EROC_DerMonth\", \"EROC_DerMetric\")\n",
    "    )\n",
    "    \n",
    "    return df_grouped\n",
    "\n",
    "df_latest_1 = get_filtered_df(1)\n",
    "df_latest_0 = get_filtered_df(0)\n",
    "\n",
    "display(df_latest_1)  # Stacked bar: x = EROC_DerMonth, series = EROC_DerMetric, y = Value\n",
    "display(df_latest_0)  # Stacked bar: x = EROC_DerMonth, series = EROC_DerMetric, y = Value"
   ]
  },
  {
   "cell_type": "code",
   "execution_count": 0,
   "metadata": {
    "application/vnd.databricks.v1+cell": {
     "cellMetadata": {
      "byteLimit": 2048000,
      "rowLimit": 10000
     },
     "inputWidgets": {},
     "nuid": "91bd7537-638d-44e6-b8be-b56a49a6731c",
     "showTitle": false,
     "tableResultSettingsMap": {},
     "title": ""
    }
   },
   "outputs": [
    {
     "output_type": "display_data",
     "data": {
      "text/plain": [
       "Databricks visualization. Run in Databricks to view."
      ]
     },
     "metadata": {
      "application/vnd.databricks.v1.subcommand+json": {
       "baseErrorDetails": null,
       "bindings": {},
       "collapsed": false,
       "command": "%python\n__backend_agg_display_orig = display\n__backend_agg_dfs = []\ndef __backend_agg_display_new(df):\n    __backend_agg_df_modules = [\"pandas.core.frame\", \"databricks.koalas.frame\", \"pyspark.sql.dataframe\", \"pyspark.pandas.frame\", \"pyspark.sql.connect.dataframe\"]\n    if (type(df).__module__ in __backend_agg_df_modules and type(df).__name__ == 'DataFrame') or isinstance(df, list):\n        __backend_agg_dfs.append(df)\n\ndisplay = __backend_agg_display_new\n\ndef __backend_agg_user_code_fn():\n    import base64\n    exec(base64.standard_b64decode(\"IyBUaGUgY29tYmluZWQgY2hhcnQKCnNlbGVjdGVkX3Byb3ZpZGVyID0gZGJ1dGlscy53aWRnZXRzLmdldCgiMV9Qcm92aWRlciIpCnNlbGVjdGVkX21ldHJpYyA9IGRidXRpbHMud2lkZ2V0cy5nZXQoIjJfTWV0cmljIikKc3RhcnRfZGF0ZV9zdHIgPSBkYnV0aWxzLndpZGdldHMuZ2V0KCIzX1N0YXJ0RGF0ZSIpCmVuZF9kYXRlX3N0ciA9IGRidXRpbHMud2lkZ2V0cy5nZXQoIjRfRW5kRGF0ZSIpCgpkZl9sYXRlc3RfMSA9IGdldF9maWx0ZXJlZF9kZigxKS53aXRoQ29sdW1uKCJMYXRlc3RfRmxhZyIsIEYubGl0KDEpKQpkZl9sYXRlc3RfMCA9IGdldF9maWx0ZXJlZF9kZigwKS53aXRoQ29sdW1uKCJMYXRlc3RfRmxhZyIsIEYubGl0KDApKQoKZGZfY29tYmluZWQgPSBkZl9sYXRlc3RfMS51bmlvbihkZl9sYXRlc3RfMCkKCmRpc3BsYXkoZGZfY29tYmluZWQpCg==\").decode())\n\ntry:\n    # run user code\n    __backend_agg_user_code_fn()\n\n    #reset display function\n    display = __backend_agg_display_orig\n\n    if len(__backend_agg_dfs) > 0:\n        # create a temp view\n        if type(__backend_agg_dfs[0]).__module__ == \"databricks.koalas.frame\":\n            # koalas dataframe\n            __backend_agg_dfs[0].to_spark().createOrReplaceTempView(\"DatabricksViewd7b538d\")\n        elif type(__backend_agg_dfs[0]).__module__ == \"pandas.core.frame\" or isinstance(__backend_agg_dfs[0], list):\n            # pandas dataframe\n            spark.createDataFrame(__backend_agg_dfs[0]).createOrReplaceTempView(\"DatabricksViewd7b538d\")\n        else:\n            __backend_agg_dfs[0].createOrReplaceTempView(\"DatabricksViewd7b538d\")\n        #run backend agg\n        display(spark.sql(\"\"\"WITH q AS (select * from DatabricksViewd7b538d) SELECT `EROC_DerMonth`,SUM(`Value`) `column_25cbb884151`,`Latest_Flag` FROM q GROUP BY `EROC_DerMonth`,`Latest_Flag`\"\"\"))\n    else:\n        displayHTML(\"dataframe no longer exists. If you're using dataframe.display(), use display(dataframe) instead.\")\n\n\nfinally:\n    spark.sql(\"drop view if exists DatabricksViewd7b538d\")\n    display = __backend_agg_display_orig\n    del __backend_agg_display_new\n    del __backend_agg_display_orig\n    del __backend_agg_dfs\n    del __backend_agg_user_code_fn\n\n",
       "commandTitle": "Latest v Previous submissions",
       "commandType": "auto",
       "commandVersion": 0,
       "commentThread": [],
       "commentsVisible": false,
       "contentSha256Hex": null,
       "customPlotOptions": {
        "redashChart": [
         {
          "key": "type",
          "value": "CHART"
         },
         {
          "key": "options",
          "value": {
           "alignYAxesAtZero": true,
           "coefficient": 1,
           "columnConfigurationMap": {
            "series": {
             "column": "Latest_Flag",
             "id": "column_25cbb884153"
            },
            "x": {
             "column": "EROC_DerMonth",
             "id": "column_25cbb884149"
            },
            "y": [
             {
              "column": "Value",
              "id": "column_25cbb884151",
              "transform": "SUM"
             }
            ]
           },
           "dateTimeFormat": "DD/MM/YYYY HH:mm",
           "direction": {
            "type": "counterclockwise"
           },
           "error_y": {
            "type": "data",
            "visible": true
           },
           "globalSeriesType": "column",
           "isAggregationOn": true,
           "legend": {
            "traceorder": "normal"
           },
           "missingValuesAsZero": true,
           "numberFormat": "0,0.[00000]",
           "percentFormat": "0[.]00%",
           "series": {
            "error_y": {
             "type": "data",
             "visible": true
            },
            "stacking": "stack"
           },
           "seriesOptions": {
            "0": {
             "color": "#818B91"
            },
            "1": {
             "color": "#4E79A7"
            },
            "column_25cbb884151": {
             "type": "column",
             "yAxis": 0
            }
           },
           "showDataLabels": false,
           "sizemode": "diameter",
           "sortX": true,
           "sortY": true,
           "swappedAxes": false,
           "textFormat": "",
           "useAggregationsUi": true,
           "valuesOptions": {},
           "version": 2,
           "xAxis": {
            "labels": {
             "enabled": true
            },
            "type": "-"
           },
           "yAxis": [
            {
             "type": "-"
            },
            {
             "opposite": true,
             "type": "-"
            }
           ]
          }
         }
        ]
       },
       "datasetPreviewNameToCmdIdMap": {},
       "diffDeletes": [],
       "diffInserts": [],
       "displayType": "redashChart",
       "error": null,
       "errorDetails": null,
       "errorSummary": null,
       "errorTraceType": null,
       "finishTime": 1753109172078,
       "globalVars": {},
       "guid": "",
       "height": "auto",
       "hideCommandCode": false,
       "hideCommandResult": false,
       "iPythonMetadata": null,
       "inputWidgets": {},
       "isLockedInExamMode": false,
       "latestUser": "a user",
       "latestUserId": null,
       "listResultMetadata": [
        [
         "table",
         28
        ]
       ],
       "metadata": {
        "byteLimit": 2048000,
        "rowLimit": 10000
       },
       "nuid": "944f5f26-3572-46b8-801f-832efc66966e",
       "origId": 0,
       "parentHierarchy": [],
       "pivotAggregation": null,
       "pivotColumns": null,
       "position": 13.5,
       "resultDbfsErrorMessage": null,
       "resultDbfsStatus": "INLINED_IN_TREE",
       "results": null,
       "showCommandTitle": false,
       "startTime": 1753109170687,
       "state": "input",
       "streamStates": {},
       "subcommandOptions": {
        "queryPlan": {
         "groups": [
          {
           "column": "EROC_DerMonth",
           "type": "column"
          },
          {
           "column": "Latest_Flag",
           "type": "column"
          }
         ],
         "selects": [
          {
           "column": "EROC_DerMonth",
           "type": "column"
          },
          {
           "alias": "column_25cbb884151",
           "args": [
            {
             "column": "Value",
             "type": "column"
            }
           ],
           "function": "SUM",
           "type": "function"
          },
          {
           "column": "Latest_Flag",
           "type": "column"
          }
         ]
        }
       },
       "submitTime": 1753109143201,
       "subtype": "tableResultSubCmd.visualization",
       "tableResultIndex": 0,
       "tableResultSettingsMap": {},
       "useConsistentColors": false,
       "version": "CommandV1",
       "width": "auto",
       "workflows": null,
       "xColumns": null,
       "yColumns": null
      }
     },
     "output_type": "display_data"
    }
   ],
   "source": [
    "# The combined chart\n",
    "\n",
    "selected_provider = dbutils.widgets.get(\"1_Provider\")\n",
    "selected_metric = dbutils.widgets.get(\"2_Metric\")\n",
    "start_date_str = dbutils.widgets.get(\"3_StartDate\")\n",
    "end_date_str = dbutils.widgets.get(\"4_EndDate\")\n",
    "\n",
    "df_latest_1 = get_filtered_df(1).withColumn(\"Latest_Flag\", F.lit(1))\n",
    "df_latest_0 = get_filtered_df(0).withColumn(\"Latest_Flag\", F.lit(0))\n",
    "\n",
    "df_combined = df_latest_1.union(df_latest_0)\n",
    "\n",
    "display(df_combined)\n"
   ]
  },
  {
   "cell_type": "code",
   "execution_count": 0,
   "metadata": {
    "application/vnd.databricks.v1+cell": {
     "cellMetadata": {
      "byteLimit": 2048000,
      "rowLimit": 10000
     },
     "inputWidgets": {},
     "nuid": "d4b00f53-1d35-4abc-a371-ea1ee4d15115",
     "showTitle": false,
     "tableResultSettingsMap": {},
     "title": ""
    }
   },
   "outputs": [
    {
     "output_type": "display_data",
     "data": {
      "text/plain": [
       "Databricks visualization. Run in Databricks to view."
      ]
     },
     "metadata": {
      "application/vnd.databricks.v1.subcommand+json": {
       "baseErrorDetails": null,
       "bindings": {},
       "collapsed": false,
       "command": "%python\n__backend_agg_display_orig = display\n__backend_agg_dfs = []\ndef __backend_agg_display_new(df):\n    __backend_agg_df_modules = [\"pandas.core.frame\", \"databricks.koalas.frame\", \"pyspark.sql.dataframe\", \"pyspark.pandas.frame\", \"pyspark.sql.connect.dataframe\"]\n    if (type(df).__module__ in __backend_agg_df_modules and type(df).__name__ == 'DataFrame') or isinstance(df, list):\n        __backend_agg_dfs.append(df)\n\ndisplay = __backend_agg_display_new\n\ndef __backend_agg_user_code_fn():\n    import base64\n    exec(base64.standard_b64decode(\"IyBTcGxpdHRpbmcgdGhlIGNoYXJ0CgpzZWxlY3RlZF9wcm92aWRlciA9IGRidXRpbHMud2lkZ2V0cy5nZXQoIjFfUHJvdmlkZXIiKQpzZWxlY3RlZF9tZXRyaWMgPSBkYnV0aWxzLndpZGdldHMuZ2V0KCIyX01ldHJpYyIpCnN0YXJ0X2RhdGVfc3RyID0gZGJ1dGlscy53aWRnZXRzLmdldCgiM19TdGFydERhdGUiKQplbmRfZGF0ZV9zdHIgPSBkYnV0aWxzLndpZGdldHMuZ2V0KCI0X0VuZERhdGUiKQoKZGZfbGF0ZXN0XzEgPSBnZXRfZmlsdGVyZWRfZGYoMSkud2l0aENvbHVtbigiTGF0ZXN0X0ZsYWciLCBGLmxpdCgxKSkKZGZfbGF0ZXN0XzAgPSBnZXRfZmlsdGVyZWRfZGYoMCkud2l0aENvbHVtbigiTGF0ZXN0X0ZsYWciLCBGLmxpdCgwKSkKCmRpc3BsYXkoZGZfbGF0ZXN0XzApICAjIFN0YWNrZWQgYmFyOiB4ID0gRVJPQ19EZXJNb250aCwgc2VyaWVzID0gRVJPQ19EZXJNZXRyaWMsIHkgPSBWYWx1ZSwgZmlsdGVyIExhdGVzdF9GbGFnID0gMApkaXNwbGF5KGRmX2xhdGVzdF8xKSAgIyBTdGFja2VkIGJhcjogeCA9IEVST0NfRGVyTW9udGgsIHNlcmllcyA9IEVST0NfRGVyTWV0cmljLCB5ID0gVmFsdWUsIGZpbHRlciBMYXRlc3RfRmxhZyA9IDE=\").decode())\n\ntry:\n    # run user code\n    __backend_agg_user_code_fn()\n\n    #reset display function\n    display = __backend_agg_display_orig\n\n    if len(__backend_agg_dfs) > 1:\n        # create a temp view\n        if type(__backend_agg_dfs[1]).__module__ == \"databricks.koalas.frame\":\n            # koalas dataframe\n            __backend_agg_dfs[1].to_spark().createOrReplaceTempView(\"DatabricksViewde7ea0b\")\n        elif type(__backend_agg_dfs[1]).__module__ == \"pandas.core.frame\" or isinstance(__backend_agg_dfs[1], list):\n            # pandas dataframe\n            spark.createDataFrame(__backend_agg_dfs[1]).createOrReplaceTempView(\"DatabricksViewde7ea0b\")\n        else:\n            __backend_agg_dfs[1].createOrReplaceTempView(\"DatabricksViewde7ea0b\")\n        #run backend agg\n        display(spark.sql(\"\"\"WITH q AS (select * from DatabricksViewde7ea0b) SELECT `EROC_DerMonth`,SUM(`Value`) `column_25cbb884135`,`Latest_Flag` FROM q GROUP BY `EROC_DerMonth`,`Latest_Flag`\"\"\"))\n    else:\n        displayHTML(\"dataframe no longer exists. If you're using dataframe.display(), use display(dataframe) instead.\")\n\n\nfinally:\n    spark.sql(\"drop view if exists DatabricksViewde7ea0b\")\n    display = __backend_agg_display_orig\n    del __backend_agg_display_new\n    del __backend_agg_display_orig\n    del __backend_agg_dfs\n    del __backend_agg_user_code_fn\n\n",
       "commandTitle": "Latest flag",
       "commandType": "auto",
       "commandVersion": 0,
       "commentThread": [],
       "commentsVisible": false,
       "contentSha256Hex": null,
       "customPlotOptions": {
        "redashChart": [
         {
          "key": "type",
          "value": "CHART"
         },
         {
          "key": "options",
          "value": {
           "alignYAxesAtZero": true,
           "coefficient": 1,
           "columnConfigurationMap": {
            "series": {
             "column": "Latest_Flag",
             "id": "column_25cbb884143"
            },
            "x": {
             "column": "EROC_DerMonth",
             "id": "column_25cbb884132"
            },
            "y": [
             {
              "column": "Value",
              "id": "column_25cbb884135",
              "transform": "SUM"
             }
            ]
           },
           "dateTimeFormat": "DD/MM/YYYY HH:mm",
           "direction": {
            "type": "counterclockwise"
           },
           "error_y": {
            "type": "data",
            "visible": true
           },
           "globalSeriesType": "column",
           "isAggregationOn": true,
           "legend": {
            "traceorder": "normal"
           },
           "missingValuesAsZero": true,
           "numberFormat": "0,0.[00000]",
           "percentFormat": "0[.]00%",
           "series": {
            "error_y": {
             "type": "data",
             "visible": true
            },
            "stacking": "stack"
           },
           "seriesOptions": {
            "column_25cbb884135": {
             "type": "column",
             "yAxis": 0
            }
           },
           "showDataLabels": false,
           "sizemode": "diameter",
           "sortX": true,
           "sortY": true,
           "swappedAxes": false,
           "textFormat": "",
           "useAggregationsUi": true,
           "valuesOptions": {},
           "version": 2,
           "xAxis": {
            "labels": {
             "enabled": true
            },
            "type": "-"
           },
           "yAxis": [
            {
             "type": "-"
            },
            {
             "opposite": true,
             "type": "-"
            }
           ]
          }
         }
        ]
       },
       "datasetPreviewNameToCmdIdMap": {},
       "diffDeletes": [],
       "diffInserts": [],
       "displayType": "redashChart",
       "error": null,
       "errorDetails": null,
       "errorSummary": null,
       "errorTraceType": null,
       "finishTime": 1753109173985,
       "globalVars": {},
       "guid": "",
       "height": "auto",
       "hideCommandCode": false,
       "hideCommandResult": false,
       "iPythonMetadata": null,
       "inputWidgets": {},
       "isLockedInExamMode": false,
       "latestUser": "a user",
       "latestUserId": null,
       "listResultMetadata": [
        [
         "table",
         27
        ]
       ],
       "metadata": {
        "byteLimit": 2048000,
        "rowLimit": 10000
       },
       "nuid": "04dbf9b7-8aa5-4729-b65e-5d811d6a8da8",
       "origId": 0,
       "parentHierarchy": [],
       "pivotAggregation": null,
       "pivotColumns": null,
       "position": 14.0,
       "resultDbfsErrorMessage": null,
       "resultDbfsStatus": "INLINED_IN_TREE",
       "results": null,
       "showCommandTitle": false,
       "startTime": 1753109173086,
       "state": "input",
       "streamStates": {},
       "subcommandOptions": {
        "queryPlan": {
         "groups": [
          {
           "column": "EROC_DerMonth",
           "type": "column"
          },
          {
           "column": "Latest_Flag",
           "type": "column"
          }
         ],
         "selects": [
          {
           "column": "EROC_DerMonth",
           "type": "column"
          },
          {
           "alias": "column_25cbb884135",
           "args": [
            {
             "column": "Value",
             "type": "column"
            }
           ],
           "function": "SUM",
           "type": "function"
          },
          {
           "column": "Latest_Flag",
           "type": "column"
          }
         ]
        }
       },
       "submitTime": 1753109143484,
       "subtype": "tableResultSubCmd.visualization",
       "tableResultIndex": 1,
       "tableResultSettingsMap": {},
       "useConsistentColors": false,
       "version": "CommandV1",
       "width": "auto",
       "workflows": null,
       "xColumns": null,
       "yColumns": null
      }
     },
     "output_type": "display_data"
    },
    {
     "output_type": "display_data",
     "data": {
      "text/plain": [
       "Databricks visualization. Run in Databricks to view."
      ]
     },
     "metadata": {
      "application/vnd.databricks.v1.subcommand+json": {
       "baseErrorDetails": null,
       "bindings": {},
       "collapsed": false,
       "command": "%python\n__backend_agg_display_orig = display\n__backend_agg_dfs = []\ndef __backend_agg_display_new(df):\n    __backend_agg_df_modules = [\"pandas.core.frame\", \"databricks.koalas.frame\", \"pyspark.sql.dataframe\", \"pyspark.pandas.frame\", \"pyspark.sql.connect.dataframe\"]\n    if (type(df).__module__ in __backend_agg_df_modules and type(df).__name__ == 'DataFrame') or isinstance(df, list):\n        __backend_agg_dfs.append(df)\n\ndisplay = __backend_agg_display_new\n\ndef __backend_agg_user_code_fn():\n    import base64\n    exec(base64.standard_b64decode(\"IyBTcGxpdHRpbmcgdGhlIGNoYXJ0CgpzZWxlY3RlZF9wcm92aWRlciA9IGRidXRpbHMud2lkZ2V0cy5nZXQoIjFfUHJvdmlkZXIiKQpzZWxlY3RlZF9tZXRyaWMgPSBkYnV0aWxzLndpZGdldHMuZ2V0KCIyX01ldHJpYyIpCnN0YXJ0X2RhdGVfc3RyID0gZGJ1dGlscy53aWRnZXRzLmdldCgiM19TdGFydERhdGUiKQplbmRfZGF0ZV9zdHIgPSBkYnV0aWxzLndpZGdldHMuZ2V0KCI0X0VuZERhdGUiKQoKZGZfbGF0ZXN0XzEgPSBnZXRfZmlsdGVyZWRfZGYoMSkud2l0aENvbHVtbigiTGF0ZXN0X0ZsYWciLCBGLmxpdCgxKSkKZGZfbGF0ZXN0XzAgPSBnZXRfZmlsdGVyZWRfZGYoMCkud2l0aENvbHVtbigiTGF0ZXN0X0ZsYWciLCBGLmxpdCgwKSkKCmRpc3BsYXkoZGZfbGF0ZXN0XzApICAjIFN0YWNrZWQgYmFyOiB4ID0gRVJPQ19EZXJNb250aCwgc2VyaWVzID0gRVJPQ19EZXJNZXRyaWMsIHkgPSBWYWx1ZSwgZmlsdGVyIExhdGVzdF9GbGFnID0gMApkaXNwbGF5KGRmX2xhdGVzdF8xKSAgIyBTdGFja2VkIGJhcjogeCA9IEVST0NfRGVyTW9udGgsIHNlcmllcyA9IEVST0NfRGVyTWV0cmljLCB5ID0gVmFsdWUsIGZpbHRlciBMYXRlc3RfRmxhZyA9IDE=\").decode())\n\ntry:\n    # run user code\n    __backend_agg_user_code_fn()\n\n    #reset display function\n    display = __backend_agg_display_orig\n\n    if len(__backend_agg_dfs) > 0:\n        # create a temp view\n        if type(__backend_agg_dfs[0]).__module__ == \"databricks.koalas.frame\":\n            # koalas dataframe\n            __backend_agg_dfs[0].to_spark().createOrReplaceTempView(\"DatabricksView07abc21\")\n        elif type(__backend_agg_dfs[0]).__module__ == \"pandas.core.frame\" or isinstance(__backend_agg_dfs[0], list):\n            # pandas dataframe\n            spark.createDataFrame(__backend_agg_dfs[0]).createOrReplaceTempView(\"DatabricksView07abc21\")\n        else:\n            __backend_agg_dfs[0].createOrReplaceTempView(\"DatabricksView07abc21\")\n        #run backend agg\n        display(spark.sql(\"\"\"WITH q AS (select * from DatabricksView07abc21) SELECT `EROC_DerMonth`,SUM(`Value`) `column_25cbb88451`,`Latest_Flag` FROM q GROUP BY `EROC_DerMonth`,`Latest_Flag`\"\"\"))\n    else:\n        displayHTML(\"dataframe no longer exists. If you're using dataframe.display(), use display(dataframe) instead.\")\n\n\nfinally:\n    spark.sql(\"drop view if exists DatabricksView07abc21\")\n    display = __backend_agg_display_orig\n    del __backend_agg_display_new\n    del __backend_agg_display_orig\n    del __backend_agg_dfs\n    del __backend_agg_user_code_fn\n\n",
       "commandTitle": "Previous flag",
       "commandType": "auto",
       "commandVersion": 0,
       "commentThread": [],
       "commentsVisible": false,
       "contentSha256Hex": null,
       "customPlotOptions": {
        "redashChart": [
         {
          "key": "type",
          "value": "CHART"
         },
         {
          "key": "options",
          "value": {
           "alignYAxesAtZero": true,
           "coefficient": 1,
           "columnConfigurationMap": {
            "series": {
             "column": "Latest_Flag",
             "id": "column_25cbb884145"
            },
            "x": {
             "column": "EROC_DerMonth",
             "id": "column_25cbb88449"
            },
            "y": [
             {
              "column": "Value",
              "id": "column_25cbb88451",
              "transform": "SUM"
             }
            ]
           },
           "dateTimeFormat": "DD/MM/YYYY HH:mm",
           "direction": {
            "type": "counterclockwise"
           },
           "error_y": {
            "type": "data",
            "visible": true
           },
           "globalSeriesType": "column",
           "isAggregationOn": true,
           "legend": {
            "traceorder": "normal"
           },
           "missingValuesAsZero": true,
           "numberFormat": "0,0.[00000]",
           "percentFormat": "0[.]00%",
           "series": {
            "error_y": {
             "type": "data",
             "visible": true
            },
            "stacking": "stack"
           },
           "seriesOptions": {
            "0": {
             "color": "#818B91"
            },
            "1": {
             "color": "#4E79A7"
            },
            "column_25cbb88451": {
             "type": "column",
             "yAxis": 0
            },
            "column_25cbb88454": {
             "type": "column",
             "yAxis": 0
            }
           },
           "showDataLabels": false,
           "sizemode": "diameter",
           "sortX": true,
           "sortY": true,
           "swappedAxes": false,
           "textFormat": "",
           "useAggregationsUi": true,
           "valuesOptions": {},
           "version": 2,
           "xAxis": {
            "labels": {
             "enabled": true
            },
            "type": "-"
           },
           "yAxis": [
            {
             "type": "-"
            },
            {
             "opposite": true,
             "type": "-"
            }
           ]
          }
         }
        ]
       },
       "datasetPreviewNameToCmdIdMap": {},
       "diffDeletes": [],
       "diffInserts": [],
       "displayType": "redashChart",
       "error": null,
       "errorDetails": null,
       "errorSummary": null,
       "errorTraceType": null,
       "finishTime": 1753109173080,
       "globalVars": {},
       "guid": "",
       "height": "auto",
       "hideCommandCode": false,
       "hideCommandResult": false,
       "iPythonMetadata": null,
       "inputWidgets": {},
       "isLockedInExamMode": false,
       "latestUser": "a user",
       "latestUserId": null,
       "listResultMetadata": [
        [
         "table",
         1
        ]
       ],
       "metadata": {
        "byteLimit": 2048000,
        "rowLimit": 10000
       },
       "nuid": "411670c8-7964-4796-8b57-a5dd606bd407",
       "origId": 0,
       "parentHierarchy": [],
       "pivotAggregation": null,
       "pivotColumns": null,
       "position": 14.0,
       "resultDbfsErrorMessage": null,
       "resultDbfsStatus": "INLINED_IN_TREE",
       "results": null,
       "showCommandTitle": false,
       "startTime": 1753109172085,
       "state": "input",
       "streamStates": {},
       "subcommandOptions": {
        "queryPlan": {
         "groups": [
          {
           "column": "EROC_DerMonth",
           "type": "column"
          },
          {
           "column": "Latest_Flag",
           "type": "column"
          }
         ],
         "selects": [
          {
           "column": "EROC_DerMonth",
           "type": "column"
          },
          {
           "alias": "column_25cbb88451",
           "args": [
            {
             "column": "Value",
             "type": "column"
            }
           ],
           "function": "SUM",
           "type": "function"
          },
          {
           "column": "Latest_Flag",
           "type": "column"
          }
         ]
        }
       },
       "submitTime": 1753109143338,
       "subtype": "tableResultSubCmd.visualization",
       "tableResultIndex": 0,
       "tableResultSettingsMap": {},
       "useConsistentColors": false,
       "version": "CommandV1",
       "width": "auto",
       "workflows": null,
       "xColumns": null,
       "yColumns": null
      }
     },
     "output_type": "display_data"
    }
   ],
   "source": [
    "# Splitting the chart\n",
    "\n",
    "selected_provider = dbutils.widgets.get(\"1_Provider\")\n",
    "selected_metric = dbutils.widgets.get(\"2_Metric\")\n",
    "start_date_str = dbutils.widgets.get(\"3_StartDate\")\n",
    "end_date_str = dbutils.widgets.get(\"4_EndDate\")\n",
    "\n",
    "df_latest_1 = get_filtered_df(1).withColumn(\"Latest_Flag\", F.lit(1))\n",
    "df_latest_0 = get_filtered_df(0).withColumn(\"Latest_Flag\", F.lit(0))\n",
    "\n",
    "display(df_latest_0)  # Stacked bar: x = EROC_DerMonth, series = EROC_DerMetric, y = Value, filter Latest_Flag = 0\n",
    "display(df_latest_1)  # Stacked bar: x = EROC_DerMonth, series = EROC_DerMetric, y = Value, filter Latest_Flag = 1"
   ]
  }
 ],
 "metadata": {
  "application/vnd.databricks.v1+notebook": {
   "computePreferences": null,
   "dashboards": [
    {
     "elements": [
      {
       "dashboardResultIndex": null,
       "elementNUID": "944f5f26-3572-46b8-801f-832efc66966e",
       "elementType": "command",
       "guid": "334506c6-6b8e-450f-907e-4704a8b08292",
       "options": null,
       "position": {
        "height": 7,
        "width": 24,
        "x": 0,
        "y": 15,
        "z": null
       },
       "resultIndex": null
      },
      {
       "dashboardResultIndex": 0,
       "elementNUID": "1300cae9-b0ac-43e2-b272-b586d0e12084",
       "elementType": "command",
       "guid": "602bcd64-8865-4b08-aeb8-4fad78023ec1",
       "options": null,
       "position": {
        "height": 6,
        "width": 24,
        "x": 0,
        "y": 22,
        "z": null
       },
       "resultIndex": null
      },
      {
       "dashboardResultIndex": null,
       "elementNUID": "039fbd35-670d-4a28-9013-3bc046d1c0f8",
       "elementType": "command",
       "guid": "866fad88-2c5d-476f-97b5-cdf0b210cdb5",
       "options": null,
       "position": {
        "height": 8,
        "width": 24,
        "x": 0,
        "y": 0,
        "z": null
       },
       "resultIndex": null
      },
      {
       "dashboardResultIndex": null,
       "elementNUID": "1432e9e1-3fc3-49c4-af7d-076a816c70c4",
       "elementType": "command",
       "guid": "f27cf363-3558-4603-a66d-ce12895bb691",
       "options": null,
       "position": {
        "height": 7,
        "width": 24,
        "x": 0,
        "y": 8,
        "z": null
       },
       "resultIndex": null
      }
     ],
     "globalVars": {},
     "guid": "",
     "layoutOption": {
      "grid": true,
      "stack": true
     },
     "nuid": "be16bbf3-aa60-46b2-933f-d7d55e8e95e2",
     "origId": 4691112246049474,
     "title": "Main QA Checks",
     "version": "DashboardViewV1",
     "width": 1024
    }
   ],
   "environmentMetadata": {
    "base_environment": "",
    "environment_version": "2"
   },
   "inputWidgetPreferences": null,
   "language": "python",
   "notebookMetadata": {
    "pythonIndentUnit": 4
   },
   "notebookName": "PIFU_Validation_QA",
   "widgets": {
    "1_Provider": {
     "currentValue": "R1D",
     "nuid": "6a9bd23b-b7d4-4ed7-8f5f-4bd3a6c747cf",
     "typedWidgetInfo": {
      "autoCreated": false,
      "defaultValue": "All",
      "label": null,
      "name": "1_Provider",
      "options": {
       "widgetDisplayType": "Dropdown",
       "choices": [
        "All",
        "NQT",
        "NT219",
        "R0A",
        "R0B",
        "R0D",
        "R1D",
        "R1F",
        "R1H",
        "R1K",
        "RA2",
        "RA7",
        "RA9",
        "RAE",
        "RAJ",
        "RAL",
        "RAN",
        "RAS",
        "RAX",
        "RBD",
        "RBK",
        "RBL",
        "RBN",
        "RBQ",
        "RBS",
        "RBT",
        "RC9",
        "RCB",
        "RCD",
        "RCF",
        "RCU",
        "RCX",
        "RD1",
        "RD8",
        "RDE",
        "RDU",
        "RDY",
        "REF",
        "REM",
        "REN",
        "REP",
        "RET",
        "RF4",
        "RFF",
        "RFR",
        "RFS",
        "RGM",
        "RGN",
        "RGP",
        "RGR",
        "RGT",
        "RH5",
        "RH8",
        "RHA",
        "RHM",
        "RHQ",
        "RHU",
        "RHW",
        "RJ1",
        "RJ2",
        "RJ6",
        "RJ7",
        "RJC",
        "RJE",
        "RJL",
        "RJN",
        "RJR",
        "RJZ",
        "RK5",
        "RK9",
        "RKB",
        "RKE",
        "RL1",
        "RL4",
        "RLQ",
        "RLT",
        "RM1",
        "RM3",
        "RMC",
        "RMP",
        "RN3",
        "RN5",
        "RN7",
        "RNA",
        "RNN",
        "RNQ",
        "RNS",
        "RNZ",
        "RP1",
        "RP4",
        "RP5",
        "RP6",
        "RPA",
        "RPC",
        "RPY",
        "RQ3",
        "RQM",
        "RQW",
        "RQX",
        "RR7",
        "RR8",
        "RRE",
        "RRF",
        "RRJ",
        "RRK",
        "RRV",
        "RTD",
        "RTE",
        "RTF",
        "RTG",
        "RTH",
        "RTK",
        "RTP",
        "RTR",
        "RTX",
        "RVJ",
        "RVR",
        "RVV",
        "RVW",
        "RW1",
        "RWA",
        "RWD",
        "RWE",
        "RWF",
        "RWG",
        "RWH",
        "RWJ",
        "RWP",
        "RWW",
        "RWY",
        "RX1",
        "RXC",
        "RXF",
        "RXK",
        "RXL",
        "RXN",
        "RXP",
        "RXQ",
        "RXR",
        "RXW",
        "RYJ",
        "RYR",
        "RYW"
       ],
       "fixedDomain": true,
       "multiselect": false
      },
      "parameterDataType": "String"
     },
     "widgetInfo": {
      "widgetType": "dropdown",
      "defaultValue": "All",
      "label": null,
      "name": "1_Provider",
      "options": {
       "widgetType": "dropdown",
       "autoCreated": false,
       "choices": [
        "All",
        "NQT",
        "NT219",
        "R0A",
        "R0B",
        "R0D",
        "R1D",
        "R1F",
        "R1H",
        "R1K",
        "RA2",
        "RA7",
        "RA9",
        "RAE",
        "RAJ",
        "RAL",
        "RAN",
        "RAS",
        "RAX",
        "RBD",
        "RBK",
        "RBL",
        "RBN",
        "RBQ",
        "RBS",
        "RBT",
        "RC9",
        "RCB",
        "RCD",
        "RCF",
        "RCU",
        "RCX",
        "RD1",
        "RD8",
        "RDE",
        "RDU",
        "RDY",
        "REF",
        "REM",
        "REN",
        "REP",
        "RET",
        "RF4",
        "RFF",
        "RFR",
        "RFS",
        "RGM",
        "RGN",
        "RGP",
        "RGR",
        "RGT",
        "RH5",
        "RH8",
        "RHA",
        "RHM",
        "RHQ",
        "RHU",
        "RHW",
        "RJ1",
        "RJ2",
        "RJ6",
        "RJ7",
        "RJC",
        "RJE",
        "RJL",
        "RJN",
        "RJR",
        "RJZ",
        "RK5",
        "RK9",
        "RKB",
        "RKE",
        "RL1",
        "RL4",
        "RLQ",
        "RLT",
        "RM1",
        "RM3",
        "RMC",
        "RMP",
        "RN3",
        "RN5",
        "RN7",
        "RNA",
        "RNN",
        "RNQ",
        "RNS",
        "RNZ",
        "RP1",
        "RP4",
        "RP5",
        "RP6",
        "RPA",
        "RPC",
        "RPY",
        "RQ3",
        "RQM",
        "RQW",
        "RQX",
        "RR7",
        "RR8",
        "RRE",
        "RRF",
        "RRJ",
        "RRK",
        "RRV",
        "RTD",
        "RTE",
        "RTF",
        "RTG",
        "RTH",
        "RTK",
        "RTP",
        "RTR",
        "RTX",
        "RVJ",
        "RVR",
        "RVV",
        "RVW",
        "RW1",
        "RWA",
        "RWD",
        "RWE",
        "RWF",
        "RWG",
        "RWH",
        "RWJ",
        "RWP",
        "RWW",
        "RWY",
        "RX1",
        "RXC",
        "RXF",
        "RXK",
        "RXL",
        "RXN",
        "RXP",
        "RXQ",
        "RXR",
        "RXW",
        "RYJ",
        "RYR",
        "RYW"
       ]
      }
     }
    },
    "2_Metric": {
     "currentValue": "All",
     "nuid": "f04cad64-f3df-4a94-bd11-9c1f3f612861",
     "typedWidgetInfo": {
      "autoCreated": false,
      "defaultValue": "All",
      "label": null,
      "name": "2_Metric",
      "options": {
       "widgetDisplayType": "Dropdown",
       "choices": [
        "All",
        "PIFUSRTDC01",
        "PIFUSRTMV01"
       ],
       "fixedDomain": true,
       "multiselect": false
      },
      "parameterDataType": "String"
     },
     "widgetInfo": {
      "widgetType": "dropdown",
      "defaultValue": "All",
      "label": null,
      "name": "2_Metric",
      "options": {
       "widgetType": "dropdown",
       "autoCreated": false,
       "choices": [
        "All",
        "PIFUSRTDC01",
        "PIFUSRTMV01"
       ]
      }
     }
    },
    "3_StartDate": {
     "currentValue": "2023-04-01",
     "nuid": "e7d92ed0-f3fe-4491-950a-3ccae76d891b",
     "typedWidgetInfo": {
      "autoCreated": false,
      "defaultValue": "2023-04-01",
      "label": null,
      "name": "3_StartDate",
      "options": {
       "widgetDisplayType": "Text",
       "validationRegex": null
      },
      "parameterDataType": "String"
     },
     "widgetInfo": {
      "widgetType": "text",
      "defaultValue": "2023-04-01",
      "label": null,
      "name": "3_StartDate",
      "options": {
       "widgetType": "text",
       "autoCreated": false,
       "validationRegex": null
      }
     }
    },
    "4_EndDate": {
     "currentValue": "2025-06-01",
     "nuid": "59074eab-8a01-47c2-bde6-560b7658cebe",
     "typedWidgetInfo": {
      "autoCreated": false,
      "defaultValue": "2025-06-01",
      "label": null,
      "name": "4_EndDate",
      "options": {
       "widgetDisplayType": "Text",
       "validationRegex": null
      },
      "parameterDataType": "String"
     },
     "widgetInfo": {
      "widgetType": "text",
      "defaultValue": "2025-06-01",
      "label": null,
      "name": "4_EndDate",
      "options": {
       "widgetType": "text",
       "autoCreated": false,
       "validationRegex": null
      }
     }
    }
   }
  },
  "language_info": {
   "name": "python"
  }
 },
 "nbformat": 4,
 "nbformat_minor": 0
}
