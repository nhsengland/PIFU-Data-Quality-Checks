{
 "cells": [
  {
   "cell_type": "code",
   "execution_count": 0,
   "metadata": {
    "application/vnd.databricks.v1+cell": {
     "cellMetadata": {
      "byteLimit": 2048000,
      "rowLimit": 10000
     },
     "inputWidgets": {},
     "nuid": "2f84302a-48af-4709-a9d4-4dbb4fc701cd",
     "showTitle": false,
     "tableResultSettingsMap": {},
     "title": ""
    }
   },
   "outputs": [],
   "source": [
    "#1 Import the tools (from env import env, not used for this notebook)\n",
    "\n",
    "from src import utils, excel\n",
    "\n",
    "import openpyxl\n",
    "import pandas as pd\n",
    "\n",
    "from pyspark.sql import functions as F\n",
    "from datetime import datetime\n",
    "from openpyxl.styles import NamedStyle\n"
   ]
  },
  {
   "cell_type": "code",
   "execution_count": 0,
   "metadata": {
    "application/vnd.databricks.v1+cell": {
     "cellMetadata": {
      "byteLimit": 2048000,
      "rowLimit": 10000
     },
     "inputWidgets": {},
     "nuid": "47baae17-11df-4bb2-aa30-57b800602a50",
     "showTitle": false,
     "tableResultSettingsMap": {
      "0": {
       "dataGridStateBlob": "{\"version\":1,\"tableState\":{\"columnPinning\":{\"left\":[\"#row_number#\"],\"right\":[]},\"columnSizing\":{\"EROC_DerTFC\":131,\"EROC_DerProviderCode\":157,\"EROC_DerMetric\":131,\"EROC_Value\":106,\"EROC_Latest_Flag\":125},\"columnVisibility\":{}},\"settings\":{\"columns\":{}},\"syncTimestamp\":1753796508012}",
       "filterBlob": null,
       "queryPlanFiltersBlob": null,
       "tableResultIndex": 0
      }
     },
     "title": ""
    }
   },
   "outputs": [],
   "source": [
    "#2 Load PIFU data (connecting to the file we cretaed in the qpat_load notebook)\n",
    "from pyspark.sql import functions as F\n",
    "\n",
    "# Load data\n",
    "df_pifu_qa = spark.read.format('delta').load(\n",
    "    'abfss://analytics-projects@udalstdataanalysisprod.dfs.core.windows.net/ElectiveRecovery/Projects/PIFU_Validation'\n",
    ")\n",
    "\n",
    "\n",
    "df_pifu_qa.display()"
   ]
  },
  {
   "cell_type": "code",
   "execution_count": 0,
   "metadata": {
    "application/vnd.databricks.v1+cell": {
     "cellMetadata": {
      "byteLimit": 2048000,
      "rowLimit": 10000
     },
     "inputWidgets": {},
     "nuid": "a6fb9569-bf68-46ea-ac88-96a316022231",
     "showTitle": false,
     "tableResultSettingsMap": {},
     "title": ""
    }
   },
   "outputs": [],
   "source": [
    "#3 This is making a data frame of the org names and regions that we can join to later to get the provider name\n",
    "from pyspark.sql.types import StructType, StructField, StringType\n",
    "\n",
    "data = [\n",
    "    (\"NV302\", \"Circle Bath Hospital\", \"South West\"),\n",
    "    (\"NYG\", \"Sussex Community Dermatology Service\", \"South East\"),\n",
    "    (\"R0A\", \"Manchester University NHS Foundation Trust\", \"North West\"),\n",
    "    (\"R0B\", \"South Tyneside And Sunderland NHS Foundation Trust\", \"North East and Yorkshire\"),\n",
    "    (\"R0D\", \"University Hospitals Dorset NHS Foundation Trust\", \"South West\"),\n",
    "    (\"R1A\", \"Herefordshire And Worcestershire Health And Care NHS Trust\", \"Midlands\"),\n",
    "    (\"R1D\", \"Shropshire Community Health NHS Trust\", \"Midlands\"),\n",
    "    (\"R1F\", \"Isle of Wight NHS Trust\", \"South East\"),\n",
    "    (\"R1H\", \"Barts Health NHS Trust\", \"London\"),\n",
    "    (\"R1K\", \"London North West University Healthcare NHS Trust\", \"London\"),\n",
    "    (\"R1L\", \"Essex Partnership University NHS Foundation Trust\", \"East of England\"),\n",
    "    (\"RA2\", \"Royal Surrey County Hospital NHS Foundation Trust\", \"South East\"),\n",
    "    (\"RA7\", \"University Hospitals Bristol And Weston NHS Foundation Trust\", \"South West\"),\n",
    "    (\"RA9\", \"Torbay And South Devon NHS Foundation Trust\", \"South West\"),\n",
    "    (\"RAE\", \"Bradford Teaching Hospitals NHS Foundation Trust\", \"North East and Yorkshire\"),\n",
    "    (\"RAJ\", \"Mid And South Essex NHS Foundation Trust\", \"East of England\"),\n",
    "    (\"RAL\", \"Royal Free London NHS Foundation Trust\", \"London\"),\n",
    "    (\"RAN\", \"Royal National Orthopaedic Hospital NHS Trust\", \"London\"),\n",
    "    (\"RAS\", \"The Hillingdon Hospitals NHS Foundation Trust\", \"London\"),\n",
    "    (\"RAT\", \"North East London NHS Foundation Trust\", \"London\"),\n",
    "    (\"RAX\", \"Kingston and Richmond NHS Foundation Trust\", \"London\"),\n",
    "    (\"RBD\", \"Dorset County Hospital NHS Foundation Trust\", \"South West\"),\n",
    "    (\"RBK\", \"Walsall Healthcare NHS Trust\", \"Midlands\"),\n",
    "    (\"RBL\", \"Wirral University Teaching Hospital NHS Foundation Trust\", \"North West\"),\n",
    "    (\"RBN\", \"Mersey and West Lancashire Teaching Hospitals NHS Trust\", \"North West\"),\n",
    "    (\"RBQ\", \"Liverpool Heart And Chest Hospital NHS Foundation Trust\", \"North West\"),\n",
    "    (\"RBS\", \"Alder Hey Children's NHS Foundation Trust\", \"North West\"),\n",
    "    (\"RBT\", \"Mid Cheshire Hospitals NHS Foundation Trust\", \"North West\"),\n",
    "    (\"RBV\", \"The Christie NHS Foundation Trust\", \"North West\"),\n",
    "    (\"RC9\", \"Bedfordshire Hospitals NHS Foundation Trust\", \"East of England\"),\n",
    "    (\"RCB\", \"York And Scarborough Teaching Hospitals NHS Foundation Trust\", \"North East and Yorkshire\"),\n",
    "    (\"RCD\", \"Harrogate And District NHS Foundation Trust\", \"North East and Yorkshire\"),\n",
    "    (\"RCF\", \"Airedale NHS Foundation Trust\", \"North East and Yorkshire\"),\n",
    "    (\"RCU\", \"Sheffield Children's NHS Foundation Trust\", \"North East and Yorkshire\"),\n",
    "    (\"RCX\", \"The Queen Elizabeth Hospital, King's Lynn, NHS Foundation Trust\", \"East of England\"),\n",
    "    (\"RD1\", \"Royal United Hospitals Bath NHS Foundation Trust\", \"South West\"),\n",
    "    (\"RD8\", \"Milton Keynes University Hospital NHS Foundation Trust\", \"East of England\"),\n",
    "    (\"RDE\", \"East Suffolk And North Essex NHS Foundation Trust\", \"East of England\"),\n",
    "    (\"RDR\", \"Sussex Community NHS Foundation Trust\", \"South East\"),\n",
    "    (\"RDU\", \"Frimley Health NHS Foundation Trust\", \"South East\"),\n",
    "    (\"RDY\", \"Dorset Healthcare University NHS Foundation Trust\", \"South West\"),\n",
    "    (\"REF\", \"Royal Cornwall Hospitals NHS Trust\", \"South West\"),\n",
    "    (\"REM\", \"Liverpool University Hospitals NHS Foundation Trust\", \"North West\"),\n",
    "    (\"REN\", \"The Clatterbridge Cancer Centre NHS Foundation Trust\", \"North West\"),\n",
    "    (\"REP\", \"Liverpool Women's NHS Foundation Trust\", \"North West\"),\n",
    "    (\"RET\", \"The Walton Centre NHS Foundation Trust\", \"North West\"),\n",
    "    (\"RF4\", \"Barking, Havering And Redbridge University Hospitals NHS Trust\", \"London\"),\n",
    "    (\"RFF\", \"Barnsley Hospital NHS Foundation Trust\", \"North East and Yorkshire\"),\n",
    "    (\"RFR\", \"The Rotherham NHS Foundation Trust\", \"North East and Yorkshire\"),\n",
    "    (\"RFS\", \"Chesterfield Royal Hospital NHS Foundation Trust\", \"Midlands\"),\n",
    "    (\"RGM\", \"Royal Papworth Hospital NHS Foundation Trust\", \"East of England\"),\n",
    "    (\"RGN\", \"North West Anglia NHS Foundation Trust\", \"East of England\"),\n",
    "    (\"RGP\", \"James Paget University Hospitals NHS Foundation Trust\", \"East of England\"),\n",
    "    (\"RGR\", \"West Suffolk NHS Foundation Trust\", \"East of England\"),\n",
    "    (\"RGT\", \"Cambridge University Hospitals NHS Foundation Trust\", \"East of England\"),\n",
    "    (\"RH5\", \"Somerset NHS Foundation Trust\", \"South West\"),\n",
    "    (\"RH8\", \"Royal Devon University Healthcare NHS Foundation Trust\", \"South West\"),\n",
    "    (\"RHA\", \"Nottinghamshire Healthcare NHS Foundation Trust\", \"Midlands\"),\n",
    "    (\"RHM\", \"University Hospital Southampton NHS Foundation Trust\", \"South East\"),\n",
    "    (\"RHQ\", \"Sheffield Teaching Hospitals NHS Foundation Trust\", \"North East and Yorkshire\"),\n",
    "    (\"RHU\", \"Portsmouth Hospitals University National Health Service Trust\", \"South East\"),\n",
    "    (\"RHW\", \"Royal Berkshire NHS Foundation Trust\", \"South East\"),\n",
    "    (\"RJ1\", \"Guy's And St Thomas' NHS Foundation Trust\", \"London\"),\n",
    "    (\"RJ2\", \"Lewisham And Greenwich NHS Trust\", \"London\"),\n",
    "    (\"RJ6\", \"Croydon Health Services NHS Trust\", \"London\"),\n",
    "    (\"RJ7\", \"St George's University Hospitals NHS Foundation Trust\", \"London\"),\n",
    "    (\"RJ8\", \"Cornwall Partnership NHS Foundation Trust\", \"South West\"),\n",
    "    (\"RJC\", \"South Warwickshire NHS Foundation Trust\", \"Midlands\"),\n",
    "    (\"RJE\", \"University Hospitals of North Midlands NHS Trust\", \"Midlands\"),\n",
    "    (\"RJL\", \"Northern Lincolnshire And Goole NHS Foundation Trust\", \"North East and Yorkshire\"),\n",
    "    (\"RJN\", \"East Cheshire NHS Trust\", \"North West\"),\n",
    "    (\"RJR\", \"Countess of Chester Hospital NHS Foundation Trust\", \"North West\"),\n",
    "    (\"RJZ\", \"King's College Hospital NHS Foundation Trust\", \"London\"),\n",
    "    (\"RK5\", \"Sherwood Forest Hospitals NHS Foundation Trust\", \"Midlands\"),\n",
    "    (\"RK9\", \"University Hospitals Plymouth NHS Trust\", \"South West\"),\n",
    "    (\"RKB\", \"University Hospitals Coventry And Warwickshire NHS Trust\", \"Midlands\"),\n",
    "    (\"RKE\", \"Whittington Health NHS Trust\", \"London\"),\n",
    "    (\"RKL\", \"West London NHS Trust\", \"London\"),\n",
    "    (\"RL1\", \"The Robert Jones And Agnes Hunt Orthopaedic Hospital NHS Foundation Trust\", \"Midlands\"),\n",
    "    (\"RL4\", \"The Royal Wolverhampton NHS Trust\", \"Midlands\"),\n",
    "    (\"RLQ\", \"Wye Valley NHS Trust\", \"Midlands\"),\n",
    "    (\"RLT\", \"George Eliot Hospital NHS Trust\", \"Midlands\"),\n",
    "    (\"RLY\", \"North Staffordshire Combined Healthcare NHS Trust\", \"Midlands\"),\n",
    "    (\"RM1\", \"Norfolk And Norwich University Hospitals NHS Foundation Trust\", \"East of England\"),\n",
    "    (\"RM3\", \"Northern Care Alliance NHS Foundation Trust\", \"North West\"),\n",
    "    (\"RMC\", \"Bolton NHS Foundation Trust\", \"North West\"),\n",
    "    (\"RMP\", \"Tameside And Glossop Integrated Care NHS Foundation Trust\", \"North West\"),\n",
    "    (\"RMY\", \"Norfolk And Suffolk NHS Foundation Trust\", \"East of England\"),\n",
    "    (\"RN3\", \"Great Western Hospitals NHS Foundation Trust\", \"South West\"),\n",
    "    (\"RN5\", \"Hampshire Hospitals NHS Foundation Trust\", \"South East\"),\n",
    "    (\"RN7\", \"Dartford And Gravesham NHS Trust\", \"South East\"),\n",
    "    (\"RNA\", \"The Dudley Group NHS Foundation Trust\", \"Midlands\"),\n",
    "    (\"RNK\", \"Tavistock And Portman NHS Foundation Trust\", \"London\"),\n",
    "    (\"RNN\", \"North Cumbria Integrated Care NHS Foundation Trust\", \"North East and Yorkshire\"),\n",
    "    (\"RNQ\", \"Kettering General Hospital NHS Foundation Trust\", \"Midlands\"),\n",
    "    (\"RNS\", \"Northampton General Hospital NHS Trust\", \"Midlands\"),\n",
    "    (\"RNU\", \"Oxford Health NHS Foundation Trust\", \"South East\"),\n",
    "    (\"RNZ\", \"Salisbury NHS Foundation Trust\", \"South West\"),\n",
    "    (\"RP1\", \"Northamptonshire Healthcare NHS Foundation Trust\", \"Midlands\"),\n",
    "    (\"RP4\", \"Great Ormond Street Hospital For Children NHS Foundation Trust\", \"London\"),\n",
    "    (\"RP5\", \"Doncaster And Bassetlaw Teaching Hospitals NHS Foundation Trust\", \"North East and Yorkshire\"),\n",
    "    (\"RP6\", \"Moorfields Eye Hospital NHS Foundation Trust\", \"London\"),\n",
    "    (\"RP7\", \"Lincolnshire Partnership NHS Foundation Trust\", \"Midlands\"),\n",
    "    (\"RPA\", \"Medway NHS Foundation Trust\", \"South East\"),\n",
    "    (\"RPC\", \"Queen Victoria Hospital NHS Foundation Trust\", \"South East\"),\n",
    "    (\"RPG\", \"Oxleas NHS Foundation Trust\", \"London\"),\n",
    "    (\"RPY\", \"The Royal Marsden NHS Foundation Trust\", \"London\"),\n",
    "    (\"RQ3\", \"Birmingham Women's And Children's NHS Foundation Trust\", \"Midlands\"),\n",
    "    (\"RQM\", \"Chelsea And Westminster Hospital NHS Foundation Trust\", \"London\"),\n",
    "    (\"RQW\", \"The Princess Alexandra Hospital NHS Trust\", \"East of England\"),\n",
    "    (\"RQX\", \"Homerton University Hospital NHS Foundation Trust\", \"London\"),\n",
    "    (\"RQY\", \"South West London And St George's Mental Health NHS Trust\", \"London\"),\n",
    "    (\"RR7\", \"Gateshead Health NHS Foundation Trust\", \"North East and Yorkshire\"),\n",
    "    (\"RR8\", \"Leeds Teaching Hospitals NHS Trust\", \"North East and Yorkshire\"),\n",
    "    (\"RRE\", \"Midlands Partnership NHS Foundation Trust\", \"Midlands\"),\n",
    "    (\"RRF\", \"Wrightington, Wigan And Leigh NHS Foundation Trust\", \"North West\"),\n",
    "    (\"RRJ\", \"The Royal Orthopaedic Hospital NHS Foundation Trust\", \"Midlands\"),\n",
    "    (\"RRK\", \"University Hospitals Birmingham NHS Foundation Trust\", \"Midlands\"),\n",
    "    (\"RRP\", \"Barnet, Enfield And Haringey Mental Health NHS Trust\", \"London\"),\n",
    "    (\"RRV\", \"University College London Hospitals NHS Foundation Trust\", \"London\"),\n",
    "    (\"RT1\", \"Cambridgeshire And Peterborough NHS Foundation Trust\", \"East of England\"),\n",
    "    (\"RT2\", \"Pennine Care NHS Foundation Trust\", \"North West\"),\n",
    "    (\"RT5\", \"Leicestershire Partnership NHS Trust\", \"Midlands\"),\n",
    "    (\"RTD\", \"The Newcastle Upon Tyne Hospitals NHS Foundation Trust\", \"North East and Yorkshire\"),\n",
    "    (\"RTE\", \"Gloucestershire Hospitals NHS Foundation Trust\", \"South West\"),\n",
    "    (\"RTF\", \"Northumbria Healthcare NHS Foundation Trust\", \"North East and Yorkshire\"),\n",
    "    (\"RTG\", \"University Hospitals of Derby And Burton NHS Foundation Trust\", \"Midlands\"),\n",
    "    (\"RTH\", \"Oxford University Hospitals NHS Foundation Trust\", \"South East\"),\n",
    "    (\"RTK\", \"Ashford And St Peter's Hospitals NHS Foundation Trust\", \"South East\"),\n",
    "    (\"RTP\", \"Surrey And Sussex Healthcare NHS Trust\", \"South East\"),\n",
    "    (\"RTQ\", \"Gloucestershire Health And Care NHS Foundation Trust\", \"South West\"),\n",
    "    (\"RTR\", \"South Tees Hospitals NHS Foundation Trust\", \"North East and Yorkshire\"),\n",
    "    (\"RTX\", \"University Hospitals of Morecambe Bay NHS Foundation Trust\", \"North West\"),\n",
    "    (\"RV3\", \"Central And North West London NHS Foundation Trust\", \"London\"),\n",
    "    (\"RV5\", \"South London And Maudsley NHS Foundation Trust\", \"London\"),\n",
    "    (\"RV9\", \"Humber Teaching NHS Foundation Trust\", \"North East and Yorkshire\"),\n",
    "    (\"RVJ\", \"North Bristol NHS Trust\", \"South West\"),\n",
    "    (\"RVN\", \"Avon And Wiltshire Mental Health Partnership NHS Trust\", \"South West\"),\n",
    "    (\"RVR\", \"Epsom And St Helier University Hospitals NHS Trust\", \"London\"),\n",
    "    (\"RVV\", \"East Kent Hospitals University NHS Foundation Trust\", \"South East\"),\n",
    "    (\"RVW\", \"North Tees And Hartlepool NHS Foundation Trust\", \"North East and Yorkshire\"),\n",
    "    (\"RW1\", \"Hampshire and Isle of Wight Healthcare NHS Foundation Trust\", \"South East\"),\n",
    "    (\"RW4\", \"Mersey Care NHS Foundation Trust\", \"North West\"),\n",
    "    (\"RW5\", \"Lancashire & South Cumbria NHS Foundation Trust\", \"North West\"),\n",
    "    (\"RWA\", \"Hull University Teaching Hospitals NHS Trust\", \"North East and Yorkshire\"),\n",
    "    (\"RWD\", \"United Lincolnshire Hospitals NHS Trust\", \"Midlands\"),\n",
    "    (\"RWE\", \"University Hospitals of Leicester NHS Trust\", \"Midlands\"),\n",
    "    (\"RWF\", \"Maidstone And Tunbridge Wells NHS Trust\", \"South East\"),\n",
    "    (\"RWG\", \"West Hertfordshire Teaching Hospitals NHS Trust\", \"East of England\"),\n",
    "    (\"RWH\", \"East And North Hertfordshire NHS Trust\", \"East of England\"),\n",
    "    (\"RWJ\", \"Stockport NHS Foundation Trust\", \"North West\"),\n",
    "    (\"RWK\", \"East London NHS Foundation Trust\", \"London\"),\n",
    "    (\"RWP\", \"Worcestershire Acute Hospitals NHS Trust\", \"Midlands\"),\n",
    "    (\"RWR\", \"Hertfordshire Partnership University NHS Foundation Trust\", \"East of England\"),\n",
    "    (\"RWV\", \"Devon Partnership NHS Trust\", \"South West\"),\n",
    "    (\"RWW\", \"Warrington And Halton Teaching Hospitals NHS Foundation Trust\", \"North West\"),\n",
    "    (\"RWX\", \"Berkshire Healthcare NHS Foundation Trust\", \"South East\"),\n",
    "    (\"RWY\", \"Calderdale And Huddersfield NHS Foundation Trust\", \"North East and Yorkshire\"),\n",
    "    (\"RX1\", \"Nottingham University Hospitals NHS Trust\", \"Midlands\"),\n",
    "    (\"RX2\", \"Sussex Partnership NHS Foundation Trust\", \"South East\"),\n",
    "    (\"RX4\", \"Cumbria, Northumberland, Tyne And Wear NHS Foundation Trust\", \"North East and Yorkshire\"),\n",
    "    (\"RXA\", \"Cheshire And Wirral Partnership NHS Foundation Trust\", \"North West\"),\n",
    "    (\"RXC\", \"East Sussex Healthcare NHS Trust\", \"South East\"),\n",
    "    (\"RXE\", \"Rotherham Doncaster And South Humber NHS Foundation Trust\", \"North East and Yorkshire\"),\n",
    "    (\"RXF\", \"Mid Yorkshire Hospitals NHS Trust\", \"North East and Yorkshire\"),\n",
    "    (\"RXG\", \"South West Yorkshire Partnership NHS Foundation Trust\", \"North East and Yorkshire\"),\n",
    "    (\"RXK\", \"Sandwell And West Birmingham Hospitals NHS Trust\", \"Midlands\"),\n",
    "    (\"RXL\", \"Blackpool Teaching Hospitals NHS Foundation Trust\", \"North West\"),\n",
    "    (\"RXM\", \"Derbyshire Healthcare NHS Foundation Trust\", \"Midlands\"),\n",
    "    (\"RXN\", \"Lancashire Teaching Hospitals NHS Foundation Trust\", \"North West\"),\n",
    "    (\"RXP\", \"County Durham And Darlington NHS Foundation Trust\", \"North East and Yorkshire\"),\n",
    "    (\"RXQ\", \"Buckinghamshire Healthcare NHS Trust\", \"South East\"),\n",
    "    (\"RXR\", \"East Lancashire Hospitals NHS Trust\", \"North West\"),\n",
    "    (\"RXT\", \"Birmingham And Solihull Mental Health NHS Foundation Trust\", \"Midlands\"),\n",
    "    (\"RXW\", \"The Shrewsbury And Telford Hospital NHS Trust\", \"Midlands\"),\n",
    "    (\"RXX\", \"Surrey And Borders Partnership NHS Foundation Trust\", \"South East\"),\n",
    "    (\"RXY\", \"Kent And Medway NHS And Social Care Partnership Trust\", \"South East\"),\n",
    "    (\"RY2\", \"Bridgewater Community Healthcare NHS Foundation Trust\", \"North West\"),\n",
    "    (\"RY3\", \"Norfolk Community Health And Care NHS Trust\", \"East of England\"),\n",
    "    (\"RY4\", \"Hertfordshire Community NHS Trust\", \"East of England\"),\n",
    "    (\"RY5\", \"Lincolnshire Community Health Services NHS Trust\", \"Midlands\"),\n",
    "    (\"RY6\", \"Leeds Community Healthcare NHS Trust\", \"North East and Yorkshire\"),\n",
    "    (\"RY7\", \"Wirral Community Health And Care NHS Foundation Trust\", \"North West\"),\n",
    "    (\"RY8\", \"Derbyshire Community Health Services NHS Foundation Trust\", \"Midlands\"),\n",
    "    (\"RYG\", \"Coventry And Warwickshire Partnership NHS Trust\", \"Midlands\"),\n",
    "    (\"RYJ\", \"Imperial College Healthcare NHS Trust\", \"London\"),\n",
    "    (\"RYR\", \"University Hospitals Sussex NHS Foundation Trust\", \"South East\"),\n",
    "    (\"RYV\", \"Cambridgeshire Community Services NHS Trust\", \"East of England\"),\n",
    "    (\"RYW\", \"Birmingham Community Healthcare NHS Foundation Trust\", \"Midlands\"),\n",
    "    (\"RYX\", \"Central London Community Healthcare NHS Trust\", \"London\"),\n",
    "    (\"RYY\", \"Kent Community Health NHS Foundation Trust\", \"South East\"),\n",
    "    (\"TAD\", \"Bradford District Care NHS Foundation Trust\", \"North East and Yorkshire\")\n",
    "]\n",
    "\n",
    "schema = StructType([\n",
    "    StructField(\"Org Code\", StringType(), True),\n",
    "    StructField(\"Org Name\", StringType(), True),\n",
    "    StructField(\"Region Name\", StringType(), True)\n",
    "])\n",
    "\n",
    "org_name = spark.createDataFrame(data, schema)\n",
    "\n",
    "org_name.display()"
   ]
  },
  {
   "cell_type": "code",
   "execution_count": 0,
   "metadata": {
    "application/vnd.databricks.v1+cell": {
     "cellMetadata": {
      "byteLimit": 2048000,
      "rowLimit": 10000
     },
     "inputWidgets": {},
     "nuid": "31ff8504-b393-481d-b4ec-818795d28685",
     "showTitle": false,
     "tableResultSettingsMap": {
      "0": {
       "dataGridStateBlob": "{\"version\":1,\"tableState\":{\"columnPinning\":{\"left\":[\"#row_number#\"],\"right\":[]},\"columnSizing\":{},\"columnVisibility\":{}},\"settings\":{\"columns\":{}},\"syncTimestamp\":1753457679668}",
       "filterBlob": null,
       "queryPlanFiltersBlob": null,
       "tableResultIndex": 0
      }
     },
     "title": ""
    }
   },
   "outputs": [],
   "source": [
    "#4 Bringing back moved and discharged columns and value from raw df & creating a join to get OrgName\n",
    "from pyspark.sql import functions as F\n",
    "\n",
    "# Step 1: Filter and relabel the metrics\n",
    "df_moved_discharged = (\n",
    "    df_pifu_qa\n",
    "    .where(F.col(\"EROC_DerMetric\").isin(\"PIFUSRTMV01\", \"PIFUSRTDC01\"))\n",
    "    .where(F.col(\"EROC_DerMonth\") > '2023-03-01')\n",
    "    .where(F.col(\"EROC_Latest_Flag\") == 1)\n",
    "    .withColumn(\"EROC_DerMetric\", F.lit(\"Moved&Discharged\"))  # Rename both to single value\n",
    "    .groupby(\n",
    "        \"EROC_DerMonth\",\n",
    "        \"EROC_DerProviderCode\",\n",
    "        \"EROC_DerTFC\",\n",
    "        \"RegionName\",\n",
    "        \"EROC_DerMetric\"\n",
    "    )\n",
    "    .agg(F.sum(\"EROC_Value\").alias(\"Value\"))\n",
    "    .orderBy(\n",
    "        \"EROC_DerMonth\",\n",
    "        \"EROC_DerProviderCode\"\n",
    "    )\n",
    ")\n",
    "\n",
    "# Step 2: Join to get OrgName\n",
    "df_moved_discharged = df_moved_discharged.join(\n",
    "    org_name.withColumnRenamed(\"Org Name\", \"OrgName\"),\n",
    "    df_moved_discharged[\"EROC_DerProviderCode\"] == org_name[\"Org Code\"],\n",
    "    \"left\"\n",
    ").drop(org_name[\"Org Code\"])\n",
    "\n",
    "# Display result\n",
    "df_moved_discharged.display()"
   ]
  },
  {
   "cell_type": "code",
   "execution_count": 0,
   "metadata": {
    "application/vnd.databricks.v1+cell": {
     "cellMetadata": {
      "byteLimit": 2048000,
      "rowLimit": 10000
     },
     "inputWidgets": {},
     "nuid": "0235b10e-a220-4a56-bd67-43b41ffc8ef2",
     "showTitle": false,
     "tableResultSettingsMap": {
      "0": {
       "dataGridStateBlob": "{\"version\":1,\"tableState\":{\"columnPinning\":{\"left\":[\"#row_number#\"],\"right\":[]},\"columnSizing\":{},\"columnVisibility\":{}},\"settings\":{\"columns\":{}},\"syncTimestamp\":1752592489301}",
       "filterBlob": null,
       "queryPlanFiltersBlob": null,
       "tableResultIndex": 0
      }
     },
     "title": ""
    }
   },
   "outputs": [],
   "source": [
    "#5 making the pivot of (df_moved_discharged)\n",
    "spark.conf.set(\"spark.sql.legacy.timeParserPolicy\", \"LEGACY\")#create the pivoted data frame\n",
    "\n",
    "df_pivoted = (\n",
    "    df_moved_discharged\n",
    "    .groupBy(\"EROC_DerMonth\", \"RegionName\", \"EROC_DerProviderCode\", \"OrgName\")\n",
    "    .pivot(\"EROC_DerMetric\")  # creates columns for each metric\n",
    "    .agg(F.first(\"Value\"))    # or F.sum if there are multiple rows\n",
    "    .na.fill(0)  # replace nulls with 0\n",
    "    .orderBy(\"EROC_DerMonth\", \"RegionName\", \"EROC_DerProviderCode\")\n",
    ")\n",
    "\n",
    "df_pivoted.display()\n"
   ]
  },
  {
   "cell_type": "code",
   "execution_count": 0,
   "metadata": {
    "application/vnd.databricks.v1+cell": {
     "cellMetadata": {
      "byteLimit": 2048000,
      "rowLimit": 10000
     },
     "inputWidgets": {},
     "nuid": "80725953-6122-486e-9698-e558ead0bf54",
     "showTitle": false,
     "tableResultSettingsMap": {},
     "title": ""
    }
   },
   "outputs": [],
   "source": [
    "#6 each data refresh needs to have the old widgest removed\n",
    "dbutils.widgets.removeAll()"
   ]
  },
  {
   "cell_type": "code",
   "execution_count": 0,
   "metadata": {
    "application/vnd.databricks.v1+cell": {
     "cellMetadata": {
      "byteLimit": 2048000,
      "rowLimit": 10000
     },
     "inputWidgets": {},
     "nuid": "f7a630dd-732a-4a7e-9d07-29dfd39e2894",
     "showTitle": false,
     "tableResultSettingsMap": {},
     "title": ""
    }
   },
   "outputs": [],
   "source": [
    "#7 Creating the data structure for the chart \n",
    "from pyspark.sql.functions import to_date, col\n",
    "from datetime import datetime\n",
    "import plotly.express as px\n",
    "\n",
    "# Step 1: Convert date string to proper date type\n",
    "df_moved_discharged = df_moved_discharged.withColumn(\n",
    "    \"EROC_DerMonth\", to_date(col(\"EROC_DerMonth\"), \"yyyy-MM-dd\")\n",
    ")\n",
    "\n",
    "# Step 2: Register the DataFrame as a temp SQL view\n",
    "df_moved_discharged.createOrReplaceTempView(\"moved_discharged\")\n",
    "\n",
    "# Step 3: Get base DataFrame with valid rows\n",
    "df_line_chart = spark.sql(\"\"\"\n",
    "    SELECT\n",
    "        EROC_DerMonth,\n",
    "        RegionName,\n",
    "        EROC_DerProviderCode,\n",
    "        OrgName,\n",
    "        EROC_DerMetric,\n",
    "        Value\n",
    "    FROM\n",
    "        moved_discharged\n",
    "    WHERE\n",
    "        EROC_DerMonth IS NOT NULL\n",
    "        AND RegionName IS NOT NULL\n",
    "        AND EROC_DerProviderCode IS NOT NULL\n",
    "        AND OrgName IS NOT NULL\n",
    "        AND EROC_DerMetric IS NOT NULL\n",
    "\"\"\")\n",
    "\n",
    "# Step 4: Fetch distinct values and date range\n",
    "valid_regions = sorted(set(str(r[0]) for r in df_line_chart.select(\"RegionName\").distinct().collect()))\n",
    "valid_providers = sorted(set(str(p[0]) for p in df_line_chart.select(\"EROC_DerProviderCode\").distinct().collect()))\n",
    "valid_metrics = sorted(set(str(m[0]) for m in df_line_chart.select(\"EROC_DerMetric\").distinct().collect()))\n",
    "min_date, max_date = df_line_chart.selectExpr(\"min(EROC_DerMonth)\", \"max(EROC_DerMonth)\").first()\n"
   ]
  },
  {
   "cell_type": "code",
   "execution_count": 0,
   "metadata": {
    "application/vnd.databricks.v1+cell": {
     "cellMetadata": {
      "byteLimit": 2048000,
      "rowLimit": 10000
     },
     "inputWidgets": {},
     "nuid": "ede9b8ce-3a4a-4fa4-8ba7-9fcfaa151e08",
     "showTitle": false,
     "tableResultSettingsMap": {},
     "title": ""
    }
   },
   "outputs": [],
   "source": [
    "#8 Creating the filters in numerical order\n",
    "\n",
    "# 0. Region dropdown\n",
    "valid_regions = sorted(set(str(p[0]) for p in df_line_chart.select(\"RegionName\").distinct().collect()))\n",
    "dbutils.widgets.dropdown(\"1_Region\", \"All\", [\"All\"] + valid_regions)\n",
    "\n",
    "# Get the selected region\n",
    "selected_region = dbutils.widgets.get(\"1_Region\")\n",
    "\n",
    "# 1. Filtered provider dropdown based on selected region\n",
    "if selected_region == \"All\":\n",
    "    filtered_df = df_line_chart\n",
    "else:\n",
    "    filtered_df = df_line_chart.filter(df_line_chart[\"RegionName\"] == selected_region)\n",
    "\n",
    "valid_providers = sorted(set(str(p[0]) for p in filtered_df.select(\"EROC_DerProviderCode\").distinct().collect()))\n",
    "dbutils.widgets.dropdown(\"2_Provider\", \"All\", [\"All\"] + valid_providers)\n",
    "\n",
    "# 2. Metric dropdown\n",
    "valid_metrics = sorted(set(str(m[0]) for m in df_line_chart.select(\"EROC_DerMetric\").distinct().collect()))\n",
    "dbutils.widgets.dropdown(\"3_Metric\", \"All\", [\"All\"] + valid_metrics)\n",
    "\n",
    "# 3. Start date text box\n",
    "min_date = df_line_chart.selectExpr(\"min(EROC_DerMonth)\").first()[0]\n",
    "dbutils.widgets.text(\"4_StartDate\", min_date.strftime(\"%Y-%m-%d\") if min_date else \"\")\n",
    "\n",
    "# 4. End date text box\n",
    "max_date = df_line_chart.selectExpr(\"max(EROC_DerMonth)\").first()[0]\n",
    "dbutils.widgets.text(\"5_EndDate\", max_date.strftime(\"%Y-%m-%d\") if max_date else \"\")\n"
   ]
  },
  {
   "cell_type": "code",
   "execution_count": 0,
   "metadata": {
    "application/vnd.databricks.v1+cell": {
     "cellMetadata": {
      "byteLimit": 2048000,
      "rowLimit": 10000
     },
     "inputWidgets": {},
     "nuid": "0a06d1e4-c902-42bb-9b30-af6c9b0ecb60",
     "showTitle": false,
     "tableResultSettingsMap": {},
     "title": ""
    }
   },
   "outputs": [
    {
     "output_type": "display_data",
     "data": {
      "text/plain": [
       "Databricks visualization. Run in Databricks to view."
      ]
     },
     "metadata": {
      "application/vnd.databricks.v1.subcommand+json": {
       "baseErrorDetails": null,
       "bindings": {},
       "collapsed": false,
       "command": "%python\n__backend_agg_display_orig = display\n__backend_agg_dfs = []\ndef __backend_agg_display_new(df):\n    __backend_agg_df_modules = [\"pandas.core.frame\", \"databricks.koalas.frame\", \"pyspark.sql.dataframe\", \"pyspark.pandas.frame\", \"pyspark.sql.connect.dataframe\"]\n    if (type(df).__module__ in __backend_agg_df_modules and type(df).__name__ == 'DataFrame') or isinstance(df, list):\n        __backend_agg_dfs.append(df)\n\ndisplay = __backend_agg_display_new\n\ndef __backend_agg_user_code_fn():\n    import base64\n    exec(base64.standard_b64decode(\"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\").decode())\n\ntry:\n    # run user code\n    __backend_agg_user_code_fn()\n\n    #reset display function\n    display = __backend_agg_display_orig\n\n    if len(__backend_agg_dfs) > 0:\n        # create a temp view\n        if type(__backend_agg_dfs[0]).__module__ == \"databricks.koalas.frame\":\n            # koalas dataframe\n            __backend_agg_dfs[0].to_spark().createOrReplaceTempView(\"DatabricksViewbe5b8d9\")\n        elif type(__backend_agg_dfs[0]).__module__ == \"pandas.core.frame\" or isinstance(__backend_agg_dfs[0], list):\n            # pandas dataframe\n            spark.createDataFrame(__backend_agg_dfs[0]).createOrReplaceTempView(\"DatabricksViewbe5b8d9\")\n        else:\n            __backend_agg_dfs[0].createOrReplaceTempView(\"DatabricksViewbe5b8d9\")\n        #run backend agg\n        display(spark.sql(\"\"\"WITH q AS (select * from DatabricksViewbe5b8d9) SELECT SUM(`Value`) `column_1a3c4249343`,`EROC_DerMonth`,`EROC_DerProviderCode` FROM q GROUP BY `EROC_DerMonth`,`EROC_DerProviderCode`\"\"\"))\n    else:\n        displayHTML(\"dataframe no longer exists. If you're using dataframe.display(), use display(dataframe) instead.\")\n\n\nfinally:\n    spark.sql(\"drop view if exists DatabricksViewbe5b8d9\")\n    display = __backend_agg_display_orig\n    del __backend_agg_display_new\n    del __backend_agg_display_orig\n    del __backend_agg_dfs\n    del __backend_agg_user_code_fn\n\n",
       "commandTitle": "Moved & Discharged",
       "commandType": "auto",
       "commandVersion": 0,
       "commentThread": [],
       "commentsVisible": false,
       "contentSha256Hex": null,
       "customPlotOptions": {
        "redashChart": [
         {
          "key": "type",
          "value": "CHART"
         },
         {
          "key": "options",
          "value": {
           "alignYAxesAtZero": true,
           "coefficient": 1,
           "columnConfigurationMap": {
            "series": {
             "column": "EROC_DerProviderCode",
             "id": "column_3dbd9f41124"
            },
            "x": {
             "column": "EROC_DerMonth",
             "id": "column_1a3c4249345"
            },
            "y": [
             {
              "column": "Value",
              "id": "column_1a3c4249343",
              "transform": "SUM"
             }
            ]
           },
           "dateTimeFormat": "DD/MM/YYYY HH:mm",
           "direction": {
            "type": "counterclockwise"
           },
           "error_y": {
            "type": "data",
            "visible": true
           },
           "globalSeriesType": "line",
           "isAggregationOn": true,
           "legend": {
            "traceorder": "normal"
           },
           "missingValuesAsZero": true,
           "numberFormat": "0,0.[00000]",
           "percentFormat": "0[.]00%",
           "series": {
            "error_y": {
             "type": "data",
             "visible": true
            },
            "stacking": null
           },
           "seriesOptions": {
            "column_1a3c4249343": {
             "name": "Moved & discharged",
             "type": "line",
             "yAxis": 0
            },
            "column_1a3c4249344": {
             "name": "PIFUSRTMV01",
             "type": "line",
             "yAxis": 0
            }
           },
           "showDataLabels": false,
           "sizemode": "diameter",
           "sortX": true,
           "sortY": true,
           "swappedAxes": false,
           "textFormat": "",
           "useAggregationsUi": true,
           "valuesOptions": {},
           "version": 2,
           "xAxis": {
            "labels": {
             "enabled": true
            },
            "type": "-"
           },
           "yAxis": [
            {
             "title": {
              "text": "Moved & discharged"
             },
             "type": "-"
            },
            {
             "opposite": true,
             "type": "-"
            }
           ]
          }
         }
        ]
       },
       "datasetPreviewNameToCmdIdMap": {},
       "diffDeletes": [],
       "diffInserts": [],
       "displayType": "redashChart",
       "error": null,
       "errorDetails": null,
       "errorSummary": null,
       "errorTraceType": null,
       "finishTime": 1754649989884,
       "globalVars": {},
       "guid": "",
       "height": "auto",
       "hideCommandCode": false,
       "hideCommandResult": false,
       "iPythonMetadata": null,
       "inputWidgets": {},
       "isLockedInExamMode": false,
       "latestUser": "a user",
       "latestUserId": null,
       "listResultMetadata": [
        [
         "table",
         381
        ]
       ],
       "metadata": {
        "byteLimit": 2048000,
        "rowLimit": 10000
       },
       "nuid": "34f452b4-947c-4243-9a90-88eebdd40f07",
       "origId": 0,
       "parentHierarchy": [],
       "pivotAggregation": null,
       "pivotColumns": null,
       "position": 10.0,
       "resultDbfsErrorMessage": null,
       "resultDbfsStatus": "INLINED_IN_TREE",
       "results": null,
       "showCommandTitle": false,
       "startTime": 1754649985787,
       "state": "input",
       "streamStates": {},
       "subcommandOptions": {
        "queryPlan": {
         "groups": [
          {
           "column": "EROC_DerMonth",
           "type": "column"
          },
          {
           "column": "EROC_DerProviderCode",
           "type": "column"
          }
         ],
         "selects": [
          {
           "alias": "column_1a3c4249343",
           "args": [
            {
             "column": "Value",
             "type": "column"
            }
           ],
           "function": "SUM",
           "type": "function"
          },
          {
           "column": "EROC_DerMonth",
           "type": "column"
          },
          {
           "column": "EROC_DerProviderCode",
           "type": "column"
          }
         ]
        }
       },
       "submitTime": 1754649927607,
       "subtype": "tableResultSubCmd.visualization",
       "tableResultIndex": 0,
       "tableResultSettingsMap": {},
       "useConsistentColors": false,
       "version": "CommandV1",
       "width": "auto",
       "workflows": null,
       "xColumns": null,
       "yColumns": null
      }
     },
     "output_type": "display_data"
    }
   ],
   "source": [
    "#9 Creating filter settings and making filter 2 dynamic to filter 1\n",
    "selected_region = dbutils.widgets.get(\"1_Region\")\n",
    "selected_provider = dbutils.widgets.get(\"2_Provider\")\n",
    "selected_metric = dbutils.widgets.get(\"3_Metric\")\n",
    "start_date_str = dbutils.widgets.get(\"4_StartDate\")\n",
    "end_date_str = dbutils.widgets.get(\"5_EndDate\")\n",
    "\n",
    "# Step 7: Validate and parse dates\n",
    "def safe_parse(date_str, fallback):\n",
    "    try:\n",
    "        return datetime.strptime(date_str, \"%Y-%m-%d\").date()\n",
    "    except:\n",
    "        return fallback\n",
    "\n",
    "start_date = safe_parse(start_date_str, min_date)\n",
    "end_date = safe_parse(end_date_str, max_date)\n",
    "\n",
    "# Step 8: Apply filtering\n",
    "df_filtered = df_line_chart.filter((col(\"EROC_DerMonth\") >= start_date) & (col(\"EROC_DerMonth\") <= end_date))\n",
    "\n",
    "# Filter by region (if not \"All\")\n",
    "if selected_region != \"All\":\n",
    "    df_filtered = df_filtered.filter(col(\"RegionName\") == selected_region)\n",
    "\n",
    "# Filter by provider (if not \"All\")\n",
    "if selected_provider != \"All\" and selected_provider in valid_providers:\n",
    "    df_filtered = df_filtered.filter(col(\"EROC_DerProviderCode\") == selected_provider)\n",
    "\n",
    "# Filter by metric (if not \"All\")\n",
    "if selected_metric != \"All\" and selected_metric in valid_metrics:\n",
    "    df_filtered = df_filtered.filter(col(\"EROC_DerMetric\") == selected_metric)\n",
    "\n",
    "# Step 9: Pivot and display\n",
    "# To see EROC_DerProviderCode in the visualization, do not pivot away this column\n",
    "display(df_filtered.select(\"EROC_DerMonth\", \"EROC_DerProviderCode\", \"EROC_DerMetric\", \"Value\"))\n",
    "\n",
    "# Step 10: Optional Plotly multi-line chart for selected metric\n",
    "if selected_metric != \"All\":\n",
    "    # Aggregate per provider code per month\n",
    "    pdf = (\n",
    "        df_filtered\n",
    "        .groupBy(\"EROC_DerMonth\", \"EROC_DerProviderCode\")\n",
    "        .agg(F.sum(\"Value\").alias(\"Value\"))\n",
    "        .orderBy(\"EROC_DerMonth\")\n",
    "        .toPandas()\n",
    "    )\n",
    "\n",
    "    fig1 = px.line(\n",
    "        pdf,\n",
    "        x=\"EROC_DerMonth\",\n",
    "        y=\"Value\",\n",
    "        color=\"EROC_DerProviderCode\",  # One line per provider code\n",
    "        title=f\"{selected_metric} Trend by Provider Code in {selected_region}\" if selected_region != \"All\" else f\"{selected_metric} Trend by Provider Code (All Regions)\"\n",
    "    )\n",
    "    fig1.show()"
   ]
  },
  {
   "cell_type": "code",
   "execution_count": 0,
   "metadata": {
    "application/vnd.databricks.v1+cell": {
     "cellMetadata": {
      "byteLimit": 2048000,
      "rowLimit": 10000
     },
     "inputWidgets": {},
     "nuid": "d99d3761-4057-4c70-b980-b4fdd49a24c8",
     "showTitle": false,
     "tableResultSettingsMap": {},
     "title": ""
    }
   },
   "outputs": [
    {
     "output_type": "display_data",
     "data": {
      "text/plain": [
       "Databricks visualization. Run in Databricks to view."
      ]
     },
     "metadata": {
      "application/vnd.databricks.v1.subcommand+json": {
       "baseErrorDetails": null,
       "bindings": {},
       "collapsed": false,
       "command": "%python\n__backend_agg_display_orig = display\n__backend_agg_dfs = []\ndef __backend_agg_display_new(df):\n    __backend_agg_df_modules = [\"pandas.core.frame\", \"databricks.koalas.frame\", \"pyspark.sql.dataframe\", \"pyspark.pandas.frame\", \"pyspark.sql.connect.dataframe\"]\n    if (type(df).__module__ in __backend_agg_df_modules and type(df).__name__ == 'DataFrame') or isinstance(df, list):\n        __backend_agg_dfs.append(df)\n\ndisplay = __backend_agg_display_new\n\ndef __backend_agg_user_code_fn():\n    import base64\n    exec(base64.standard_b64decode(\"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\").decode())\n\ntry:\n    # run user code\n    __backend_agg_user_code_fn()\n\n    #reset display function\n    display = __backend_agg_display_orig\n\n    if len(__backend_agg_dfs) > 0:\n        # create a temp view\n        if type(__backend_agg_dfs[0]).__module__ == \"databricks.koalas.frame\":\n            # koalas dataframe\n            __backend_agg_dfs[0].to_spark().createOrReplaceTempView(\"DatabricksView13f4491\")\n        elif type(__backend_agg_dfs[0]).__module__ == \"pandas.core.frame\" or isinstance(__backend_agg_dfs[0], list):\n            # pandas dataframe\n            spark.createDataFrame(__backend_agg_dfs[0]).createOrReplaceTempView(\"DatabricksView13f4491\")\n        else:\n            __backend_agg_dfs[0].createOrReplaceTempView(\"DatabricksView13f4491\")\n        #run backend agg\n        display(spark.sql(\"\"\"WITH q AS (select * from DatabricksView13f4491) SELECT `EROC_DerMonth`,SUM(`Value`) `column_a162daa193`,`EROC_DerProviderCode` FROM q GROUP BY `EROC_DerMonth`,`EROC_DerProviderCode`\"\"\"))\n    else:\n        displayHTML(\"dataframe no longer exists. If you're using dataframe.display(), use display(dataframe) instead.\")\n\n\nfinally:\n    spark.sql(\"drop view if exists DatabricksView13f4491\")\n    display = __backend_agg_display_orig\n    del __backend_agg_display_new\n    del __backend_agg_display_orig\n    del __backend_agg_dfs\n    del __backend_agg_user_code_fn\n\n",
       "commandTitle": "PIFUTOTAL01",
       "commandType": "auto",
       "commandVersion": 0,
       "commentThread": [],
       "commentsVisible": false,
       "contentSha256Hex": null,
       "customPlotOptions": {
        "redashChart": [
         {
          "key": "type",
          "value": "CHART"
         },
         {
          "key": "options",
          "value": {
           "alignYAxesAtZero": true,
           "coefficient": 1,
           "columnConfigurationMap": {
            "series": {
             "column": "EROC_DerProviderCode",
             "id": "column_ca8dc1bf51"
            },
            "x": {
             "column": "EROC_DerMonth",
             "id": "column_a162daa191"
            },
            "y": [
             {
              "column": "Value",
              "id": "column_a162daa193",
              "transform": "SUM"
             }
            ]
           },
           "dateTimeFormat": "DD/MM/YYYY HH:mm",
           "direction": {
            "type": "counterclockwise"
           },
           "error_y": {
            "type": "data",
            "visible": true
           },
           "globalSeriesType": "line",
           "isAggregationOn": true,
           "legend": {
            "traceorder": "normal"
           },
           "missingValuesAsZero": true,
           "numberFormat": "0,0.[00000]",
           "percentFormat": "0[.]00%",
           "series": {
            "error_y": {
             "type": "data",
             "visible": true
            },
            "stacking": null
           },
           "seriesOptions": {
            "column_a162daa193": {
             "type": "line",
             "yAxis": 0
            }
           },
           "showDataLabels": false,
           "sizemode": "diameter",
           "sortX": true,
           "sortY": true,
           "swappedAxes": false,
           "textFormat": "",
           "useAggregationsUi": true,
           "valuesOptions": {},
           "version": 2,
           "xAxis": {
            "labels": {
             "enabled": true
            },
            "type": "-"
           },
           "yAxis": [
            {
             "type": "-"
            },
            {
             "opposite": true,
             "type": "-"
            }
           ]
          }
         }
        ]
       },
       "datasetPreviewNameToCmdIdMap": {},
       "diffDeletes": [],
       "diffInserts": [],
       "displayType": "redashChart",
       "error": null,
       "errorDetails": null,
       "errorSummary": null,
       "errorTraceType": null,
       "finishTime": 1754650003283,
       "globalVars": {},
       "guid": "",
       "height": "auto",
       "hideCommandCode": false,
       "hideCommandResult": false,
       "iPythonMetadata": null,
       "inputWidgets": {},
       "isLockedInExamMode": false,
       "latestUser": "a user",
       "latestUserId": null,
       "listResultMetadata": [
        [
         "table",
         365
        ]
       ],
       "metadata": {
        "byteLimit": 2048000,
        "rowLimit": 10000
       },
       "nuid": "1432e9e1-3fc3-49c4-af7d-076a816c70c4",
       "origId": 0,
       "parentHierarchy": [],
       "pivotAggregation": null,
       "pivotColumns": null,
       "position": 11.0,
       "resultDbfsErrorMessage": null,
       "resultDbfsStatus": "INLINED_IN_TREE",
       "results": null,
       "showCommandTitle": false,
       "startTime": 1754649989890,
       "state": "input",
       "streamStates": {},
       "subcommandOptions": {
        "queryPlan": {
         "groups": [
          {
           "column": "EROC_DerMonth",
           "type": "column"
          },
          {
           "column": "EROC_DerProviderCode",
           "type": "column"
          }
         ],
         "selects": [
          {
           "column": "EROC_DerMonth",
           "type": "column"
          },
          {
           "alias": "column_a162daa193",
           "args": [
            {
             "column": "Value",
             "type": "column"
            }
           ],
           "function": "SUM",
           "type": "function"
          },
          {
           "column": "EROC_DerProviderCode",
           "type": "column"
          }
         ]
        }
       },
       "submitTime": 1754649927748,
       "subtype": "tableResultSubCmd.visualization",
       "tableResultIndex": 0,
       "tableResultSettingsMap": {},
       "useConsistentColors": false,
       "version": "CommandV1",
       "width": "auto",
       "workflows": null,
       "xColumns": null,
       "yColumns": null
      }
     },
     "output_type": "display_data"
    }
   ],
   "source": [
    "from pyspark.sql import functions as F\n",
    "\n",
    "# Get filter values from widgets\n",
    "selected_region = dbutils.widgets.get(\"1_Region\")\n",
    "selected_provider = dbutils.widgets.get(\"2_Provider\")\n",
    "selected_metric = dbutils.widgets.get(\"3_Metric\")\n",
    "start_date_str = dbutils.widgets.get(\"4_StartDate\")\n",
    "end_date_str = dbutils.widgets.get(\"5_EndDate\")\n",
    "\n",
    "def safe_parse(date_str, fallback):\n",
    "    try:\n",
    "        return datetime.strptime(date_str, \"%Y-%m-%d\").date()\n",
    "    except:\n",
    "        return fallback\n",
    "\n",
    "min_date = df_pifu_qa.selectExpr(\"min(EROC_DerMonth)\").first()[0]\n",
    "max_date = df_pifu_qa.selectExpr(\"max(EROC_DerMonth)\").first()[0]\n",
    "start_date = safe_parse(start_date_str, min_date)\n",
    "end_date = safe_parse(end_date_str, max_date)\n",
    "\n",
    "# Filter by region if not \"All\"\n",
    "df_filtered = df_pifu_qa.where(F.col(\"EROC_DerMetric\") == \"PIFUTOTAL01\") \\\n",
    "    .where(F.col(\"EROC_Latest_Flag\") == 1) \\\n",
    "    .where(F.col(\"EROC_DerMonth\") >= start_date) \\\n",
    "    .where(F.col(\"EROC_DerMonth\") <= end_date)\n",
    "\n",
    "if selected_region != \"All\":\n",
    "    # Get org codes for selected region\n",
    "    region_org_codes = [r[\"Org Code\"] for r in org_name.filter(F.col(\"Region Name\") == selected_region).select(\"Org Code\").collect()]\n",
    "    df_filtered = df_filtered.where(F.col(\"EROC_DerProviderCode\").isin(region_org_codes))\n",
    "\n",
    "if selected_provider != \"All\":\n",
    "    df_filtered = df_filtered.where(F.col(\"EROC_DerProviderCode\") == selected_provider)\n",
    "\n",
    "df_PIFUTOTAL01 = (\n",
    "    df_filtered\n",
    "    .groupby(\n",
    "        \"EROC_DerMonth\",\n",
    "        \"EROC_DerProviderCode\",\n",
    "        \"EROC_DerMetric\"\n",
    "    )\n",
    "    .agg(F.sum(\"EROC_Value\").alias(\"Value\"))\n",
    "    .orderBy(\n",
    "        \"EROC_DerMonth\",\n",
    "        \"EROC_DerProviderCode\"\n",
    "    )\n",
    ")\n",
    "\n",
    "display(df_PIFUTOTAL01)"
   ]
  },
  {
   "cell_type": "code",
   "execution_count": 0,
   "metadata": {
    "application/vnd.databricks.v1+cell": {
     "cellMetadata": {
      "byteLimit": 2048000,
      "rowLimit": 10000
     },
     "inputWidgets": {},
     "nuid": "1300cae9-b0ac-43e2-b272-b586d0e12084",
     "showTitle": false,
     "tableResultSettingsMap": {
      "0": {
       "dataGridStateBlob": "{\"version\":1,\"tableState\":{\"columnPinning\":{\"left\":[\"#row_number#\"],\"right\":[]},\"columnSizing\":{\"EROC_DerMonth\":90,\"EROC_DerProviderCode\":90},\"columnVisibility\":{}},\"settings\":{\"columns\":{}},\"syncTimestamp\":1753459466128}",
       "filterBlob": null,
       "queryPlanFiltersBlob": null,
       "tableResultIndex": 0
      }
     },
     "title": ""
    }
   },
   "outputs": [],
   "source": [
    "from pyspark.sql import functions as F\n",
    "from datetime import datetime\n",
    "\n",
    "# Get end_date_str from widget and parse it\n",
    "end_date_str = dbutils.widgets.get(\"5_EndDate\")\n",
    "def safe_parse(date_str, fallback):\n",
    "    try:\n",
    "        return datetime.strptime(date_str, \"%Y-%m-%d\").date()\n",
    "    except:\n",
    "        return fallback\n",
    "\n",
    "min_date = df_pifu_qa.selectExpr(\"min(EROC_DerMonth)\").first()[0]\n",
    "max_date = df_pifu_qa.selectExpr(\"max(EROC_DerMonth)\").first()[0]\n",
    "end_date = safe_parse(end_date_str, max_date)\n",
    "\n",
    "df_blank_null = (\n",
    "    df_pifu_qa\n",
    "    .where(F.col(\"EROC_DerMetric\").isin(\n",
    "        \"PIFUSRTMV01\", \"PIFUSRTDC01\", \"PIFUTOTAL01\", \"PIFUCOMP001\", \"PIFUBOOK001\", \"PIFUDNA0001\"\n",
    "    ))\n",
    "    .where(F.col(\"EROC_DerMonth\") == end_date)\n",
    "    .where(F.col(\"EROC_Latest_Flag\") == 1)\n",
    "    .where(~F.col(\"Submission_type\").rlike(\"^01\\| Complete return:|^02\\| Partial return:\"))\n",
    ")\n",
    "\n",
    "df_blank_null = df_blank_null.join(\n",
    "    org_name.withColumnRenamed(\"Org Name\", \"OrgName\"),\n",
    "    df_blank_null[\"EROC_DerProviderCode\"] == org_name[\"Org Code\"],\n",
    "    \"left\"\n",
    ").drop(org_name[\"Org Code\"])\n",
    "\n",
    "df_blank_null = df_blank_null.groupBy(\n",
    "    \"EROC_DerMonth\",\n",
    "    \"EROC_DerProviderCode\",\n",
    "    \"OrgName\",\n",
    "    \"Submission_type\",  \n",
    "    \"RegionName\",\n",
    ").agg(F.sum(\"EROC_Value\").alias(\"Value\")).orderBy(\n",
    "    \"EROC_DerMonth\",\n",
    "    \"RegionName\",\n",
    "    \"EROC_DerProviderCode\"\n",
    ")\n",
    "\n",
    "display(df_blank_null)"
   ]
  },
  {
   "cell_type": "code",
   "execution_count": 0,
   "metadata": {
    "application/vnd.databricks.v1+cell": {
     "cellMetadata": {
      "byteLimit": 2048000,
      "rowLimit": 10000
     },
     "inputWidgets": {},
     "nuid": "34b6c2d8-33fa-45a4-9a5c-8c7f305dfdc7",
     "showTitle": false,
     "tableResultSettingsMap": {},
     "title": ""
    }
   },
   "outputs": [
    {
     "output_type": "display_data",
     "data": {
      "text/plain": [
       "Databricks visualization. Run in Databricks to view."
      ]
     },
     "metadata": {
      "application/vnd.databricks.v1.subcommand+json": {
       "baseErrorDetails": null,
       "bindings": {},
       "collapsed": false,
       "command": "%python\n__backend_agg_display_orig = display\n__backend_agg_dfs = []\ndef __backend_agg_display_new(df):\n    __backend_agg_df_modules = [\"pandas.core.frame\", \"databricks.koalas.frame\", \"pyspark.sql.dataframe\", \"pyspark.pandas.frame\", \"pyspark.sql.connect.dataframe\"]\n    if (type(df).__module__ in __backend_agg_df_modules and type(df).__name__ == 'DataFrame') or isinstance(df, list):\n        __backend_agg_dfs.append(df)\n\ndisplay = __backend_agg_display_new\n\ndef __backend_agg_user_code_fn():\n    import base64\n    exec(base64.standard_b64decode(\"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\").decode())\n\ntry:\n    # run user code\n    __backend_agg_user_code_fn()\n\n    #reset display function\n    display = __backend_agg_display_orig\n\n    if len(__backend_agg_dfs) > 1:\n        # create a temp view\n        if type(__backend_agg_dfs[1]).__module__ == \"databricks.koalas.frame\":\n            # koalas dataframe\n            __backend_agg_dfs[1].to_spark().createOrReplaceTempView(\"DatabricksView9b02c8c\")\n        elif type(__backend_agg_dfs[1]).__module__ == \"pandas.core.frame\" or isinstance(__backend_agg_dfs[1], list):\n            # pandas dataframe\n            spark.createDataFrame(__backend_agg_dfs[1]).createOrReplaceTempView(\"DatabricksView9b02c8c\")\n        else:\n            __backend_agg_dfs[1].createOrReplaceTempView(\"DatabricksView9b02c8c\")\n        #run backend agg\n        display(spark.sql(\"\"\"WITH q AS (select * from DatabricksView9b02c8c) SELECT `EROC_DerMonth`,`EROC_DerMetric`,SUM(`Value`) `column_1a3c4249409` FROM q GROUP BY `EROC_DerMetric`,`EROC_DerMonth`\"\"\"))\n    else:\n        displayHTML(\"dataframe no longer exists. If you're using dataframe.display(), use display(dataframe) instead.\")\n\n\nfinally:\n    spark.sql(\"drop view if exists DatabricksView9b02c8c\")\n    display = __backend_agg_display_orig\n    del __backend_agg_display_new\n    del __backend_agg_display_orig\n    del __backend_agg_dfs\n    del __backend_agg_user_code_fn\n\n",
       "commandTitle": "Visualization 1",
       "commandType": "auto",
       "commandVersion": 0,
       "commentThread": [],
       "commentsVisible": false,
       "contentSha256Hex": null,
       "customPlotOptions": {
        "redashChart": [
         {
          "key": "type",
          "value": "CHART"
         },
         {
          "key": "options",
          "value": {
           "alignYAxesAtZero": true,
           "coefficient": 1,
           "columnConfigurationMap": {
            "series": {
             "column": "EROC_DerMetric",
             "id": "column_1a3c4249408"
            },
            "x": {
             "column": "EROC_DerMonth",
             "id": "column_1a3c4249407"
            },
            "y": [
             {
              "column": "Value",
              "id": "column_1a3c4249409",
              "transform": "SUM"
             }
            ]
           },
           "dateTimeFormat": "DD/MM/YYYY HH:mm",
           "direction": {
            "type": "counterclockwise"
           },
           "error_y": {
            "type": "data",
            "visible": true
           },
           "globalSeriesType": "column",
           "legend": {
            "traceorder": "normal"
           },
           "missingValuesAsZero": true,
           "numberFormat": "0,0.[00000]",
           "percentFormat": "0[.]00%",
           "series": {
            "error_y": {
             "type": "data",
             "visible": true
            },
            "stacking": "stack"
           },
           "seriesOptions": {
            "column_1a3c4249409": {
             "name": "Value",
             "yAxis": 0
            }
           },
           "showDataLabels": false,
           "sizemode": "diameter",
           "sortX": true,
           "sortY": true,
           "swappedAxes": true,
           "textFormat": "",
           "useAggregationsUi": true,
           "valuesOptions": {},
           "version": 2,
           "xAxis": {
            "labels": {
             "enabled": true
            },
            "type": "-"
           },
           "yAxis": [
            {
             "type": "-"
            },
            {
             "opposite": true,
             "type": "-"
            }
           ]
          }
         }
        ]
       },
       "datasetPreviewNameToCmdIdMap": {},
       "diffDeletes": [],
       "diffInserts": [],
       "displayType": "redashChart",
       "error": null,
       "errorDetails": null,
       "errorSummary": null,
       "errorTraceType": null,
       "finishTime": 1754650018910,
       "globalVars": {},
       "guid": "",
       "height": "auto",
       "hideCommandCode": false,
       "hideCommandResult": false,
       "iPythonMetadata": null,
       "inputWidgets": {},
       "isLockedInExamMode": false,
       "latestUser": "a user",
       "latestUserId": null,
       "listResultMetadata": [
        [
         "table",
         164
        ]
       ],
       "metadata": {
        "byteLimit": 2048000,
        "rowLimit": 10000
       },
       "nuid": "4e3673c1-3ab0-4fe4-8ab4-b074f9e0959a",
       "origId": 0,
       "parentHierarchy": [],
       "pivotAggregation": null,
       "pivotColumns": null,
       "position": 12.0,
       "resultDbfsErrorMessage": null,
       "resultDbfsStatus": "INLINED_IN_TREE",
       "results": null,
       "showCommandTitle": false,
       "startTime": 1754650003290,
       "state": "input",
       "streamStates": {},
       "subcommandOptions": {
        "queryPlan": {
         "groups": [
          {
           "column": "EROC_DerMonth",
           "type": "column"
          },
          {
           "column": "EROC_DerMetric",
           "type": "column"
          }
         ],
         "selects": [
          {
           "column": "EROC_DerMonth",
           "type": "column"
          },
          {
           "column": "EROC_DerMetric",
           "type": "column"
          },
          {
           "alias": "column_1a3c4249409",
           "args": [
            {
             "column": "Value",
             "type": "column"
            }
           ],
           "function": "SUM",
           "type": "function"
          }
         ]
        }
       },
       "submitTime": 1754649928074,
       "subtype": "tableResultSubCmd.visualization",
       "tableResultIndex": 1,
       "tableResultSettingsMap": {},
       "useConsistentColors": false,
       "version": "CommandV1",
       "width": "auto",
       "workflows": null,
       "xColumns": null,
       "yColumns": null
      }
     },
     "output_type": "display_data"
    },
    {
     "output_type": "display_data",
     "data": {
      "text/plain": [
       "Databricks visualization. Run in Databricks to view."
      ]
     },
     "metadata": {
      "application/vnd.databricks.v1.subcommand+json": {
       "baseErrorDetails": null,
       "bindings": {},
       "collapsed": false,
       "command": "%python\n__backend_agg_display_orig = display\n__backend_agg_dfs = []\ndef __backend_agg_display_new(df):\n    __backend_agg_df_modules = [\"pandas.core.frame\", \"databricks.koalas.frame\", \"pyspark.sql.dataframe\", \"pyspark.pandas.frame\", \"pyspark.sql.connect.dataframe\"]\n    if (type(df).__module__ in __backend_agg_df_modules and type(df).__name__ == 'DataFrame') or isinstance(df, list):\n        __backend_agg_dfs.append(df)\n\ndisplay = __backend_agg_display_new\n\ndef __backend_agg_user_code_fn():\n    import base64\n    exec(base64.standard_b64decode(\"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\").decode())\n\ntry:\n    # run user code\n    __backend_agg_user_code_fn()\n\n    #reset display function\n    display = __backend_agg_display_orig\n\n    if len(__backend_agg_dfs) > 0:\n        # create a temp view\n        if type(__backend_agg_dfs[0]).__module__ == \"databricks.koalas.frame\":\n            # koalas dataframe\n            __backend_agg_dfs[0].to_spark().createOrReplaceTempView(\"DatabricksView8592f11\")\n        elif type(__backend_agg_dfs[0]).__module__ == \"pandas.core.frame\" or isinstance(__backend_agg_dfs[0], list):\n            # pandas dataframe\n            spark.createDataFrame(__backend_agg_dfs[0]).createOrReplaceTempView(\"DatabricksView8592f11\")\n        else:\n            __backend_agg_dfs[0].createOrReplaceTempView(\"DatabricksView8592f11\")\n        #run backend agg\n        display(spark.sql(\"\"\"WITH q AS (select * from DatabricksView8592f11) SELECT `EROC_DerMonth`,`EROC_DerMetric`,SUM(`Value`) `column_1a3c4249404` FROM q GROUP BY `EROC_DerMetric`,`EROC_DerMonth`\"\"\"))\n    else:\n        displayHTML(\"dataframe no longer exists. If you're using dataframe.display(), use display(dataframe) instead.\")\n\n\nfinally:\n    spark.sql(\"drop view if exists DatabricksView8592f11\")\n    display = __backend_agg_display_orig\n    del __backend_agg_display_new\n    del __backend_agg_display_orig\n    del __backend_agg_dfs\n    del __backend_agg_user_code_fn\n\n",
       "commandTitle": "Visualization 1",
       "commandType": "auto",
       "commandVersion": 0,
       "commentThread": [],
       "commentsVisible": false,
       "contentSha256Hex": null,
       "customPlotOptions": {
        "redashChart": [
         {
          "key": "type",
          "value": "CHART"
         },
         {
          "key": "options",
          "value": {
           "alignYAxesAtZero": true,
           "coefficient": 1,
           "columnConfigurationMap": {
            "series": {
             "column": "EROC_DerMetric",
             "id": "column_1a3c4249403"
            },
            "x": {
             "column": "EROC_DerMonth",
             "id": "column_1a3c4249402"
            },
            "y": [
             {
              "column": "Value",
              "id": "column_1a3c4249404",
              "transform": "SUM"
             }
            ]
           },
           "dateTimeFormat": "DD/MM/YYYY HH:mm",
           "direction": {
            "type": "counterclockwise"
           },
           "error_y": {
            "type": "data",
            "visible": true
           },
           "globalSeriesType": "column",
           "legend": {
            "traceorder": "normal"
           },
           "missingValuesAsZero": true,
           "numberFormat": "0,0.[00000]",
           "percentFormat": "0[.]00%",
           "series": {
            "error_y": {
             "type": "data",
             "visible": true
            },
            "stacking": "stack"
           },
           "seriesOptions": {
            "column_1a3c4249404": {
             "name": "Value",
             "yAxis": 0
            }
           },
           "showDataLabels": false,
           "sizemode": "diameter",
           "sortX": true,
           "sortY": true,
           "swappedAxes": true,
           "textFormat": "",
           "useAggregationsUi": true,
           "valuesOptions": {},
           "version": 2,
           "xAxis": {
            "labels": {
             "enabled": true
            },
            "type": "-"
           },
           "yAxis": [
            {
             "type": "-"
            },
            {
             "opposite": true,
             "type": "-"
            }
           ]
          }
         }
        ]
       },
       "datasetPreviewNameToCmdIdMap": {},
       "diffDeletes": [],
       "diffInserts": [],
       "displayType": "redashChart",
       "error": null,
       "errorDetails": null,
       "errorSummary": null,
       "errorTraceType": null,
       "finishTime": 1754650027317,
       "globalVars": {},
       "guid": "",
       "height": "auto",
       "hideCommandCode": false,
       "hideCommandResult": false,
       "iPythonMetadata": null,
       "inputWidgets": {},
       "isLockedInExamMode": false,
       "latestUser": "a user",
       "latestUserId": null,
       "listResultMetadata": [
        [
         "table",
         168
        ]
       ],
       "metadata": {
        "byteLimit": 2048000,
        "rowLimit": 10000
       },
       "nuid": "82a94801-e313-4395-89cd-70acfd9d7b3b",
       "origId": 0,
       "parentHierarchy": [],
       "pivotAggregation": null,
       "pivotColumns": null,
       "position": 12.0,
       "resultDbfsErrorMessage": null,
       "resultDbfsStatus": "INLINED_IN_TREE",
       "results": null,
       "showCommandTitle": false,
       "startTime": 1754650018918,
       "state": "input",
       "streamStates": {},
       "subcommandOptions": {
        "queryPlan": {
         "groups": [
          {
           "column": "EROC_DerMonth",
           "type": "column"
          },
          {
           "column": "EROC_DerMetric",
           "type": "column"
          }
         ],
         "selects": [
          {
           "column": "EROC_DerMonth",
           "type": "column"
          },
          {
           "column": "EROC_DerMetric",
           "type": "column"
          },
          {
           "alias": "column_1a3c4249404",
           "args": [
            {
             "column": "Value",
             "type": "column"
            }
           ],
           "function": "SUM",
           "type": "function"
          }
         ]
        }
       },
       "submitTime": 1754649928250,
       "subtype": "tableResultSubCmd.visualization",
       "tableResultIndex": 0,
       "tableResultSettingsMap": {},
       "useConsistentColors": false,
       "version": "CommandV1",
       "width": "auto",
       "workflows": null,
       "xColumns": null,
       "yColumns": null
      }
     },
     "output_type": "display_data"
    }
   ],
   "source": [
    "from pyspark.sql import functions as F\n",
    "from datetime import datetime\n",
    "\n",
    "selected_region = dbutils.widgets.get(\"1_Region\")\n",
    "selected_provider = dbutils.widgets.get(\"2_Provider\")\n",
    "selected_metric = dbutils.widgets.get(\"3_Metric\")\n",
    "start_date_str = dbutils.widgets.get(\"4_StartDate\")\n",
    "end_date_str = dbutils.widgets.get(\"5_EndDate\")\n",
    "\n",
    "def safe_parse(date_str, fallback):\n",
    "    try:\n",
    "        return datetime.strptime(date_str, \"%Y-%m-%d\").date()\n",
    "    except:\n",
    "        return fallback\n",
    "\n",
    "min_date = df_pifu_qa.selectExpr(\"min(EROC_DerMonth)\").first()[0]\n",
    "max_date = df_pifu_qa.selectExpr(\"max(EROC_DerMonth)\").first()[0]\n",
    "start_date = safe_parse(start_date_str, min_date)\n",
    "end_date = safe_parse(end_date_str, max_date)\n",
    "\n",
    "def get_filtered_df(latest_flag):\n",
    "    df = (\n",
    "        df_pifu_qa\n",
    "        .filter(F.col(\"EROC_Latest_Flag\") == latest_flag)\n",
    "        .filter((F.col(\"EROC_DerMonth\") >= F.lit(start_date)) & (F.col(\"EROC_DerMonth\") <= F.lit(end_date)))\n",
    "    )\n",
    "\n",
    "    if selected_provider != \"All\":\n",
    "        df = df.filter(F.col(\"EROC_DerProviderCode\") == selected_provider)\n",
    "\n",
    "    if selected_metric != \"All\":\n",
    "        df = df.filter(F.col(\"EROC_DerMetric\") == selected_metric)\n",
    "\n",
    "    df_grouped = (\n",
    "        df.groupBy(\"EROC_DerMonth\", \"EROC_DerMetric\")\n",
    "          .agg(F.sum(\"EROC_Value\").alias(\"Value\"))\n",
    "          .orderBy(\"EROC_DerMonth\", \"EROC_DerMetric\")\n",
    "    )\n",
    "    \n",
    "    return df_grouped\n",
    "\n",
    "df_latest_1 = get_filtered_df(1)\n",
    "df_latest_0 = get_filtered_df(0)\n",
    "\n",
    "display(df_latest_1)  # Stacked bar: x = EROC_DerMonth, series = EROC_DerMetric, y = Value\n",
    "display(df_latest_0)  # Stacked bar: x = EROC_DerMonth, series = EROC_DerMetric, y = Value"
   ]
  },
  {
   "cell_type": "code",
   "execution_count": 0,
   "metadata": {
    "application/vnd.databricks.v1+cell": {
     "cellMetadata": {
      "byteLimit": 2048000,
      "rowLimit": 10000
     },
     "inputWidgets": {},
     "nuid": "91bd7537-638d-44e6-b8be-b56a49a6731c",
     "showTitle": false,
     "tableResultSettingsMap": {},
     "title": ""
    }
   },
   "outputs": [
    {
     "output_type": "display_data",
     "data": {
      "text/plain": [
       "Databricks visualization. Run in Databricks to view."
      ]
     },
     "metadata": {
      "application/vnd.databricks.v1.subcommand+json": {
       "baseErrorDetails": null,
       "bindings": {},
       "collapsed": false,
       "command": "%python\n__backend_agg_display_orig = display\n__backend_agg_dfs = []\ndef __backend_agg_display_new(df):\n    __backend_agg_df_modules = [\"pandas.core.frame\", \"databricks.koalas.frame\", \"pyspark.sql.dataframe\", \"pyspark.pandas.frame\", \"pyspark.sql.connect.dataframe\"]\n    if (type(df).__module__ in __backend_agg_df_modules and type(df).__name__ == 'DataFrame') or isinstance(df, list):\n        __backend_agg_dfs.append(df)\n\ndisplay = __backend_agg_display_new\n\ndef __backend_agg_user_code_fn():\n    import base64\n    exec(base64.standard_b64decode(\"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\").decode())\n\ntry:\n    # run user code\n    __backend_agg_user_code_fn()\n\n    #reset display function\n    display = __backend_agg_display_orig\n\n    if len(__backend_agg_dfs) > 0:\n        # create a temp view\n        if type(__backend_agg_dfs[0]).__module__ == \"databricks.koalas.frame\":\n            # koalas dataframe\n            __backend_agg_dfs[0].to_spark().createOrReplaceTempView(\"DatabricksView826ed72\")\n        elif type(__backend_agg_dfs[0]).__module__ == \"pandas.core.frame\" or isinstance(__backend_agg_dfs[0], list):\n            # pandas dataframe\n            spark.createDataFrame(__backend_agg_dfs[0]).createOrReplaceTempView(\"DatabricksView826ed72\")\n        else:\n            __backend_agg_dfs[0].createOrReplaceTempView(\"DatabricksView826ed72\")\n        #run backend agg\n        display(spark.sql(\"\"\"WITH q AS (select * from DatabricksView826ed72) SELECT `EROC_DerMonth`,SUM(`Value`) `column_25cbb884151`,`Latest_Flag` FROM q GROUP BY `EROC_DerMonth`,`Latest_Flag`\"\"\"))\n    else:\n        displayHTML(\"dataframe no longer exists. If you're using dataframe.display(), use display(dataframe) instead.\")\n\n\nfinally:\n    spark.sql(\"drop view if exists DatabricksView826ed72\")\n    display = __backend_agg_display_orig\n    del __backend_agg_display_new\n    del __backend_agg_display_orig\n    del __backend_agg_dfs\n    del __backend_agg_user_code_fn\n\n",
       "commandTitle": "Latest v Previous submissions",
       "commandType": "auto",
       "commandVersion": 0,
       "commentThread": [],
       "commentsVisible": false,
       "contentSha256Hex": null,
       "customPlotOptions": {
        "redashChart": [
         {
          "key": "type",
          "value": "CHART"
         },
         {
          "key": "options",
          "value": {
           "alignYAxesAtZero": true,
           "coefficient": 1,
           "columnConfigurationMap": {
            "series": {
             "column": "Latest_Flag",
             "id": "column_25cbb884153"
            },
            "x": {
             "column": "EROC_DerMonth",
             "id": "column_25cbb884149"
            },
            "y": [
             {
              "column": "Value",
              "id": "column_25cbb884151",
              "transform": "SUM"
             }
            ]
           },
           "dateTimeFormat": "DD/MM/YYYY HH:mm",
           "direction": {
            "type": "counterclockwise"
           },
           "error_y": {
            "type": "data",
            "visible": true
           },
           "globalSeriesType": "column",
           "isAggregationOn": true,
           "legend": {
            "traceorder": "normal"
           },
           "missingValuesAsZero": true,
           "numberFormat": "0,0.[00000]",
           "percentFormat": "0[.]00%",
           "series": {
            "error_y": {
             "type": "data",
             "visible": true
            },
            "stacking": "stack"
           },
           "seriesOptions": {
            "0": {
             "color": "#818B91"
            },
            "1": {
             "color": "#4E79A7"
            },
            "column_25cbb884151": {
             "type": "column",
             "yAxis": 0
            }
           },
           "showDataLabels": false,
           "sizemode": "diameter",
           "sortX": true,
           "sortY": true,
           "swappedAxes": false,
           "textFormat": "",
           "useAggregationsUi": true,
           "valuesOptions": {},
           "version": 2,
           "xAxis": {
            "labels": {
             "enabled": true
            },
            "type": "-"
           },
           "yAxis": [
            {
             "type": "-"
            },
            {
             "opposite": true,
             "type": "-"
            }
           ]
          }
         }
        ]
       },
       "datasetPreviewNameToCmdIdMap": {},
       "diffDeletes": [],
       "diffInserts": [],
       "displayType": "redashChart",
       "error": null,
       "errorDetails": null,
       "errorSummary": null,
       "errorTraceType": null,
       "finishTime": 1754650037546,
       "globalVars": {},
       "guid": "",
       "height": "auto",
       "hideCommandCode": false,
       "hideCommandResult": false,
       "iPythonMetadata": null,
       "inputWidgets": {},
       "isLockedInExamMode": false,
       "latestUser": "a user",
       "latestUserId": null,
       "listResultMetadata": [
        [
         "table",
         54
        ]
       ],
       "metadata": {
        "byteLimit": 2048000,
        "rowLimit": 10000
       },
       "nuid": "944f5f26-3572-46b8-801f-832efc66966e",
       "origId": 0,
       "parentHierarchy": [],
       "pivotAggregation": null,
       "pivotColumns": null,
       "position": 13.5,
       "resultDbfsErrorMessage": null,
       "resultDbfsStatus": "INLINED_IN_TREE",
       "results": null,
       "showCommandTitle": false,
       "startTime": 1754650027324,
       "state": "input",
       "streamStates": {},
       "subcommandOptions": {
        "queryPlan": {
         "groups": [
          {
           "column": "EROC_DerMonth",
           "type": "column"
          },
          {
           "column": "Latest_Flag",
           "type": "column"
          }
         ],
         "selects": [
          {
           "column": "EROC_DerMonth",
           "type": "column"
          },
          {
           "alias": "column_25cbb884151",
           "args": [
            {
             "column": "Value",
             "type": "column"
            }
           ],
           "function": "SUM",
           "type": "function"
          },
          {
           "column": "Latest_Flag",
           "type": "column"
          }
         ]
        }
       },
       "submitTime": 1754649928443,
       "subtype": "tableResultSubCmd.visualization",
       "tableResultIndex": 0,
       "tableResultSettingsMap": {},
       "useConsistentColors": false,
       "version": "CommandV1",
       "width": "auto",
       "workflows": null,
       "xColumns": null,
       "yColumns": null
      }
     },
     "output_type": "display_data"
    }
   ],
   "source": [
    "# The combined chart with dynamic provider filtering based on selected region\n",
    "from pyspark.sql import functions as F\n",
    "from datetime import datetime\n",
    "\n",
    "selected_region = dbutils.widgets.get(\"1_Region\")\n",
    "selected_provider = dbutils.widgets.get(\"2_Provider\")\n",
    "selected_metric = dbutils.widgets.get(\"3_Metric\")\n",
    "start_date_str = dbutils.widgets.get(\"4_StartDate\")\n",
    "end_date_str = dbutils.widgets.get(\"5_EndDate\")\n",
    "\n",
    "def safe_parse(date_str, fallback):\n",
    "    try:\n",
    "        return datetime.strptime(date_str, \"%Y-%m-%d\").date()\n",
    "    except:\n",
    "        return fallback\n",
    "\n",
    "min_date = df_pifu_qa.selectExpr(\"min(EROC_DerMonth)\").first()[0]\n",
    "max_date = df_pifu_qa.selectExpr(\"max(EROC_DerMonth)\").first()[0]\n",
    "start_date = safe_parse(start_date_str, min_date)\n",
    "end_date = safe_parse(end_date_str, max_date)\n",
    "\n",
    "# Filter org_name by selected_region to get relevant Org Codes\n",
    "if selected_region != \"All\":\n",
    "    org_codes_in_region = [\n",
    "        r[\"Org Code\"] for r in org_name.filter(F.col(\"Region Name\") == selected_region).select(\"Org Code\").collect()\n",
    "    ]\n",
    "else:\n",
    "    org_codes_in_region = [r[\"Org Code\"] for r in org_name.select(\"Org Code\").collect()]\n",
    "\n",
    "def get_filtered_df_region(latest_flag):\n",
    "    df = (\n",
    "        df_pifu_qa\n",
    "        .filter(F.col(\"EROC_Latest_Flag\") == latest_flag)\n",
    "        .filter((F.col(\"EROC_DerMonth\") >= F.lit(start_date)) & (F.col(\"EROC_DerMonth\") <= F.lit(end_date)))\n",
    "    )\n",
    "    if selected_region != \"All\":\n",
    "        df = df.filter(F.col(\"EROC_DerProviderCode\").isin(org_codes_in_region))\n",
    "    if selected_provider != \"All\":\n",
    "        df = df.filter(F.col(\"EROC_DerProviderCode\") == selected_provider)\n",
    "    if selected_metric != \"All\":\n",
    "        df = df.filter(F.col(\"EROC_DerMetric\") == selected_metric)\n",
    "    df_grouped = (\n",
    "        df.groupBy(\"EROC_DerMonth\", \"EROC_DerMetric\")\n",
    "          .agg(F.sum(\"EROC_Value\").alias(\"Value\"))\n",
    "          .orderBy(\"EROC_DerMonth\", \"EROC_DerMetric\")\n",
    "    )\n",
    "    return df_grouped\n",
    "\n",
    "df_latest_1 = get_filtered_df_region(1).withColumn(\"Latest_Flag\", F.lit(1))\n",
    "df_latest_0 = get_filtered_df_region(0).withColumn(\"Latest_Flag\", F.lit(0))\n",
    "\n",
    "df_combined = df_latest_1.unionByName(df_latest_0)\n",
    "\n",
    "display(df_combined)"
   ]
  },
  {
   "cell_type": "code",
   "execution_count": 0,
   "metadata": {
    "application/vnd.databricks.v1+cell": {
     "cellMetadata": {
      "byteLimit": 2048000,
      "rowLimit": 10000
     },
     "collapsed": true,
     "inputWidgets": {},
     "nuid": "d4b00f53-1d35-4abc-a371-ea1ee4d15115",
     "showTitle": false,
     "tableResultSettingsMap": {},
     "title": ""
    }
   },
   "outputs": [
    {
     "output_type": "display_data",
     "data": {
      "text/plain": [
       "Databricks visualization. Run in Databricks to view."
      ]
     },
     "metadata": {
      "application/vnd.databricks.v1.subcommand+json": {
       "baseErrorDetails": null,
       "bindings": {},
       "collapsed": false,
       "command": "%python\n__backend_agg_display_orig = display\n__backend_agg_dfs = []\ndef __backend_agg_display_new(df):\n    __backend_agg_df_modules = [\"pandas.core.frame\", \"databricks.koalas.frame\", \"pyspark.sql.dataframe\", \"pyspark.pandas.frame\", \"pyspark.sql.connect.dataframe\"]\n    if (type(df).__module__ in __backend_agg_df_modules and type(df).__name__ == 'DataFrame') or isinstance(df, list):\n        __backend_agg_dfs.append(df)\n\ndisplay = __backend_agg_display_new\n\ndef __backend_agg_user_code_fn():\n    import base64\n    exec(base64.standard_b64decode(\"IyBTcGxpdHRpbmcgdGhlIGNoYXJ0CnNlbGVjdGVkX3JlZ2lvbiA9IGRidXRpbHMud2lkZ2V0cy5nZXQoIjFfUmVnaW9uIikKc2VsZWN0ZWRfcHJvdmlkZXIgPSBkYnV0aWxzLndpZGdldHMuZ2V0KCIyX1Byb3ZpZGVyIikKc2VsZWN0ZWRfbWV0cmljID0gZGJ1dGlscy53aWRnZXRzLmdldCgiM19NZXRyaWMiKQpzdGFydF9kYXRlX3N0ciA9IGRidXRpbHMud2lkZ2V0cy5nZXQoIjRfU3RhcnREYXRlIikKZW5kX2RhdGVfc3RyID0gZGJ1dGlscy53aWRnZXRzLmdldCgiNV9FbmREYXRlIikKCmRmX2xhdGVzdF8xID0gZ2V0X2ZpbHRlcmVkX2RmKDEpLndpdGhDb2x1bW4oIkxhdGVzdF9GbGFnIiwgRi5saXQoMSkpCmRmX2xhdGVzdF8wID0gZ2V0X2ZpbHRlcmVkX2RmKDApLndpdGhDb2x1bW4oIkxhdGVzdF9GbGFnIiwgRi5saXQoMCkpCgpkaXNwbGF5KGRmX2xhdGVzdF8wKSAgIyBTdGFja2VkIGJhcjogeCA9IEVST0NfRGVyTW9udGgsIHNlcmllcyA9IEVST0NfRGVyTWV0cmljLCB5ID0gVmFsdWUsIGZpbHRlciBMYXRlc3RfRmxhZyA9IDAKZGlzcGxheShkZl9sYXRlc3RfMSkgICMgU3RhY2tlZCBiYXI6IHggPSBFUk9DX0Rlck1vbnRoLCBzZXJpZXMgPSBFUk9DX0Rlck1ldHJpYywgeSA9IFZhbHVlLCBmaWx0ZXIgTGF0ZXN0X0ZsYWcgPSAx\").decode())\n\ntry:\n    # run user code\n    __backend_agg_user_code_fn()\n\n    #reset display function\n    display = __backend_agg_display_orig\n\n    if len(__backend_agg_dfs) > 0:\n        # create a temp view\n        if type(__backend_agg_dfs[0]).__module__ == \"databricks.koalas.frame\":\n            # koalas dataframe\n            __backend_agg_dfs[0].to_spark().createOrReplaceTempView(\"DatabricksViewaa4f801\")\n        elif type(__backend_agg_dfs[0]).__module__ == \"pandas.core.frame\" or isinstance(__backend_agg_dfs[0], list):\n            # pandas dataframe\n            spark.createDataFrame(__backend_agg_dfs[0]).createOrReplaceTempView(\"DatabricksViewaa4f801\")\n        else:\n            __backend_agg_dfs[0].createOrReplaceTempView(\"DatabricksViewaa4f801\")\n        #run backend agg\n        display(spark.sql(\"\"\"WITH q AS (select * from DatabricksViewaa4f801) SELECT `EROC_DerMonth`,SUM(`Value`) `column_25cbb88451`,`Latest_Flag` FROM q GROUP BY `EROC_DerMonth`,`Latest_Flag`\"\"\"))\n    else:\n        displayHTML(\"dataframe no longer exists. If you're using dataframe.display(), use display(dataframe) instead.\")\n\n\nfinally:\n    spark.sql(\"drop view if exists DatabricksViewaa4f801\")\n    display = __backend_agg_display_orig\n    del __backend_agg_display_new\n    del __backend_agg_display_orig\n    del __backend_agg_dfs\n    del __backend_agg_user_code_fn\n\n",
       "commandTitle": "Previous flag",
       "commandType": "auto",
       "commandVersion": 0,
       "commentThread": [],
       "commentsVisible": false,
       "contentSha256Hex": null,
       "customPlotOptions": {
        "redashChart": [
         {
          "key": "type",
          "value": "CHART"
         },
         {
          "key": "options",
          "value": {
           "alignYAxesAtZero": true,
           "coefficient": 1,
           "columnConfigurationMap": {
            "series": {
             "column": "Latest_Flag",
             "id": "column_25cbb884145"
            },
            "x": {
             "column": "EROC_DerMonth",
             "id": "column_25cbb88449"
            },
            "y": [
             {
              "column": "Value",
              "id": "column_25cbb88451",
              "transform": "SUM"
             }
            ]
           },
           "dateTimeFormat": "DD/MM/YYYY HH:mm",
           "direction": {
            "type": "counterclockwise"
           },
           "error_y": {
            "type": "data",
            "visible": true
           },
           "globalSeriesType": "column",
           "isAggregationOn": true,
           "legend": {
            "traceorder": "normal"
           },
           "missingValuesAsZero": true,
           "numberFormat": "0,0.[00000]",
           "percentFormat": "0[.]00%",
           "series": {
            "error_y": {
             "type": "data",
             "visible": true
            },
            "stacking": "stack"
           },
           "seriesOptions": {
            "0": {
             "color": "#818B91"
            },
            "1": {
             "color": "#4E79A7"
            },
            "column_25cbb88451": {
             "type": "column",
             "yAxis": 0
            },
            "column_25cbb88454": {
             "type": "column",
             "yAxis": 0
            }
           },
           "showDataLabels": false,
           "sizemode": "diameter",
           "sortX": true,
           "sortY": true,
           "swappedAxes": false,
           "textFormat": "",
           "useAggregationsUi": true,
           "valuesOptions": {},
           "version": 2,
           "xAxis": {
            "labels": {
             "enabled": true
            },
            "type": "-"
           },
           "yAxis": [
            {
             "type": "-"
            },
            {
             "opposite": true,
             "type": "-"
            }
           ]
          }
         }
        ]
       },
       "datasetPreviewNameToCmdIdMap": {},
       "diffDeletes": [],
       "diffInserts": [],
       "displayType": "redashChart",
       "error": null,
       "errorDetails": null,
       "errorSummary": null,
       "errorTraceType": null,
       "finishTime": 1754650042350,
       "globalVars": {},
       "guid": "",
       "height": "auto",
       "hideCommandCode": false,
       "hideCommandResult": false,
       "iPythonMetadata": null,
       "inputWidgets": {},
       "isLockedInExamMode": false,
       "latestUser": "a user",
       "latestUserId": null,
       "listResultMetadata": [
        [
         "table",
         28
        ]
       ],
       "metadata": {
        "byteLimit": 2048000,
        "rowLimit": 10000
       },
       "nuid": "411670c8-7964-4796-8b57-a5dd606bd407",
       "origId": 0,
       "parentHierarchy": [],
       "pivotAggregation": null,
       "pivotColumns": null,
       "position": 14.0,
       "resultDbfsErrorMessage": null,
       "resultDbfsStatus": "INLINED_IN_TREE",
       "results": null,
       "showCommandTitle": false,
       "startTime": 1754650037552,
       "state": "input",
       "streamStates": {},
       "subcommandOptions": {
        "queryPlan": {
         "groups": [
          {
           "column": "EROC_DerMonth",
           "type": "column"
          },
          {
           "column": "Latest_Flag",
           "type": "column"
          }
         ],
         "selects": [
          {
           "column": "EROC_DerMonth",
           "type": "column"
          },
          {
           "alias": "column_25cbb88451",
           "args": [
            {
             "column": "Value",
             "type": "column"
            }
           ],
           "function": "SUM",
           "type": "function"
          },
          {
           "column": "Latest_Flag",
           "type": "column"
          }
         ]
        }
       },
       "submitTime": 1754649928578,
       "subtype": "tableResultSubCmd.visualization",
       "tableResultIndex": 0,
       "tableResultSettingsMap": {},
       "useConsistentColors": false,
       "version": "CommandV1",
       "width": "auto",
       "workflows": null,
       "xColumns": null,
       "yColumns": null
      }
     },
     "output_type": "display_data"
    },
    {
     "output_type": "display_data",
     "data": {
      "text/plain": [
       "Databricks visualization. Run in Databricks to view."
      ]
     },
     "metadata": {
      "application/vnd.databricks.v1.subcommand+json": {
       "baseErrorDetails": null,
       "bindings": {},
       "collapsed": false,
       "command": "%python\n__backend_agg_display_orig = display\n__backend_agg_dfs = []\ndef __backend_agg_display_new(df):\n    __backend_agg_df_modules = [\"pandas.core.frame\", \"databricks.koalas.frame\", \"pyspark.sql.dataframe\", \"pyspark.pandas.frame\", \"pyspark.sql.connect.dataframe\"]\n    if (type(df).__module__ in __backend_agg_df_modules and type(df).__name__ == 'DataFrame') or isinstance(df, list):\n        __backend_agg_dfs.append(df)\n\ndisplay = __backend_agg_display_new\n\ndef __backend_agg_user_code_fn():\n    import base64\n    exec(base64.standard_b64decode(\"IyBTcGxpdHRpbmcgdGhlIGNoYXJ0CnNlbGVjdGVkX3JlZ2lvbiA9IGRidXRpbHMud2lkZ2V0cy5nZXQoIjFfUmVnaW9uIikKc2VsZWN0ZWRfcHJvdmlkZXIgPSBkYnV0aWxzLndpZGdldHMuZ2V0KCIyX1Byb3ZpZGVyIikKc2VsZWN0ZWRfbWV0cmljID0gZGJ1dGlscy53aWRnZXRzLmdldCgiM19NZXRyaWMiKQpzdGFydF9kYXRlX3N0ciA9IGRidXRpbHMud2lkZ2V0cy5nZXQoIjRfU3RhcnREYXRlIikKZW5kX2RhdGVfc3RyID0gZGJ1dGlscy53aWRnZXRzLmdldCgiNV9FbmREYXRlIikKCmRmX2xhdGVzdF8xID0gZ2V0X2ZpbHRlcmVkX2RmKDEpLndpdGhDb2x1bW4oIkxhdGVzdF9GbGFnIiwgRi5saXQoMSkpCmRmX2xhdGVzdF8wID0gZ2V0X2ZpbHRlcmVkX2RmKDApLndpdGhDb2x1bW4oIkxhdGVzdF9GbGFnIiwgRi5saXQoMCkpCgpkaXNwbGF5KGRmX2xhdGVzdF8wKSAgIyBTdGFja2VkIGJhcjogeCA9IEVST0NfRGVyTW9udGgsIHNlcmllcyA9IEVST0NfRGVyTWV0cmljLCB5ID0gVmFsdWUsIGZpbHRlciBMYXRlc3RfRmxhZyA9IDAKZGlzcGxheShkZl9sYXRlc3RfMSkgICMgU3RhY2tlZCBiYXI6IHggPSBFUk9DX0Rlck1vbnRoLCBzZXJpZXMgPSBFUk9DX0Rlck1ldHJpYywgeSA9IFZhbHVlLCBmaWx0ZXIgTGF0ZXN0X0ZsYWcgPSAx\").decode())\n\ntry:\n    # run user code\n    __backend_agg_user_code_fn()\n\n    #reset display function\n    display = __backend_agg_display_orig\n\n    if len(__backend_agg_dfs) > 1:\n        # create a temp view\n        if type(__backend_agg_dfs[1]).__module__ == \"databricks.koalas.frame\":\n            # koalas dataframe\n            __backend_agg_dfs[1].to_spark().createOrReplaceTempView(\"DatabricksViewc123517\")\n        elif type(__backend_agg_dfs[1]).__module__ == \"pandas.core.frame\" or isinstance(__backend_agg_dfs[1], list):\n            # pandas dataframe\n            spark.createDataFrame(__backend_agg_dfs[1]).createOrReplaceTempView(\"DatabricksViewc123517\")\n        else:\n            __backend_agg_dfs[1].createOrReplaceTempView(\"DatabricksViewc123517\")\n        #run backend agg\n        display(spark.sql(\"\"\"WITH q AS (select * from DatabricksViewc123517) SELECT `EROC_DerMonth`,SUM(`Value`) `column_25cbb884135`,`Latest_Flag` FROM q GROUP BY `EROC_DerMonth`,`Latest_Flag`\"\"\"))\n    else:\n        displayHTML(\"dataframe no longer exists. If you're using dataframe.display(), use display(dataframe) instead.\")\n\n\nfinally:\n    spark.sql(\"drop view if exists DatabricksViewc123517\")\n    display = __backend_agg_display_orig\n    del __backend_agg_display_new\n    del __backend_agg_display_orig\n    del __backend_agg_dfs\n    del __backend_agg_user_code_fn\n\n",
       "commandTitle": "Latest flag",
       "commandType": "auto",
       "commandVersion": 0,
       "commentThread": [],
       "commentsVisible": false,
       "contentSha256Hex": null,
       "customPlotOptions": {
        "redashChart": [
         {
          "key": "type",
          "value": "CHART"
         },
         {
          "key": "options",
          "value": {
           "alignYAxesAtZero": true,
           "coefficient": 1,
           "columnConfigurationMap": {
            "series": {
             "column": "Latest_Flag",
             "id": "column_25cbb884143"
            },
            "x": {
             "column": "EROC_DerMonth",
             "id": "column_25cbb884132"
            },
            "y": [
             {
              "column": "Value",
              "id": "column_25cbb884135",
              "transform": "SUM"
             }
            ]
           },
           "dateTimeFormat": "DD/MM/YYYY HH:mm",
           "direction": {
            "type": "counterclockwise"
           },
           "error_y": {
            "type": "data",
            "visible": true
           },
           "globalSeriesType": "column",
           "isAggregationOn": true,
           "legend": {
            "traceorder": "normal"
           },
           "missingValuesAsZero": true,
           "numberFormat": "0,0.[00000]",
           "percentFormat": "0[.]00%",
           "series": {
            "error_y": {
             "type": "data",
             "visible": true
            },
            "stacking": "stack"
           },
           "seriesOptions": {
            "column_25cbb884135": {
             "type": "column",
             "yAxis": 0
            }
           },
           "showDataLabels": false,
           "sizemode": "diameter",
           "sortX": true,
           "sortY": true,
           "swappedAxes": false,
           "textFormat": "",
           "useAggregationsUi": true,
           "valuesOptions": {},
           "version": 2,
           "xAxis": {
            "labels": {
             "enabled": true
            },
            "type": "-"
           },
           "yAxis": [
            {
             "type": "-"
            },
            {
             "opposite": true,
             "type": "-"
            }
           ]
          }
         }
        ]
       },
       "datasetPreviewNameToCmdIdMap": {},
       "diffDeletes": [],
       "diffInserts": [],
       "displayType": "redashChart",
       "error": null,
       "errorDetails": null,
       "errorSummary": null,
       "errorTraceType": null,
       "finishTime": 1754650046955,
       "globalVars": {},
       "guid": "",
       "height": "auto",
       "hideCommandCode": false,
       "hideCommandResult": false,
       "iPythonMetadata": null,
       "inputWidgets": {},
       "isLockedInExamMode": false,
       "latestUser": "a user",
       "latestUserId": null,
       "listResultMetadata": [
        [
         "table",
         28
        ]
       ],
       "metadata": {
        "byteLimit": 2048000,
        "rowLimit": 10000
       },
       "nuid": "04dbf9b7-8aa5-4729-b65e-5d811d6a8da8",
       "origId": 0,
       "parentHierarchy": [],
       "pivotAggregation": null,
       "pivotColumns": null,
       "position": 14.0,
       "resultDbfsErrorMessage": null,
       "resultDbfsStatus": "INLINED_IN_TREE",
       "results": null,
       "showCommandTitle": false,
       "startTime": 1754650042357,
       "state": "input",
       "streamStates": {},
       "subcommandOptions": {
        "queryPlan": {
         "groups": [
          {
           "column": "EROC_DerMonth",
           "type": "column"
          },
          {
           "column": "Latest_Flag",
           "type": "column"
          }
         ],
         "selects": [
          {
           "column": "EROC_DerMonth",
           "type": "column"
          },
          {
           "alias": "column_25cbb884135",
           "args": [
            {
             "column": "Value",
             "type": "column"
            }
           ],
           "function": "SUM",
           "type": "function"
          },
          {
           "column": "Latest_Flag",
           "type": "column"
          }
         ]
        }
       },
       "submitTime": 1754649928717,
       "subtype": "tableResultSubCmd.visualization",
       "tableResultIndex": 1,
       "tableResultSettingsMap": {},
       "useConsistentColors": false,
       "version": "CommandV1",
       "width": "auto",
       "workflows": null,
       "xColumns": null,
       "yColumns": null
      }
     },
     "output_type": "display_data"
    }
   ],
   "source": [
    "# Splitting the chart\n",
    "selected_region = dbutils.widgets.get(\"1_Region\")\n",
    "selected_provider = dbutils.widgets.get(\"2_Provider\")\n",
    "selected_metric = dbutils.widgets.get(\"3_Metric\")\n",
    "start_date_str = dbutils.widgets.get(\"4_StartDate\")\n",
    "end_date_str = dbutils.widgets.get(\"5_EndDate\")\n",
    "\n",
    "df_latest_1 = get_filtered_df(1).withColumn(\"Latest_Flag\", F.lit(1))\n",
    "df_latest_0 = get_filtered_df(0).withColumn(\"Latest_Flag\", F.lit(0))\n",
    "\n",
    "display(df_latest_0)  # Stacked bar: x = EROC_DerMonth, series = EROC_DerMetric, y = Value, filter Latest_Flag = 0\n",
    "display(df_latest_1)  # Stacked bar: x = EROC_DerMonth, series = EROC_DerMetric, y = Value, filter Latest_Flag = 1"
   ]
  }
 ],
 "metadata": {
  "application/vnd.databricks.v1+notebook": {
   "computePreferences": null,
   "dashboards": [
    {
     "elements": [
      {
       "dashboardResultIndex": null,
       "elementNUID": "944f5f26-3572-46b8-801f-832efc66966e",
       "elementType": "command",
       "guid": "334506c6-6b8e-450f-907e-4704a8b08292",
       "options": null,
       "position": {
        "height": 7,
        "width": 24,
        "x": 0,
        "y": 18,
        "z": null
       },
       "resultIndex": null
      },
      {
       "dashboardResultIndex": null,
       "elementNUID": "1432e9e1-3fc3-49c4-af7d-076a816c70c4",
       "elementType": "command",
       "guid": "345f7afc-9a8d-45a3-88c4-2373344066ae",
       "options": {
        "autoScaleImg": false,
        "scale": 0,
        "showRunButton": true,
        "showTitle": true,
        "title": "Total by provider",
        "titleAlign": "center"
       },
       "position": {
        "height": 9,
        "width": 24,
        "x": 0,
        "y": 9,
        "z": null
       },
       "resultIndex": null
      },
      {
       "dashboardResultIndex": 0,
       "elementNUID": "1300cae9-b0ac-43e2-b272-b586d0e12084",
       "elementType": "command",
       "guid": "602bcd64-8865-4b08-aeb8-4fad78023ec1",
       "options": {
        "autoScaleImg": false,
        "scale": 0,
        "showTitle": true,
        "title": "Previous v Current | national view fixed on max date",
        "titleAlign": "center"
       },
       "position": {
        "height": 6,
        "width": 24,
        "x": 0,
        "y": 25,
        "z": null
       },
       "resultIndex": null
      },
      {
       "dashboardResultIndex": null,
       "elementNUID": "34f452b4-947c-4243-9a90-88eebdd40f07",
       "elementType": "command",
       "guid": "cb3625b5-5794-4dec-ae43-bd91b8d65a93",
       "options": {
        "autoScaleImg": false,
        "scale": 0,
        "showTitle": true,
        "title": "Moved & Discharged",
        "titleAlign": "center"
       },
       "position": {
        "height": 9,
        "width": 24,
        "x": 0,
        "y": 0,
        "z": null
       },
       "resultIndex": null
      }
     ],
     "globalVars": {},
     "guid": "",
     "layoutOption": {
      "grid": true,
      "stack": true
     },
     "nuid": "be16bbf3-aa60-46b2-933f-d7d55e8e95e2",
     "origId": 5272081072266490,
     "title": "Main QA Checks",
     "version": "DashboardViewV1",
     "width": 1024
    }
   ],
   "environmentMetadata": {
    "base_environment": "",
    "environment_version": "2"
   },
   "inputWidgetPreferences": null,
   "language": "python",
   "notebookMetadata": {
    "pythonIndentUnit": 4
   },
   "notebookName": "PIFU_Validation_QA",
   "widgets": {
    "1_Region": {
     "currentValue": "South West",
     "nuid": "1ae2f1c0-17ac-4abb-a387-6eb25a7c6fd8",
     "typedWidgetInfo": {
      "autoCreated": false,
      "defaultValue": "All",
      "label": null,
      "name": "1_Region",
      "options": {
       "widgetDisplayType": "Dropdown",
       "choices": [
        "All",
        "East of England",
        "London",
        "Midlands",
        "North East and Yorkshire",
        "North West",
        "South East",
        "South West"
       ],
       "fixedDomain": true,
       "multiselect": false
      },
      "parameterDataType": "String"
     },
     "widgetInfo": {
      "widgetType": "dropdown",
      "defaultValue": "All",
      "label": null,
      "name": "1_Region",
      "options": {
       "widgetType": "dropdown",
       "autoCreated": null,
       "choices": [
        "All",
        "East of England",
        "London",
        "Midlands",
        "North East and Yorkshire",
        "North West",
        "South East",
        "South West"
       ]
      }
     }
    },
    "2_Provider": {
     "currentValue": "All",
     "nuid": "c226efb6-49b7-4439-bfb8-6cd352cb2136",
     "typedWidgetInfo": {
      "autoCreated": false,
      "defaultValue": "All",
      "label": null,
      "name": "2_Provider",
      "options": {
       "widgetDisplayType": "Dropdown",
       "choices": [
        "All",
        "R0D",
        "RA7",
        "RA9",
        "RBD",
        "RD1",
        "RDY",
        "REF",
        "RH5",
        "RH8",
        "RK9",
        "RN3",
        "RNZ",
        "RTE",
        "RVJ"
       ],
       "fixedDomain": true,
       "multiselect": false
      },
      "parameterDataType": "String"
     },
     "widgetInfo": {
      "widgetType": "dropdown",
      "defaultValue": "All",
      "label": null,
      "name": "2_Provider",
      "options": {
       "widgetType": "dropdown",
       "autoCreated": null,
       "choices": [
        "All",
        "R0D",
        "RA7",
        "RA9",
        "RBD",
        "RD1",
        "RDY",
        "REF",
        "RH5",
        "RH8",
        "RK9",
        "RN3",
        "RNZ",
        "RTE",
        "RVJ"
       ]
      }
     }
    },
    "3_Metric": {
     "currentValue": "All",
     "nuid": "8882299e-a4b6-4be2-89f7-2867ddd885a2",
     "typedWidgetInfo": {
      "autoCreated": false,
      "defaultValue": "All",
      "label": null,
      "name": "3_Metric",
      "options": {
       "widgetDisplayType": "Dropdown",
       "choices": [
        "All",
        "Moved&Discharged"
       ],
       "fixedDomain": true,
       "multiselect": false
      },
      "parameterDataType": "String"
     },
     "widgetInfo": {
      "widgetType": "dropdown",
      "defaultValue": "All",
      "label": null,
      "name": "3_Metric",
      "options": {
       "widgetType": "dropdown",
       "autoCreated": null,
       "choices": [
        "All",
        "Moved&Discharged"
       ]
      }
     }
    },
    "4_StartDate": {
     "currentValue": "2023-04-01",
     "nuid": "5ba08657-ab4c-4ee0-92ef-641dddc4bf8b",
     "typedWidgetInfo": {
      "autoCreated": false,
      "defaultValue": "2023-04-01",
      "label": null,
      "name": "4_StartDate",
      "options": {
       "widgetDisplayType": "Text",
       "validationRegex": null
      },
      "parameterDataType": "String"
     },
     "widgetInfo": {
      "widgetType": "text",
      "defaultValue": "2023-04-01",
      "label": null,
      "name": "4_StartDate",
      "options": {
       "widgetType": "text",
       "autoCreated": null,
       "validationRegex": null
      }
     }
    },
    "5_EndDate": {
     "currentValue": "2025-07-01",
     "nuid": "8faf5bcc-bf78-4b7e-864a-d7a08d640381",
     "typedWidgetInfo": {
      "autoCreated": false,
      "defaultValue": "2025-07-01",
      "label": null,
      "name": "5_EndDate",
      "options": {
       "widgetDisplayType": "Text",
       "validationRegex": null
      },
      "parameterDataType": "String"
     },
     "widgetInfo": {
      "widgetType": "text",
      "defaultValue": "2025-07-01",
      "label": null,
      "name": "5_EndDate",
      "options": {
       "widgetType": "text",
       "autoCreated": null,
       "validationRegex": null
      }
     }
    }
   }
  },
  "language_info": {
   "name": "python"
  }
 },
 "nbformat": 4,
 "nbformat_minor": 0
}
