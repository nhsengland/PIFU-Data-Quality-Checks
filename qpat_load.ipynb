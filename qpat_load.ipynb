{
 "cells": [
  {
   "cell_type": "code",
   "execution_count": 0,
   "metadata": {
    "application/vnd.databricks.v1+cell": {
     "cellMetadata": {
      "byteLimit": 2048000,
      "rowLimit": 10000
     },
     "inputWidgets": {},
     "nuid": "23c9911c-ef5d-4728-a61e-6518599290e8",
     "showTitle": false,
     "tableResultSettingsMap": {},
     "title": ""
    }
   },
   "outputs": [],
   "source": [
    "#1\n",
    "# Install ADAL (Azure Active Directory Authentication Library)\n",
    "%pip install adal"
   ]
  },
  {
   "cell_type": "code",
   "execution_count": 0,
   "metadata": {
    "application/vnd.databricks.v1+cell": {
     "cellMetadata": {
      "byteLimit": 2048000,
      "rowLimit": 10000
     },
     "inputWidgets": {},
     "nuid": "6b23f9ed-cd88-49e6-a0d3-47b52e205d6c",
     "showTitle": false,
     "tableResultSettingsMap": {},
     "title": ""
    }
   },
   "outputs": [],
   "source": [
    "#Import the tools\n",
    "#from env import env, not used for this notebook\n",
    "from src import utils, excel\n",
    "\n",
    "import openpyxl\n",
    "import pandas as pd\n",
    "\n",
    "from pyspark.sql import functions as F\n",
    "from datetime import datetime\n",
    "from openpyxl.styles import NamedStyle"
   ]
  },
  {
   "cell_type": "code",
   "execution_count": 0,
   "metadata": {
    "application/vnd.databricks.v1+cell": {
     "cellMetadata": {
      "byteLimit": 2048000,
      "rowLimit": 10000
     },
     "inputWidgets": {},
     "nuid": "35ebfcbe-2c07-4fa8-b13b-673245b5b9ba",
     "showTitle": false,
     "tableResultSettingsMap": {},
     "title": ""
    }
   },
   "outputs": [],
   "source": [
    "# 2 A pop up will require the key code for authentication\n",
    "\n",
    "# Mart authentication\n",
    "# Note: 'adal' is deprecated; consider using 'msal' for long-term use.\n",
    "\n",
    "import adal  # ← Required import\n",
    "\n",
    "# Set MS context\n",
    "tenant = \"common\" \n",
    "authority = f\"https://login.microsoftonline.com/{tenant}\" \n",
    "context = adal.AuthenticationContext(authority)\n",
    "\n",
    "# Client ID for Azure Cloud Shell\n",
    "client_id = \"04b07795-8ddb-461a-bbee-02f9e1bf7b46\" \n",
    "resource_app_id_url = \"https://database.windows.net/\" \n",
    "\n",
    "# Acquire user code\n",
    "code = context.acquire_user_code(resource_app_id_url, client_id)\n",
    "print(code['message'])  # Instructs user to authenticate\n",
    "\n",
    "# Acquire token with device code\n",
    "token = context.acquire_token_with_device_code(resource_app_id_url, code, client_id)\n",
    "access_token = token[\"accessToken\"]\n",
    "\n"
   ]
  },
  {
   "cell_type": "code",
   "execution_count": 0,
   "metadata": {
    "application/vnd.databricks.v1+cell": {
     "cellMetadata": {
      "byteLimit": 2048000,
      "rowLimit": 10000
     },
     "inputWidgets": {},
     "nuid": "ae4797dc-b34e-4808-a68a-00ad0b9781ad",
     "showTitle": false,
     "tableResultSettingsMap": {},
     "title": ""
    }
   },
   "outputs": [],
   "source": [
    "# 3\n",
    "\n",
    "# Read from mart, note table name is \"Schema.TableName\"\n",
    "\n",
    "# JDBC driver and connection info\n",
    "driver = \"com.microsoft.sqlserver.jdbc.spark\"\n",
    "url = \"jdbc:sqlserver://udalsqlmartprod.database.windows.net;databaseName=udal-sql-mart-qpat\"\n",
    "table_name = \"EROC.PEROC_Initial_Validation\"\n",
    "\n",
    "# Read table into Spark DataFrame\n",
    "df_raw  = spark.read \\\n",
    "       .format(\"jdbc\") \\\n",
    "       .option(\"url\", url) \\\n",
    "       .option(\"dbtable\", table_name) \\\n",
    "       .option(\"accessToken\", access_token) \\\n",
    "       .option(\"encrypt\", \"true\") \\\n",
    "       .option(\"hostNameInCertificate\", \"*.database.windows.net\") \\\n",
    "       .load()"
   ]
  },
  {
   "cell_type": "code",
   "execution_count": 0,
   "metadata": {
    "application/vnd.databricks.v1+cell": {
     "cellMetadata": {
      "byteLimit": 2048000,
      "rowLimit": 10000
     },
     "inputWidgets": {},
     "nuid": "ae693f38-afc8-492f-8ba8-d90cf2fe571f",
     "showTitle": false,
     "tableResultSettingsMap": {},
     "title": ""
    }
   },
   "outputs": [],
   "source": [
    "#df_raw.display()"
   ]
  },
  {
   "cell_type": "code",
   "execution_count": 0,
   "metadata": {
    "application/vnd.databricks.v1+cell": {
     "cellMetadata": {
      "byteLimit": 2048000,
      "rowLimit": 10000
     },
     "inputWidgets": {},
     "nuid": "adb2ae44-3018-45b9-a0aa-9ccfdca47db1",
     "showTitle": false,
     "tableResultSettingsMap": {},
     "title": ""
    }
   },
   "outputs": [],
   "source": [
    "from pyspark.sql import functions as F\n",
    "\n",
    "# Creating the monthly & Org sheet data frame\n",
    "df_moved_discharged = (\n",
    "    df_raw\n",
    "    .where(F.col(\"EROC_DerMetric\").isin(\"PIFUSRTMV01\", \"PIFUSRTDC01\"))\n",
    "    .where(F.col(\"EROC_DerMonth\") > '2023-03-01')\n",
    "    .where(F.col(\"EROC_Latest_Flag\") == 1)  # confirmed correct\n",
    "    .groupby(\n",
    "        \"EROC_DerMonth\",\n",
    "        \"EROC_DerProviderCode\",\n",
    "        \"EROC_DerTFC\",\n",
    "        \"RegionName\",\n",
    "        \"EROC_DerMetric\"\n",
    "    )\n",
    "    .agg(F.sum(\"EROC_Value\").alias(\"Value\"))\n",
    "    .orderBy(\n",
    "        \"EROC_DerMonth\",\n",
    "        \"EROC_DerProviderCode\"\n",
    "    )\n",
    ")\n",
    "\n",
    "#df_moved_discharged.display()"
   ]
  },
  {
   "cell_type": "code",
   "execution_count": 0,
   "metadata": {
    "application/vnd.databricks.v1+cell": {
     "cellMetadata": {
      "byteLimit": 2048000,
      "rowLimit": 10000
     },
     "inputWidgets": {},
     "nuid": "6447cff6-669b-4df9-b6cb-b7eb1bb8596f",
     "showTitle": false,
     "tableResultSettingsMap": {},
     "title": ""
    }
   },
   "outputs": [],
   "source": [
    "df_moved_discharged.write.format('delta').mode('overwrite').save('abfss://analytics-projects@udalstdataanalysisprod.dfs.core.windows.net/ElectiveRecovery/Projects/PIFU_Validation')"
   ]
  },
  {
   "cell_type": "code",
   "execution_count": 0,
   "metadata": {
    "application/vnd.databricks.v1+cell": {
     "cellMetadata": {
      "byteLimit": 2048000,
      "rowLimit": 10000
     },
     "collapsed": true,
     "inputWidgets": {},
     "nuid": "eb8a7ba2-e960-4a7a-a9f7-fdfab10f952a",
     "showTitle": false,
     "tableResultSettingsMap": {},
     "title": ""
    }
   },
   "outputs": [],
   "source": [
    "spark.conf.set(\"spark.sql.legacy.timeParserPolicy\", \"LEGACY\")#create the pivoted data frame\n",
    "\n",
    "df_pivoted = (\n",
    "    df_moved_discharged\n",
    "    .groupBy(\"EROC_DerMonth\", \"EROC_DerProviderCode\")\n",
    "    .pivot(\"EROC_DerMetric\")  # creates columns for each metric\n",
    "    .agg(F.first(\"Value\"))    # or F.sum if there are multiple rows\n",
    "    .na.fill(0)  # replace nulls with 0\n",
    "    .orderBy(\"EROC_DerMonth\", \"EROC_DerProviderCode\")\n",
    ")\n",
    "\n",
    "df_pivoted.display()"
   ]
  },
  {
   "cell_type": "code",
   "execution_count": 0,
   "metadata": {
    "application/vnd.databricks.v1+cell": {
     "cellMetadata": {
      "byteLimit": 2048000,
      "rowLimit": 10000
     },
     "collapsed": true,
     "inputWidgets": {},
     "nuid": "9f0d2ec0-11f0-432e-bf56-80255d644c64",
     "showTitle": false,
     "tableResultSettingsMap": {},
     "title": ""
    }
   },
   "outputs": [],
   "source": [
    "#Creating the chart \n",
    "from pyspark.sql.functions import to_date, col\n",
    "from datetime import datetime\n",
    "import plotly.express as px\n",
    "\n",
    "# Step 0: Optional cleanup (reset widgets for proper order — safe in dashboards)\n",
    "dbutils.widgets.removeAll()\n",
    "\n",
    "# Step 1: Convert date string to proper date type\n",
    "df_moved_discharged = df_moved_discharged.withColumn(\n",
    "    \"EROC_DerMonth\", to_date(col(\"EROC_DerMonth\"), \"yyyy-MM-dd\")\n",
    ")\n",
    "\n",
    "# Step 2: Register the DataFrame as a temp SQL view\n",
    "df_moved_discharged.createOrReplaceTempView(\"moved_discharged\")\n",
    "\n",
    "# Step 3: Get base DataFrame with valid rows\n",
    "df_line_chart = spark.sql(\"\"\"\n",
    "    SELECT\n",
    "        EROC_DerMonth,\n",
    "        EROC_DerProviderCode,\n",
    "        EROC_DerMetric,\n",
    "        Value\n",
    "    FROM\n",
    "        moved_discharged\n",
    "    WHERE\n",
    "        EROC_DerMonth IS NOT NULL\n",
    "        AND EROC_DerProviderCode IS NOT NULL\n",
    "        AND EROC_DerMetric IS NOT NULL\n",
    "\"\"\")\n",
    "\n",
    "# Step 4: Fetch distinct values and date range\n",
    "valid_providers = sorted(set(str(p[0]) for p in df_line_chart.select(\"EROC_DerProviderCode\").distinct().collect()))\n",
    "valid_metrics = sorted(set(str(m[0]) for m in df_line_chart.select(\"EROC_DerMetric\").distinct().collect()))\n",
    "min_date, max_date = df_line_chart.selectExpr(\"min(EROC_DerMonth)\", \"max(EROC_DerMonth)\").first()"
   ]
  },
  {
   "cell_type": "code",
   "execution_count": 0,
   "metadata": {
    "application/vnd.databricks.v1+cell": {
     "cellMetadata": {
      "byteLimit": 2048000,
      "rowLimit": 10000
     },
     "collapsed": true,
     "inputWidgets": {},
     "nuid": "aec3617a-2192-46cd-971d-6c3a33755002",
     "showTitle": false,
     "tableResultSettingsMap": {},
     "title": ""
    }
   },
   "outputs": [],
   "source": [
    "dbutils.widgets.removeAll()"
   ]
  },
  {
   "cell_type": "code",
   "execution_count": 0,
   "metadata": {
    "application/vnd.databricks.v1+cell": {
     "cellMetadata": {
      "byteLimit": 2048000,
      "rowLimit": 10000
     },
     "collapsed": true,
     "inputWidgets": {},
     "nuid": "24e61534-3e82-470a-bc9b-fce2abea0461",
     "showTitle": false,
     "tableResultSettingsMap": {},
     "title": ""
    }
   },
   "outputs": [],
   "source": [
    "#Step 5 # 1. Provider dropdown\n",
    "valid_providers = sorted(set(str(p[0]) for p in df_line_chart.select(\"EROC_DerProviderCode\").distinct().collect()))\n",
    "dbutils.widgets.dropdown(\"1_Provider\", \"All\", [\"All\"] + valid_providers)\n",
    "\n",
    "# 2. Metric dropdown\n",
    "valid_metrics = sorted(set(str(m[0]) for m in df_line_chart.select(\"EROC_DerMetric\").distinct().collect()))\n",
    "dbutils.widgets.dropdown(\"2_Metric\", \"All\", [\"All\"] + valid_metrics)\n",
    "\n",
    "# 3. Start date text box\n",
    "min_date = df_line_chart.selectExpr(\"min(EROC_DerMonth)\").first()[0]\n",
    "dbutils.widgets.text(\"3_StartDate\", min_date.strftime(\"%Y-%m-%d\"))\n",
    "\n",
    "# 4. End date text box\n",
    "max_date = df_line_chart.selectExpr(\"max(EROC_DerMonth)\").first()[0]\n",
    "dbutils.widgets.text(\"4_EndDate\", max_date.strftime(\"%Y-%m-%d\"))"
   ]
  },
  {
   "cell_type": "code",
   "execution_count": 0,
   "metadata": {
    "application/vnd.databricks.v1+cell": {
     "cellMetadata": {
      "byteLimit": 2048000,
      "rowLimit": 10000
     },
     "collapsed": true,
     "inputWidgets": {},
     "nuid": "5e505fe6-5675-471b-ba53-07b2cfc4c933",
     "showTitle": false,
     "tableResultSettingsMap": {},
     "title": ""
    }
   },
   "outputs": [
    {
     "output_type": "display_data",
     "data": {
      "text/plain": [
       "Databricks visualization. Run in Databricks to view."
      ]
     },
     "metadata": {
      "application/vnd.databricks.v1.subcommand+json": {
       "baseErrorDetails": null,
       "bindings": {},
       "collapsed": false,
       "command": "%python\n__backend_agg_display_orig = display\n__backend_agg_dfs = []\ndef __backend_agg_display_new(df):\n    __backend_agg_df_modules = [\"pandas.core.frame\", \"databricks.koalas.frame\", \"pyspark.sql.dataframe\", \"pyspark.pandas.frame\", \"pyspark.sql.connect.dataframe\"]\n    if (type(df).__module__ in __backend_agg_df_modules and type(df).__name__ == 'DataFrame') or isinstance(df, list):\n        __backend_agg_dfs.append(df)\n\ndisplay = __backend_agg_display_new\n\ndef __backend_agg_user_code_fn():\n    import base64\n    exec(base64.standard_b64decode(\"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\").decode())\n\ntry:\n    # run user code\n    __backend_agg_user_code_fn()\n\n    #reset display function\n    display = __backend_agg_display_orig\n\n    if len(__backend_agg_dfs) > 0:\n        # create a temp view\n        if type(__backend_agg_dfs[0]).__module__ == \"databricks.koalas.frame\":\n            # koalas dataframe\n            __backend_agg_dfs[0].to_spark().createOrReplaceTempView(\"DatabricksView5a7738a\")\n        elif type(__backend_agg_dfs[0]).__module__ == \"pandas.core.frame\" or isinstance(__backend_agg_dfs[0], list):\n            # pandas dataframe\n            spark.createDataFrame(__backend_agg_dfs[0]).createOrReplaceTempView(\"DatabricksView5a7738a\")\n        else:\n            __backend_agg_dfs[0].createOrReplaceTempView(\"DatabricksView5a7738a\")\n        #run backend agg\n        display(spark.sql(\"\"\"WITH q AS (select * from DatabricksView5a7738a) SELECT SUM(`PIFUSRTDC01`) `column_b81d7dcc88`,SUM(`PIFUSRTMV01`) `column_b81d7dcc89`,`EROC_DerMonth` FROM q GROUP BY `EROC_DerMonth`\"\"\"))\n    else:\n        displayHTML(\"dataframe no longer exists. If you're using dataframe.display(), use display(dataframe) instead.\")\n\n\nfinally:\n    spark.sql(\"drop view if exists DatabricksView5a7738a\")\n    display = __backend_agg_display_orig\n    del __backend_agg_display_new\n    del __backend_agg_display_orig\n    del __backend_agg_dfs\n    del __backend_agg_user_code_fn\n\n",
       "commandTitle": "Visualization 1",
       "commandType": "auto",
       "commandVersion": 0,
       "commentThread": [],
       "commentsVisible": false,
       "contentSha256Hex": null,
       "customPlotOptions": {
        "redashChart": [
         {
          "key": "type",
          "value": "CHART"
         },
         {
          "key": "options",
          "value": {
           "alignYAxesAtZero": true,
           "coefficient": 1,
           "columnConfigurationMap": {
            "x": {
             "column": "EROC_DerMonth",
             "id": "column_b81d7dcc90"
            },
            "y": [
             {
              "column": "PIFUSRTDC01",
              "id": "column_b81d7dcc88",
              "transform": "SUM"
             },
             {
              "column": "PIFUSRTMV01",
              "id": "column_b81d7dcc89",
              "transform": "SUM"
             }
            ]
           },
           "dateTimeFormat": "DD/MM/YYYY HH:mm",
           "direction": {
            "type": "counterclockwise"
           },
           "error_y": {
            "type": "data",
            "visible": true
           },
           "globalSeriesType": "line",
           "legend": {
            "traceorder": "normal"
           },
           "missingValuesAsZero": true,
           "numberFormat": "0,0.[00000]",
           "percentFormat": "0[.]00%",
           "series": {
            "error_y": {
             "type": "data",
             "visible": true
            },
            "stacking": null
           },
           "seriesOptions": {
            "column_b81d7dcc88": {
             "name": "PIFUSRTDC01",
             "yAxis": 0
            },
            "column_b81d7dcc89": {
             "name": "PIFUSRTMV01",
             "yAxis": 0
            }
           },
           "showDataLabels": false,
           "sizemode": "diameter",
           "sortX": true,
           "sortY": true,
           "swappedAxes": false,
           "textFormat": "",
           "useAggregationsUi": true,
           "valuesOptions": {},
           "version": 2,
           "xAxis": {
            "labels": {
             "enabled": true
            },
            "type": "-"
           },
           "yAxis": [
            {
             "type": "-"
            },
            {
             "opposite": true,
             "type": "-"
            }
           ]
          }
         }
        ]
       },
       "datasetPreviewNameToCmdIdMap": {},
       "diffDeletes": [],
       "diffInserts": [],
       "displayType": "redashChart",
       "error": null,
       "errorDetails": null,
       "errorSummary": null,
       "errorTraceType": null,
       "finishTime": 1752584685525,
       "globalVars": {},
       "guid": "",
       "height": "auto",
       "hideCommandCode": false,
       "hideCommandResult": false,
       "iPythonMetadata": null,
       "inputWidgets": {},
       "isLockedInExamMode": false,
       "latestUser": "a user",
       "latestUserId": null,
       "listResultMetadata": [
        [
         "table",
         27
        ]
       ],
       "metadata": {
        "byteLimit": 2048000,
        "rowLimit": 10000
       },
       "nuid": "3d981d35-30a1-4995-b37e-5844554afa95",
       "origId": 0,
       "parentHierarchy": [],
       "pivotAggregation": null,
       "pivotColumns": null,
       "position": 6.625,
       "resultDbfsErrorMessage": null,
       "resultDbfsStatus": "INLINED_IN_TREE",
       "results": null,
       "showCommandTitle": false,
       "startTime": 1752584625598,
       "state": "input",
       "streamStates": {},
       "subcommandOptions": {
        "queryPlan": {
         "groups": [
          {
           "column": "EROC_DerMonth",
           "type": "column"
          }
         ],
         "selects": [
          {
           "alias": "column_b81d7dcc88",
           "args": [
            {
             "column": "PIFUSRTDC01",
             "type": "column"
            }
           ],
           "function": "SUM",
           "type": "function"
          },
          {
           "alias": "column_b81d7dcc89",
           "args": [
            {
             "column": "PIFUSRTMV01",
             "type": "column"
            }
           ],
           "function": "SUM",
           "type": "function"
          },
          {
           "column": "EROC_DerMonth",
           "type": "column"
          }
         ]
        }
       },
       "submitTime": 1752584563710,
       "subtype": "tableResultSubCmd.visualization",
       "tableResultIndex": 0,
       "tableResultSettingsMap": {},
       "useConsistentColors": false,
       "version": "CommandV1",
       "width": "auto",
       "workflows": null,
       "xColumns": null,
       "yColumns": null
      }
     },
     "output_type": "display_data"
    }
   ],
   "source": [
    "\n",
    "\n",
    "# Step 6: Get widget values\n",
    "selected_provider = dbutils.widgets.get(\"1_Provider\")\n",
    "selected_metric = dbutils.widgets.get(\"2_Metric\")\n",
    "start_date_str = dbutils.widgets.get(\"3_StartDate\")\n",
    "end_date_str = dbutils.widgets.get(\"4_EndDate\")\n",
    "\n",
    "# Step 7: Validate and parse dates\n",
    "def safe_parse(date_str, fallback):\n",
    "    try:\n",
    "        return datetime.strptime(date_str, \"%Y-%m-%d\").date()\n",
    "    except:\n",
    "        return fallback\n",
    "\n",
    "start_date = safe_parse(start_date_str, min_date)\n",
    "end_date = safe_parse(end_date_str, max_date)\n",
    "\n",
    "# Step 8: Apply filtering\n",
    "df_filtered = df_line_chart.filter((col(\"EROC_DerMonth\") >= start_date) & (col(\"EROC_DerMonth\") <= end_date))\n",
    "\n",
    "if selected_provider != \"All\" and selected_provider in valid_providers:\n",
    "    df_filtered = df_filtered.filter(col(\"EROC_DerProviderCode\") == selected_provider)\n",
    "if selected_metric != \"All\" and selected_metric in valid_metrics:\n",
    "    df_filtered = df_filtered.filter(col(\"EROC_DerMetric\") == selected_metric)\n",
    "\n",
    "# Step 9: Pivot and display\n",
    "df_pivot = df_filtered.groupBy(\"EROC_DerMonth\").pivot(\"EROC_DerMetric\").sum(\"Value\").orderBy(\"EROC_DerMonth\")\n",
    "display(df_pivot)\n",
    "\n",
    "# Step 10: Optional Plotly line chart for selected metric\n",
    "if selected_metric != \"All\":\n",
    "    pdf = df_filtered.select(\"EROC_DerMonth\", \"Value\").orderBy(\"EROC_DerMonth\").toPandas()\n",
    "    fig = px.line(\n",
    "        pdf,\n",
    "        x=\"EROC_DerMonth\",\n",
    "        y=\"Value\",\n",
    "        title=f\"{selected_metric} Trend for {selected_provider}\" if selected_provider != \"All\" else f\"{selected_metric} Trend (All Providers)\"\n",
    "    )\n",
    "    fig.show()"
   ]
  }
 ],
 "metadata": {
  "application/vnd.databricks.v1+notebook": {
   "computePreferences": null,
   "dashboards": [
    {
     "elements": [
      {
       "dashboardResultIndex": null,
       "elementNUID": "3d981d35-30a1-4995-b37e-5844554afa95",
       "elementType": "command",
       "guid": "4492ce72-08f5-44a7-aa4b-8f00f0ce8556",
       "options": null,
       "position": {
        "height": 10,
        "width": 20,
        "x": 0,
        "y": 0,
        "z": null
       },
       "resultIndex": null
      }
     ],
     "globalVars": {},
     "guid": "",
     "layoutOption": {
      "grid": true,
      "stack": true
     },
     "nuid": "c5f09722-0d07-4376-8a01-ad28dc5b6006",
     "origId": 5217694464680559,
     "title": "PEROC - Moved & Discharged",
     "version": "DashboardViewV1",
     "width": 1024
    }
   ],
   "environmentMetadata": {
    "base_environment": "",
    "environment_version": "2"
   },
   "inputWidgetPreferences": null,
   "language": "python",
   "notebookMetadata": {
    "mostRecentlyExecutedCommandWithImplicitDF": {
     "commandId": 7539888513478830,
     "dataframes": [
      "_sqldf"
     ]
    },
    "pythonIndentUnit": 4
   },
   "notebookName": "qpat_load",
   "widgets": {
    "1_Provider": {
     "currentValue": "R0A",
     "nuid": "7ee29dc8-bca7-4825-a262-9143a5c35c2d",
     "typedWidgetInfo": {
      "autoCreated": false,
      "defaultValue": "All",
      "label": null,
      "name": "1_Provider",
      "options": {
       "widgetDisplayType": "Dropdown",
       "choices": [
        "All",
        "NQT",
        "NT219",
        "R0A",
        "R0B",
        "R0D",
        "R1D",
        "R1F",
        "R1H",
        "R1K",
        "RA2",
        "RA7",
        "RA9",
        "RAE",
        "RAJ",
        "RAL",
        "RAN",
        "RAS",
        "RAX",
        "RBD",
        "RBK",
        "RBL",
        "RBN",
        "RBQ",
        "RBS",
        "RBT",
        "RC9",
        "RCB",
        "RCD",
        "RCF",
        "RCU",
        "RCX",
        "RD1",
        "RD8",
        "RDE",
        "RDU",
        "RDY",
        "REF",
        "REM",
        "REN",
        "REP",
        "RET",
        "RF4",
        "RFF",
        "RFR",
        "RFS",
        "RGM",
        "RGN",
        "RGP",
        "RGR",
        "RGT",
        "RH5",
        "RH8",
        "RHA",
        "RHM",
        "RHQ",
        "RHU",
        "RHW",
        "RJ1",
        "RJ2",
        "RJ6",
        "RJ7",
        "RJC",
        "RJE",
        "RJL",
        "RJN",
        "RJR",
        "RJZ",
        "RK5",
        "RK9",
        "RKB",
        "RKE",
        "RL1",
        "RL4",
        "RLQ",
        "RLT",
        "RM1",
        "RM3",
        "RMC",
        "RMP",
        "RN3",
        "RN5",
        "RN7",
        "RNA",
        "RNN",
        "RNQ",
        "RNS",
        "RNZ",
        "RP1",
        "RP4",
        "RP5",
        "RP6",
        "RPA",
        "RPC",
        "RPY",
        "RQ3",
        "RQM",
        "RQW",
        "RQX",
        "RR7",
        "RR8",
        "RRE",
        "RRF",
        "RRJ",
        "RRK",
        "RRV",
        "RTD",
        "RTE",
        "RTF",
        "RTG",
        "RTH",
        "RTK",
        "RTP",
        "RTR",
        "RTX",
        "RVJ",
        "RVR",
        "RVV",
        "RVW",
        "RW1",
        "RWA",
        "RWD",
        "RWE",
        "RWF",
        "RWG",
        "RWH",
        "RWJ",
        "RWP",
        "RWW",
        "RWY",
        "RX1",
        "RXC",
        "RXF",
        "RXK",
        "RXL",
        "RXN",
        "RXP",
        "RXQ",
        "RXR",
        "RXW",
        "RYJ",
        "RYR",
        "RYW"
       ],
       "fixedDomain": true,
       "multiselect": false
      },
      "parameterDataType": "String"
     },
     "widgetInfo": {
      "widgetType": "dropdown",
      "defaultValue": "All",
      "label": null,
      "name": "1_Provider",
      "options": {
       "widgetType": "dropdown",
       "autoCreated": false,
       "choices": [
        "All",
        "NQT",
        "NT219",
        "R0A",
        "R0B",
        "R0D",
        "R1D",
        "R1F",
        "R1H",
        "R1K",
        "RA2",
        "RA7",
        "RA9",
        "RAE",
        "RAJ",
        "RAL",
        "RAN",
        "RAS",
        "RAX",
        "RBD",
        "RBK",
        "RBL",
        "RBN",
        "RBQ",
        "RBS",
        "RBT",
        "RC9",
        "RCB",
        "RCD",
        "RCF",
        "RCU",
        "RCX",
        "RD1",
        "RD8",
        "RDE",
        "RDU",
        "RDY",
        "REF",
        "REM",
        "REN",
        "REP",
        "RET",
        "RF4",
        "RFF",
        "RFR",
        "RFS",
        "RGM",
        "RGN",
        "RGP",
        "RGR",
        "RGT",
        "RH5",
        "RH8",
        "RHA",
        "RHM",
        "RHQ",
        "RHU",
        "RHW",
        "RJ1",
        "RJ2",
        "RJ6",
        "RJ7",
        "RJC",
        "RJE",
        "RJL",
        "RJN",
        "RJR",
        "RJZ",
        "RK5",
        "RK9",
        "RKB",
        "RKE",
        "RL1",
        "RL4",
        "RLQ",
        "RLT",
        "RM1",
        "RM3",
        "RMC",
        "RMP",
        "RN3",
        "RN5",
        "RN7",
        "RNA",
        "RNN",
        "RNQ",
        "RNS",
        "RNZ",
        "RP1",
        "RP4",
        "RP5",
        "RP6",
        "RPA",
        "RPC",
        "RPY",
        "RQ3",
        "RQM",
        "RQW",
        "RQX",
        "RR7",
        "RR8",
        "RRE",
        "RRF",
        "RRJ",
        "RRK",
        "RRV",
        "RTD",
        "RTE",
        "RTF",
        "RTG",
        "RTH",
        "RTK",
        "RTP",
        "RTR",
        "RTX",
        "RVJ",
        "RVR",
        "RVV",
        "RVW",
        "RW1",
        "RWA",
        "RWD",
        "RWE",
        "RWF",
        "RWG",
        "RWH",
        "RWJ",
        "RWP",
        "RWW",
        "RWY",
        "RX1",
        "RXC",
        "RXF",
        "RXK",
        "RXL",
        "RXN",
        "RXP",
        "RXQ",
        "RXR",
        "RXW",
        "RYJ",
        "RYR",
        "RYW"
       ]
      }
     }
    },
    "2_Metric": {
     "currentValue": "All",
     "nuid": "c2b194b5-2238-4e1b-8435-633f647f4af7",
     "typedWidgetInfo": {
      "autoCreated": false,
      "defaultValue": "All",
      "label": null,
      "name": "2_Metric",
      "options": {
       "widgetDisplayType": "Dropdown",
       "choices": [
        "All",
        "PIFUSRTDC01",
        "PIFUSRTMV01"
       ],
       "fixedDomain": true,
       "multiselect": false
      },
      "parameterDataType": "String"
     },
     "widgetInfo": {
      "widgetType": "dropdown",
      "defaultValue": "All",
      "label": null,
      "name": "2_Metric",
      "options": {
       "widgetType": "dropdown",
       "autoCreated": false,
       "choices": [
        "All",
        "PIFUSRTDC01",
        "PIFUSRTMV01"
       ]
      }
     }
    },
    "3_StartDate": {
     "currentValue": "2023-04-01",
     "nuid": "72eb1590-c542-4804-8300-9b104700936d",
     "typedWidgetInfo": {
      "autoCreated": false,
      "defaultValue": "2023-04-01",
      "label": null,
      "name": "3_StartDate",
      "options": {
       "widgetDisplayType": "Text",
       "validationRegex": null
      },
      "parameterDataType": "String"
     },
     "widgetInfo": {
      "widgetType": "text",
      "defaultValue": "2023-04-01",
      "label": null,
      "name": "3_StartDate",
      "options": {
       "widgetType": "text",
       "autoCreated": false,
       "validationRegex": null
      }
     }
    },
    "4_EndDate": {
     "currentValue": "2025-06-01",
     "nuid": "06e619af-28ff-48e8-943a-c4aec4d1223b",
     "typedWidgetInfo": {
      "autoCreated": false,
      "defaultValue": "2026-01-01",
      "label": null,
      "name": "4_EndDate",
      "options": {
       "widgetDisplayType": "Text",
       "validationRegex": null
      },
      "parameterDataType": "String"
     },
     "widgetInfo": {
      "widgetType": "text",
      "defaultValue": "2026-01-01",
      "label": null,
      "name": "4_EndDate",
      "options": {
       "widgetType": "text",
       "autoCreated": false,
       "validationRegex": null
      }
     }
    }
   }
  },
  "language_info": {
   "name": "python"
  }
 },
 "nbformat": 4,
 "nbformat_minor": 0
}
