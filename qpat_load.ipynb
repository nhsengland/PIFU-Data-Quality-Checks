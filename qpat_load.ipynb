{
 "cells": [
  {
   "cell_type": "code",
   "execution_count": 0,
   "metadata": {
    "application/vnd.databricks.v1+cell": {
     "cellMetadata": {
      "byteLimit": 2048000,
      "rowLimit": 10000
     },
     "inputWidgets": {},
     "nuid": "23c9911c-ef5d-4728-a61e-6518599290e8",
     "showTitle": false,
     "tableResultSettingsMap": {},
     "title": ""
    }
   },
   "outputs": [],
   "source": [
    "#1\n",
    "# Install ADAL (Azure Active Directory Authentication Library)\n",
    "%pip install adal"
   ]
  },
  {
   "cell_type": "code",
   "execution_count": 0,
   "metadata": {
    "application/vnd.databricks.v1+cell": {
     "cellMetadata": {
      "byteLimit": 2048000,
      "rowLimit": 10000
     },
     "inputWidgets": {},
     "nuid": "6b23f9ed-cd88-49e6-a0d3-47b52e205d6c",
     "showTitle": false,
     "tableResultSettingsMap": {},
     "title": ""
    }
   },
   "outputs": [],
   "source": [
    "#Import the tools\n",
    "#from env import env, not used for this notebook\n",
    "from src import utils, excel\n",
    "\n",
    "import openpyxl\n",
    "import pandas as pd\n",
    "\n",
    "from pyspark.sql import functions as F\n",
    "from datetime import datetime\n",
    "from openpyxl.styles import NamedStyle"
   ]
  },
  {
   "cell_type": "code",
   "execution_count": 0,
   "metadata": {
    "application/vnd.databricks.v1+cell": {
     "cellMetadata": {
      "byteLimit": 2048000,
      "rowLimit": 10000
     },
     "inputWidgets": {},
     "nuid": "35ebfcbe-2c07-4fa8-b13b-673245b5b9ba",
     "showTitle": false,
     "tableResultSettingsMap": {},
     "title": ""
    }
   },
   "outputs": [],
   "source": [
    "# 2 A pop up will require the key code for authentication\n",
    "\n",
    "# Mart authentication\n",
    "# Note: 'adal' is deprecated; consider using 'msal' for long-term use.\n",
    "\n",
    "import adal  # ← Required import\n",
    "\n",
    "# Set MS context\n",
    "tenant = \"common\" \n",
    "authority = f\"https://login.microsoftonline.com/{tenant}\" \n",
    "context = adal.AuthenticationContext(authority)\n",
    "\n",
    "# Client ID for Azure Cloud Shell\n",
    "client_id = \"04b07795-8ddb-461a-bbee-02f9e1bf7b46\" \n",
    "resource_app_id_url = \"https://database.windows.net/\" \n",
    "\n",
    "# Acquire user code\n",
    "code = context.acquire_user_code(resource_app_id_url, client_id)\n",
    "print(code['message'])  # Instructs user to authenticate\n",
    "\n",
    "# Acquire token with device code\n",
    "token = context.acquire_token_with_device_code(resource_app_id_url, code, client_id)\n",
    "access_token = token[\"accessToken\"]\n",
    "\n"
   ]
  },
  {
   "cell_type": "code",
   "execution_count": 0,
   "metadata": {
    "application/vnd.databricks.v1+cell": {
     "cellMetadata": {
      "byteLimit": 2048000,
      "rowLimit": 10000
     },
     "inputWidgets": {},
     "nuid": "ae4797dc-b34e-4808-a68a-00ad0b9781ad",
     "showTitle": false,
     "tableResultSettingsMap": {},
     "title": ""
    }
   },
   "outputs": [],
   "source": [
    "# 3\n",
    "\n",
    "# Read from mart, note table name is \"Schema.TableName\"\n",
    "\n",
    "# JDBC driver and connection info\n",
    "driver = \"com.microsoft.sqlserver.jdbc.spark\"\n",
    "url = \"jdbc:sqlserver://udalsqlmartprod.database.windows.net;databaseName=udal-sql-mart-qpat\"\n",
    "table_name = \"EROC.PEROC_Initial_Validation\"\n",
    "\n",
    "# Read table into Spark DataFrame\n",
    "df_raw  = spark.read \\\n",
    "       .format(\"jdbc\") \\\n",
    "       .option(\"url\", url) \\\n",
    "       .option(\"dbtable\", table_name) \\\n",
    "       .option(\"accessToken\", access_token) \\\n",
    "       .option(\"encrypt\", \"true\") \\\n",
    "       .option(\"hostNameInCertificate\", \"*.database.windows.net\") \\\n",
    "       .load()"
   ]
  },
  {
   "cell_type": "code",
   "execution_count": 0,
   "metadata": {
    "application/vnd.databricks.v1+cell": {
     "cellMetadata": {
      "byteLimit": 2048000,
      "rowLimit": 10000
     },
     "inputWidgets": {},
     "nuid": "ae693f38-afc8-492f-8ba8-d90cf2fe571f",
     "showTitle": false,
     "tableResultSettingsMap": {},
     "title": ""
    }
   },
   "outputs": [],
   "source": [
    "#df_raw.display()"
   ]
  },
  {
   "cell_type": "code",
   "execution_count": 0,
   "metadata": {
    "application/vnd.databricks.v1+cell": {
     "cellMetadata": {
      "byteLimit": 2048000,
      "rowLimit": 10000
     },
     "inputWidgets": {},
     "nuid": "adb2ae44-3018-45b9-a0aa-9ccfdca47db1",
     "showTitle": false,
     "tableResultSettingsMap": {
      "0": {
       "dataGridStateBlob": "{\"version\":1,\"tableState\":{\"columnPinning\":{\"left\":[\"#row_number#\"],\"right\":[]},\"columnSizing\":{},\"columnVisibility\":{}},\"settings\":{\"columns\":{}},\"syncTimestamp\":1752680790180}",
       "filterBlob": null,
       "queryPlanFiltersBlob": null,
       "tableResultIndex": 0
      }
     },
     "title": ""
    }
   },
   "outputs": [],
   "source": [
    "df_moved_discharged = (\n",
    "    df_raw\n",
    "    .where(F.col(\"EROC_DerMetric\").isin(\n",
    "        \"PIFUSRTMV01\", \"PIFUSRTDC01\", \"PIFUTOTAL01\", \"PIFUCOMP001\", \"PIFUBOOK001\", \"PIFUDNA0001\"\n",
    "    ))\n",
    "    .where(F.col(\"EROC_DerMonth\") > '2023-03-01')\n",
    "    #.where(F.col(\"EROC_Latest_Flag\") == 1)\n",
    "    .select(\n",
    "        \"EROC_DerMonth\",\n",
    "        \"EROC_DerProviderCode\",\n",
    "        \"EROC_DerTFC\",\n",
    "        \"RegionName\",\n",
    "        \"EROC_DerMetric\",\n",
    "        \"EROC_Value\",\n",
    "        \"EROC_Latest_Flag\",\n",
    "        \"Submission_type\"  \n",
    "    )\n",
    "    .orderBy(\"EROC_DerMonth\", \"EROC_DerProviderCode\")\n",
    ")\n",
    "\n",
    "display(df_moved_discharged)"
   ]
  },
  {
   "cell_type": "code",
   "execution_count": 0,
   "metadata": {
    "application/vnd.databricks.v1+cell": {
     "cellMetadata": {
      "byteLimit": 2048000,
      "rowLimit": 10000
     },
     "inputWidgets": {},
     "nuid": "6447cff6-669b-4df9-b6cb-b7eb1bb8596f",
     "showTitle": false,
     "tableResultSettingsMap": {},
     "title": ""
    }
   },
   "outputs": [],
   "source": [
    "df_moved_discharged.write.format('delta').mode('overwrite').option('mergeSchema', 'true').option('overwriteSchema', 'true').save('abfss://analytics-projects@udalstdataanalysisprod.dfs.core.windows.net/ElectiveRecovery/Projects/PIFU_Validation')"
   ]
  },
  {
   "cell_type": "code",
   "execution_count": 0,
   "metadata": {
    "application/vnd.databricks.v1+cell": {
     "cellMetadata": {
      "byteLimit": 2048000,
      "rowLimit": 10000
     },
     "inputWidgets": {},
     "nuid": "4e421cfd-d92c-4ec3-8076-05e4f6b73abe",
     "showTitle": false,
     "tableResultSettingsMap": {},
     "title": ""
    }
   },
   "outputs": [],
   "source": [
    "#df_moved_discharged.display()\n"
   ]
  }
 ],
 "metadata": {
  "application/vnd.databricks.v1+notebook": {
   "computePreferences": null,
   "dashboards": [
    {
     "elements": [],
     "globalVars": {},
     "guid": "",
     "layoutOption": {
      "grid": true,
      "stack": true
     },
     "nuid": "c5f09722-0d07-4376-8a01-ad28dc5b6006",
     "origId": 8817929959264318,
     "title": "PEROC - Moved & Discharged",
     "version": "DashboardViewV1",
     "width": 1024
    }
   ],
   "environmentMetadata": {
    "base_environment": "",
    "environment_version": "2"
   },
   "inputWidgetPreferences": null,
   "language": "python",
   "notebookMetadata": {
    "mostRecentlyExecutedCommandWithImplicitDF": {
     "commandId": 7539888513478830,
     "dataframes": [
      "_sqldf"
     ]
    },
    "pythonIndentUnit": 4
   },
   "notebookName": "qpat_load",
   "widgets": {
    "1_Provider": {
     "currentValue": "R0A",
     "nuid": "7ee29dc8-bca7-4825-a262-9143a5c35c2d",
     "typedWidgetInfo": {
      "autoCreated": false,
      "defaultValue": "All",
      "label": null,
      "name": "1_Provider",
      "options": {
       "widgetDisplayType": "Dropdown",
       "choices": [
        "All",
        "NQT",
        "NT219",
        "R0A",
        "R0B",
        "R0D",
        "R1D",
        "R1F",
        "R1H",
        "R1K",
        "RA2",
        "RA7",
        "RA9",
        "RAE",
        "RAJ",
        "RAL",
        "RAN",
        "RAS",
        "RAX",
        "RBD",
        "RBK",
        "RBL",
        "RBN",
        "RBQ",
        "RBS",
        "RBT",
        "RC9",
        "RCB",
        "RCD",
        "RCF",
        "RCU",
        "RCX",
        "RD1",
        "RD8",
        "RDE",
        "RDU",
        "RDY",
        "REF",
        "REM",
        "REN",
        "REP",
        "RET",
        "RF4",
        "RFF",
        "RFR",
        "RFS",
        "RGM",
        "RGN",
        "RGP",
        "RGR",
        "RGT",
        "RH5",
        "RH8",
        "RHA",
        "RHM",
        "RHQ",
        "RHU",
        "RHW",
        "RJ1",
        "RJ2",
        "RJ6",
        "RJ7",
        "RJC",
        "RJE",
        "RJL",
        "RJN",
        "RJR",
        "RJZ",
        "RK5",
        "RK9",
        "RKB",
        "RKE",
        "RL1",
        "RL4",
        "RLQ",
        "RLT",
        "RM1",
        "RM3",
        "RMC",
        "RMP",
        "RN3",
        "RN5",
        "RN7",
        "RNA",
        "RNN",
        "RNQ",
        "RNS",
        "RNZ",
        "RP1",
        "RP4",
        "RP5",
        "RP6",
        "RPA",
        "RPC",
        "RPY",
        "RQ3",
        "RQM",
        "RQW",
        "RQX",
        "RR7",
        "RR8",
        "RRE",
        "RRF",
        "RRJ",
        "RRK",
        "RRV",
        "RTD",
        "RTE",
        "RTF",
        "RTG",
        "RTH",
        "RTK",
        "RTP",
        "RTR",
        "RTX",
        "RVJ",
        "RVR",
        "RVV",
        "RVW",
        "RW1",
        "RWA",
        "RWD",
        "RWE",
        "RWF",
        "RWG",
        "RWH",
        "RWJ",
        "RWP",
        "RWW",
        "RWY",
        "RX1",
        "RXC",
        "RXF",
        "RXK",
        "RXL",
        "RXN",
        "RXP",
        "RXQ",
        "RXR",
        "RXW",
        "RYJ",
        "RYR",
        "RYW"
       ],
       "fixedDomain": true,
       "multiselect": false
      },
      "parameterDataType": "String"
     },
     "widgetInfo": {
      "widgetType": "dropdown",
      "defaultValue": "All",
      "label": null,
      "name": "1_Provider",
      "options": {
       "widgetType": "dropdown",
       "autoCreated": false,
       "choices": [
        "All",
        "NQT",
        "NT219",
        "R0A",
        "R0B",
        "R0D",
        "R1D",
        "R1F",
        "R1H",
        "R1K",
        "RA2",
        "RA7",
        "RA9",
        "RAE",
        "RAJ",
        "RAL",
        "RAN",
        "RAS",
        "RAX",
        "RBD",
        "RBK",
        "RBL",
        "RBN",
        "RBQ",
        "RBS",
        "RBT",
        "RC9",
        "RCB",
        "RCD",
        "RCF",
        "RCU",
        "RCX",
        "RD1",
        "RD8",
        "RDE",
        "RDU",
        "RDY",
        "REF",
        "REM",
        "REN",
        "REP",
        "RET",
        "RF4",
        "RFF",
        "RFR",
        "RFS",
        "RGM",
        "RGN",
        "RGP",
        "RGR",
        "RGT",
        "RH5",
        "RH8",
        "RHA",
        "RHM",
        "RHQ",
        "RHU",
        "RHW",
        "RJ1",
        "RJ2",
        "RJ6",
        "RJ7",
        "RJC",
        "RJE",
        "RJL",
        "RJN",
        "RJR",
        "RJZ",
        "RK5",
        "RK9",
        "RKB",
        "RKE",
        "RL1",
        "RL4",
        "RLQ",
        "RLT",
        "RM1",
        "RM3",
        "RMC",
        "RMP",
        "RN3",
        "RN5",
        "RN7",
        "RNA",
        "RNN",
        "RNQ",
        "RNS",
        "RNZ",
        "RP1",
        "RP4",
        "RP5",
        "RP6",
        "RPA",
        "RPC",
        "RPY",
        "RQ3",
        "RQM",
        "RQW",
        "RQX",
        "RR7",
        "RR8",
        "RRE",
        "RRF",
        "RRJ",
        "RRK",
        "RRV",
        "RTD",
        "RTE",
        "RTF",
        "RTG",
        "RTH",
        "RTK",
        "RTP",
        "RTR",
        "RTX",
        "RVJ",
        "RVR",
        "RVV",
        "RVW",
        "RW1",
        "RWA",
        "RWD",
        "RWE",
        "RWF",
        "RWG",
        "RWH",
        "RWJ",
        "RWP",
        "RWW",
        "RWY",
        "RX1",
        "RXC",
        "RXF",
        "RXK",
        "RXL",
        "RXN",
        "RXP",
        "RXQ",
        "RXR",
        "RXW",
        "RYJ",
        "RYR",
        "RYW"
       ]
      }
     }
    },
    "2_Metric": {
     "currentValue": "All",
     "nuid": "c2b194b5-2238-4e1b-8435-633f647f4af7",
     "typedWidgetInfo": {
      "autoCreated": false,
      "defaultValue": "All",
      "label": null,
      "name": "2_Metric",
      "options": {
       "widgetDisplayType": "Dropdown",
       "choices": [
        "All",
        "PIFUSRTDC01",
        "PIFUSRTMV01"
       ],
       "fixedDomain": true,
       "multiselect": false
      },
      "parameterDataType": "String"
     },
     "widgetInfo": {
      "widgetType": "dropdown",
      "defaultValue": "All",
      "label": null,
      "name": "2_Metric",
      "options": {
       "widgetType": "dropdown",
       "autoCreated": false,
       "choices": [
        "All",
        "PIFUSRTDC01",
        "PIFUSRTMV01"
       ]
      }
     }
    },
    "3_StartDate": {
     "currentValue": "2023-04-01",
     "nuid": "72eb1590-c542-4804-8300-9b104700936d",
     "typedWidgetInfo": {
      "autoCreated": false,
      "defaultValue": "2023-04-01",
      "label": null,
      "name": "3_StartDate",
      "options": {
       "widgetDisplayType": "Text",
       "validationRegex": null
      },
      "parameterDataType": "String"
     },
     "widgetInfo": {
      "widgetType": "text",
      "defaultValue": "2023-04-01",
      "label": null,
      "name": "3_StartDate",
      "options": {
       "widgetType": "text",
       "autoCreated": false,
       "validationRegex": null
      }
     }
    },
    "4_EndDate": {
     "currentValue": "2025-06-01",
     "nuid": "06e619af-28ff-48e8-943a-c4aec4d1223b",
     "typedWidgetInfo": {
      "autoCreated": false,
      "defaultValue": "2026-01-01",
      "label": null,
      "name": "4_EndDate",
      "options": {
       "widgetDisplayType": "Text",
       "validationRegex": null
      },
      "parameterDataType": "String"
     },
     "widgetInfo": {
      "widgetType": "text",
      "defaultValue": "2026-01-01",
      "label": null,
      "name": "4_EndDate",
      "options": {
       "widgetType": "text",
       "autoCreated": false,
       "validationRegex": null
      }
     }
    }
   }
  },
  "language_info": {
   "name": "python"
  }
 },
 "nbformat": 4,
 "nbformat_minor": 0
}
