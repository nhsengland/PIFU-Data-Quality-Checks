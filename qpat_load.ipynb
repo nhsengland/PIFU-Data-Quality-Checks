{
 "cells": [
  {
   "cell_type": "code",
   "execution_count": 0,
   "metadata": {
    "application/vnd.databricks.v1+cell": {
     "cellMetadata": {
      "byteLimit": 2048000,
      "rowLimit": 10000
     },
     "inputWidgets": {},
     "nuid": "083b2cdc-cf51-4822-8be9-8d0c920f5e85",
     "showTitle": false,
     "tableResultSettingsMap": {},
     "title": ""
    }
   },
   "outputs": [],
   "source": [
    "#0 used for removing old filters etc\n",
    "#dbutils.widgets.removeAll()"
   ]
  },
  {
   "cell_type": "markdown",
   "metadata": {
    "application/vnd.databricks.v1+cell": {
     "cellMetadata": {},
     "inputWidgets": {},
     "nuid": "f863dc70-bdac-4490-97f2-f74a795deb3d",
     "showTitle": false,
     "tableResultSettingsMap": {},
     "title": ""
    }
   },
   "source": [
    "The ADAL package needs to be installed to help connect with qpat data mart &darr;"
   ]
  },
  {
   "cell_type": "code",
   "execution_count": 0,
   "metadata": {
    "application/vnd.databricks.v1+cell": {
     "cellMetadata": {
      "byteLimit": 2048000,
      "rowLimit": 10000
     },
     "inputWidgets": {},
     "nuid": "23c9911c-ef5d-4728-a61e-6518599290e8",
     "showTitle": false,
     "tableResultSettingsMap": {},
     "title": ""
    }
   },
   "outputs": [],
   "source": [
    "#1 Install ADAL (Azure Active Directory Authentication Library)\n",
    "\n",
    "%pip install adal"
   ]
  },
  {
   "cell_type": "code",
   "execution_count": 0,
   "metadata": {
    "application/vnd.databricks.v1+cell": {
     "cellMetadata": {
      "byteLimit": 2048000,
      "rowLimit": 10000
     },
     "inputWidgets": {},
     "nuid": "6b23f9ed-cd88-49e6-a0d3-47b52e205d6c",
     "showTitle": false,
     "tableResultSettingsMap": {},
     "title": ""
    }
   },
   "outputs": [],
   "source": [
    "#2 Import the tools  (from env import env, not used for this notebook)\n",
    "\n",
    "from src import utils, excel\n",
    "\n",
    "import openpyxl\n",
    "import pandas as pd\n",
    "\n",
    "from pyspark.sql import functions as F\n",
    "from datetime import datetime\n",
    "from openpyxl.styles import NamedStyle"
   ]
  },
  {
   "cell_type": "markdown",
   "metadata": {
    "application/vnd.databricks.v1+cell": {
     "cellMetadata": {},
     "inputWidgets": {},
     "nuid": "34dbd5a2-e5a4-47bf-8e99-e0274ec73cd5",
     "showTitle": false,
     "tableResultSettingsMap": {},
     "title": ""
    }
   },
   "source": [
    "This will create a pop up with a discrete code that is required to be entered by following the link that pops up to the left of the code. It is used to authenticate access to qpat &darr;"
   ]
  },
  {
   "cell_type": "code",
   "execution_count": 0,
   "metadata": {
    "application/vnd.databricks.v1+cell": {
     "cellMetadata": {
      "byteLimit": 2048000,
      "rowLimit": 10000
     },
     "inputWidgets": {},
     "nuid": "35ebfcbe-2c07-4fa8-b13b-673245b5b9ba",
     "showTitle": false,
     "tableResultSettingsMap": {},
     "title": ""
    }
   },
   "outputs": [],
   "source": [
    "# 3 A pop up will require the key code for authentication\n",
    "\n",
    "# Mart authentication\n",
    "# Note: 'adal' is deprecated; consider using 'msal' for long-term use.\n",
    "\n",
    "import adal  # ← Required import\n",
    "\n",
    "# Set MS context\n",
    "tenant = \"common\" \n",
    "authority = f\"https://login.microsoftonline.com/{tenant}\" \n",
    "context = adal.AuthenticationContext(authority)\n",
    "\n",
    "# Client ID for Azure Cloud Shell\n",
    "client_id = \"04b07795-8ddb-461a-bbee-02f9e1bf7b46\" \n",
    "resource_app_id_url = \"https://database.windows.net/\" \n",
    "\n",
    "# Acquire user code\n",
    "code = context.acquire_user_code(resource_app_id_url, client_id)\n",
    "print(code['message'])  # Instructs user to authenticate\n",
    "\n",
    "# Acquire token with device code\n",
    "token = context.acquire_token_with_device_code(resource_app_id_url, code, client_id)\n",
    "access_token = token[\"accessToken\"]\n",
    "\n"
   ]
  },
  {
   "cell_type": "code",
   "execution_count": 0,
   "metadata": {
    "application/vnd.databricks.v1+cell": {
     "cellMetadata": {
      "byteLimit": 2048000,
      "rowLimit": 10000
     },
     "inputWidgets": {},
     "nuid": "ae4797dc-b34e-4808-a68a-00ad0b9781ad",
     "showTitle": false,
     "tableResultSettingsMap": {},
     "title": ""
    }
   },
   "outputs": [],
   "source": [
    "#4  Read from mart, note table name is \"Schema.TableName\" ie; \"EROC.PEROC_Initial_Validation\"\n",
    "\n",
    "# JDBC driver and connection info\n",
    "driver = \"com.microsoft.sqlserver.jdbc.spark\"\n",
    "url = \"jdbc:sqlserver://udalsqlmartprod.database.windows.net;databaseName=udal-sql-mart-qpat\"\n",
    "table_name = \"EROC.PEROC_Initial_Validation\"\n",
    "\n",
    "# Read table into Spark DataFrame\n",
    "df_raw  = spark.read \\\n",
    "       .format(\"jdbc\") \\\n",
    "       .option(\"url\", url) \\\n",
    "       .option(\"dbtable\", table_name) \\\n",
    "       .option(\"accessToken\", access_token) \\\n",
    "       .option(\"encrypt\", \"true\") \\\n",
    "       .option(\"hostNameInCertificate\", \"*.database.windows.net\") \\\n",
    "       .load()"
   ]
  },
  {
   "cell_type": "code",
   "execution_count": 0,
   "metadata": {
    "application/vnd.databricks.v1+cell": {
     "cellMetadata": {
      "byteLimit": 2048000,
      "rowLimit": 10000
     },
     "inputWidgets": {},
     "nuid": "ae693f38-afc8-492f-8ba8-d90cf2fe571f",
     "showTitle": false,
     "tableResultSettingsMap": {},
     "title": ""
    }
   },
   "outputs": [],
   "source": [
    "#df_raw.display()"
   ]
  },
  {
   "cell_type": "code",
   "execution_count": 0,
   "metadata": {
    "application/vnd.databricks.v1+cell": {
     "cellMetadata": {
      "byteLimit": 2048000,
      "rowLimit": 10000
     },
     "inputWidgets": {},
     "nuid": "adb2ae44-3018-45b9-a0aa-9ccfdca47db1",
     "showTitle": false,
     "tableResultSettingsMap": {},
     "title": ""
    }
   },
   "outputs": [],
   "source": [
    "#5 defining what metrics and what columns to bring back from the qpat table\n",
    "df_moved_discharged = (\n",
    "    df_raw\n",
    "    .where(F.col(\"EROC_DerMetric\").isin(\n",
    "        \"PIFUSRTMV01\", \"PIFUSRTDC01\", \"PIFUTOTAL01\", \"PIFUCOMP001\", \"PIFUBOOK001\", \"PIFUDNA0001\"\n",
    "    ))\n",
    "    .where(F.col(\"EROC_DerMonth\") > '2023-03-01')\n",
    "    #.where(F.col(\"EROC_Latest_Flag\") == 1) Now need both flags so that a comparison can be made previous v current\n",
    "    .select(\n",
    "        \"EROC_DerMonth\",\n",
    "        \"EROC_DerProviderCode\",\n",
    "        \"EROC_DerTFC\",\n",
    "        \"RegionName\",\n",
    "        \"EROC_DerMetric\",\n",
    "        \"EROC_Value\",\n",
    "        \"EROC_Latest_Flag\",\n",
    "        \"Submission_type\"  \n",
    "    )\n",
    "    .orderBy(\"EROC_DerMonth\", \"EROC_DerProviderCode\")\n",
    ")\n",
    "\n",
    "#display(df_moved_discharged)"
   ]
  },
  {
   "cell_type": "code",
   "execution_count": 0,
   "metadata": {
    "application/vnd.databricks.v1+cell": {
     "cellMetadata": {
      "byteLimit": 2048000,
      "rowLimit": 10000
     },
     "inputWidgets": {},
     "nuid": "ee28e201-2490-44e6-b9fd-f41391501b00",
     "showTitle": false,
     "tableResultSettingsMap": {},
     "title": ""
    }
   },
   "outputs": [],
   "source": [
    "#6 Reducing risk of a timeout, sometimes it takes a while to save the file so this needed to prevent timeouts\n",
    "spark.conf.set(\"spark.databricks.io.timeout\", \"600s\")"
   ]
  },
  {
   "cell_type": "code",
   "execution_count": 0,
   "metadata": {
    "application/vnd.databricks.v1+cell": {
     "cellMetadata": {
      "byteLimit": 2048000,
      "rowLimit": 10000
     },
     "inputWidgets": {},
     "nuid": "6447cff6-669b-4df9-b6cb-b7eb1bb8596f",
     "showTitle": false,
     "tableResultSettingsMap": {},
     "title": ""
    }
   },
   "outputs": [],
   "source": [
    "#7 Creates a delta file to save in storage explorer which gives the best performance when chart building\n",
    "df_moved_discharged.write.format('delta').mode('overwrite').option('mergeSchema', 'true').option('overwriteSchema', 'true').save('abfss://analytics-projects@udalstdataanalysisprod.dfs.core.windows.net/ElectiveRecovery/Projects/PIFU_Validation')"
   ]
  },
  {
   "cell_type": "code",
   "execution_count": 0,
   "metadata": {
    "application/vnd.databricks.v1+cell": {
     "cellMetadata": {
      "byteLimit": 2048000,
      "rowLimit": 10000
     },
     "inputWidgets": {},
     "nuid": "7fc71559-b1a0-4651-ad33-ffd3ed36a27b",
     "showTitle": false,
     "tableResultSettingsMap": {},
     "title": ""
    }
   },
   "outputs": [],
   "source": [
    "#8 Creates a .csv file if required but current not required\n",
    "#df_moved_discharged.coalesce(1).write.mode('overwrite').option('header', 'true').csv('abfss://analytics-projects@udalstdataanalysisprod.dfs.core.windows.net/ElectiveRecovery/Projects/PIFU_QA_File')"
   ]
  },
  {
   "cell_type": "code",
   "execution_count": 0,
   "metadata": {
    "application/vnd.databricks.v1+cell": {
     "cellMetadata": {
      "byteLimit": 2048000,
      "rowLimit": 10000
     },
     "inputWidgets": {},
     "nuid": "4e421cfd-d92c-4ec3-8076-05e4f6b73abe",
     "showTitle": false,
     "tableResultSettingsMap": {},
     "title": ""
    }
   },
   "outputs": [],
   "source": [
    "#df_moved_discharged.display()\n"
   ]
  }
 ],
 "metadata": {
  "application/vnd.databricks.v1+notebook": {
   "computePreferences": null,
   "dashboards": [
    {
     "elements": [],
     "globalVars": {},
     "guid": "",
     "layoutOption": {
      "grid": true,
      "stack": true
     },
     "nuid": "c5f09722-0d07-4376-8a01-ad28dc5b6006",
     "origId": 6750421065392514,
     "title": "PEROC - Moved & Discharged",
     "version": "DashboardViewV1",
     "width": 1024
    }
   ],
   "environmentMetadata": {
    "base_environment": "",
    "environment_version": "2"
   },
   "inputWidgetPreferences": null,
   "language": "python",
   "notebookMetadata": {
    "mostRecentlyExecutedCommandWithImplicitDF": {
     "commandId": 7539888513478830,
     "dataframes": [
      "_sqldf"
     ]
    },
    "pythonIndentUnit": 4
   },
   "notebookName": "qpat_load",
   "widgets": {}
  },
  "language_info": {
   "name": "python"
  }
 },
 "nbformat": 4,
 "nbformat_minor": 0
}
